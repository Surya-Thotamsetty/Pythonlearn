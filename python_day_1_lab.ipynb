{
  "nbformat": 4,
  "nbformat_minor": 0,
  "metadata": {
    "colab": {
      "provenance": [],
      "authorship_tag": "ABX9TyONUoOgSvaWSHSOufW+o11R",
      "include_colab_link": true
    },
    "kernelspec": {
      "name": "python3",
      "display_name": "Python 3"
    },
    "language_info": {
      "name": "python"
    }
  },
  "cells": [
    {
      "cell_type": "markdown",
      "metadata": {
        "id": "view-in-github",
        "colab_type": "text"
      },
      "source": [
        "<a href=\"https://colab.research.google.com/github/Surya-Thotamsetty/Pythonlearn/blob/main/python_day_1_lab.ipynb\" target=\"_parent\"><img src=\"https://colab.research.google.com/assets/colab-badge.svg\" alt=\"Open In Colab\"/></a>"
      ]
    },
    {
      "cell_type": "code",
      "execution_count": null,
      "metadata": {
        "colab": {
          "base_uri": "https://localhost:8080/"
        },
        "id": "T_VlErORs93R",
        "outputId": "9f463f7f-bc44-4aac-f2d3-cad80e2bb486"
      },
      "outputs": [
        {
          "output_type": "stream",
          "name": "stdout",
          "text": [
            "enter the cost price45\n",
            "enter the selling price56\n",
            "the profit is  11\n"
          ]
        }
      ],
      "source": [
        "cp=int(input(\"enter the cost price \"))\n",
        "sp=int(input(\"enter the selling price \"))\n",
        "profit=sp-cp\n",
        "print(\"the profit is \",profit)"
      ]
    },
    {
      "cell_type": "code",
      "source": [
        "a=int(input(\"enter a number\"))\n",
        "square=a*a\n",
        "cube=a*a*a\n",
        "print(square)\n",
        "print(cube)"
      ],
      "metadata": {
        "colab": {
          "base_uri": "https://localhost:8080/"
        },
        "id": "CJmS01h4twdV",
        "outputId": "96847e7c-e2f0-4223-eab5-869f9388a5a0"
      },
      "execution_count": null,
      "outputs": [
        {
          "output_type": "stream",
          "name": "stdout",
          "text": [
            "enter a number4\n",
            "16\n",
            "64\n"
          ]
        }
      ]
    },
    {
      "cell_type": "code",
      "source": [
        "a=int(input(\"enter the marks of 1st student\"))\n",
        "b=int(input(\"enter the marks of 2nd student\"))\n",
        "c=int(input(\"enter the marks of 3rd student\"))\n",
        "#d=int(input(\"enter the marks of 4rth student\"))\n",
        "#e=int(input(\"enter the marks of 5th student\"))\n",
        "avg=(a+b+c)/3\n",
        "print(\"the avg of the marks is %.8f\"%(avg))\n"
      ],
      "metadata": {
        "colab": {
          "base_uri": "https://localhost:8080/"
        },
        "id": "KxBsVmjYw5xT",
        "outputId": "bc2864cb-fdda-41cb-a038-7cd6ba0ad854"
      },
      "execution_count": null,
      "outputs": [
        {
          "output_type": "stream",
          "name": "stdout",
          "text": [
            "enter the marks of 1st student23\n",
            "enter the marks of 2nd student45\n",
            "enter the marks of 3rd student67\n",
            "the avg of the marks is 45.00000000\n"
          ]
        }
      ]
    },
    {
      "cell_type": "code",
      "source": [
        "a=float(input(\"enter a number\"))\n",
        "b=float(input(\"enter a number\"))\n",
        "add=a+b\n",
        "print(\"the sum of a and b is %.2f\"%(add))\n",
        "sub=a-b\n",
        "print(\"the sub of a and b is %.2f\"%(sub))\n",
        "mul=a*b\n",
        "print(\"the mul of a and b is %.2f\"%(mul))\n",
        "div=a/b\n",
        "print(\"the div of a and b is %.2f\"%(div))"
      ],
      "metadata": {
        "colab": {
          "base_uri": "https://localhost:8080/"
        },
        "id": "sxQca1gq2NzR",
        "outputId": "dfc1df4c-b4ca-41fb-a1c0-afbdb050d651"
      },
      "execution_count": null,
      "outputs": [
        {
          "output_type": "stream",
          "name": "stdout",
          "text": [
            "enter a number34.56\n",
            "enter a number54.3456\n",
            "the sum of a and b is 88.91\n",
            "the sub of a and b is -19.79\n",
            "the mul of a and b is 1878.18\n",
            "the div of a and b is 0.64\n"
          ]
        }
      ]
    },
    {
      "cell_type": "code",
      "source": [
        "a=45\n",
        "b=556.7\n",
        "print(a>b)\n",
        "print(a<b)\n",
        "print(a>=b)\n",
        "print(a<=b)\n",
        "print(a==b)\n",
        "print(a!=b)\n",
        "\n"
      ],
      "metadata": {
        "colab": {
          "base_uri": "https://localhost:8080/"
        },
        "id": "yekZ2-0K3Xx8",
        "outputId": "5c9bf8f4-b687-4fe9-f88c-8fdae9d852ef"
      },
      "execution_count": null,
      "outputs": [
        {
          "output_type": "stream",
          "name": "stdout",
          "text": [
            "False\n",
            "True\n",
            "False\n",
            "True\n",
            "False\n",
            "True\n"
          ]
        }
      ]
    },
    {
      "cell_type": "code",
      "source": [
        "num=1234\n",
        "r1=(num%10)\n",
        "print(r1)\n",
        "n1=(num//10)\n",
        "print(n1)\n",
        "r2=(n1%10)\n",
        "print(r2)\n",
        "n2=(n1//10)\n",
        "print(n2)\n",
        "r3=(n2%10)\n",
        "print(r3)\n",
        "n3=(n2//10)\n",
        "print(n3)\n",
        "r4=(n3%10)\n",
        "print(r4)\n",
        "n4=(n3//10)\n",
        "print(n4)\n",
        "print(r1,r2,r3,r4)\n"
      ],
      "metadata": {
        "colab": {
          "base_uri": "https://localhost:8080/"
        },
        "id": "Sd-l681w37mV",
        "outputId": "1cc0ba87-48ff-459e-b113-cc1db6a756ba"
      },
      "execution_count": null,
      "outputs": [
        {
          "output_type": "stream",
          "name": "stdout",
          "text": [
            "4\n",
            "123\n",
            "3\n",
            "12\n",
            "2\n",
            "1\n",
            "1\n",
            "0\n",
            "4 3 2 1\n"
          ]
        }
      ]
    },
    {
      "cell_type": "code",
      "source": [
        "x1=int(input(\"enter a num\"))\n",
        "x2=int(input(\"enter a num\"))\n",
        "b=(x2-x1)**2\n",
        "y1=int(input(\"enter a num\"))\n",
        "y2=int(input(\"enter a num\"))\n",
        "c=(y2-y1)**2\n",
        "d=b+c\n",
        "a=d\n",
        "print(d)\n",
        "\n",
        "\n",
        "\n",
        "x1,x2,x3,x4=3,4,5,6\n",
        "exp=\"(x2-x1)**2+(y2-y1)**2\"\n",
        "eval(exp)"
      ],
      "metadata": {
        "colab": {
          "base_uri": "https://localhost:8080/"
        },
        "id": "mi5tcuDFAq0b",
        "outputId": "312a545e-ad46-4d87-af78-9c71c46294a3"
      },
      "execution_count": null,
      "outputs": [
        {
          "output_type": "stream",
          "name": "stdout",
          "text": [
            "enter a num3\n",
            "enter a num4\n",
            "enter a num5\n",
            "enter a num6\n",
            "2\n"
          ]
        },
        {
          "output_type": "execute_result",
          "data": {
            "text/plain": [
              "2"
            ]
          },
          "metadata": {},
          "execution_count": 49
        }
      ]
    },
    {
      "cell_type": "code",
      "source": [
        "name=input(\"enter your name\")\n",
        "number=input(\"enter a 7 digit number\")\n",
        "print(name+number[-2:])"
      ],
      "metadata": {
        "colab": {
          "base_uri": "https://localhost:8080/"
        },
        "id": "fz9wVT98CJG7",
        "outputId": "78348f6a-4182-479d-e179-2115bddbda35"
      },
      "execution_count": null,
      "outputs": [
        {
          "output_type": "stream",
          "name": "stdout",
          "text": [
            "enter your namesurya\n",
            "enter a 7 digit number1234567\n",
            "surya67\n"
          ]
        }
      ]
    },
    {
      "cell_type": "code",
      "source": [
        "a=int(input(\"how many bottles u have less than 1 lt\"))\n",
        "b=int(input(\"how many bottles u have more than 1 lt\"))\n",
        "refund=0.2*b+0.1*a\n",
        "print(\"total refund is $\",refund)"
      ],
      "metadata": {
        "colab": {
          "base_uri": "https://localhost:8080/"
        },
        "id": "JVuPk7hMHygE",
        "outputId": "bb4f8f01-63d5-4b2f-8d9d-414a053dcd1d"
      },
      "execution_count": null,
      "outputs": [
        {
          "output_type": "stream",
          "name": "stdout",
          "text": [
            "how many bottles u have less than 1 lt2\n",
            "how many bottles u have more than 1 lt5\n",
            "total refund is $ 1.2\n"
          ]
        }
      ]
    }
  ]
}
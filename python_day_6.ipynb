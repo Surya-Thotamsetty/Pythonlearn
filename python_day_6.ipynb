{
  "nbformat": 4,
  "nbformat_minor": 0,
  "metadata": {
    "colab": {
      "provenance": [],
      "authorship_tag": "ABX9TyPmyZimyuDQ0mQJdR/HrThp",
      "include_colab_link": true
    },
    "kernelspec": {
      "name": "python3",
      "display_name": "Python 3"
    },
    "language_info": {
      "name": "python"
    }
  },
  "cells": [
    {
      "cell_type": "markdown",
      "metadata": {
        "id": "view-in-github",
        "colab_type": "text"
      },
      "source": [
        "<a href=\"https://colab.research.google.com/github/Surya-Thotamsetty/Pythonlearn/blob/main/python_day_6.ipynb\" target=\"_parent\"><img src=\"https://colab.research.google.com/assets/colab-badge.svg\" alt=\"Open In Colab\"/></a>"
      ]
    },
    {
      "cell_type": "code",
      "execution_count": 4,
      "metadata": {
        "colab": {
          "base_uri": "https://localhost:8080/"
        },
        "id": "jh-gqQD8lPLy",
        "outputId": "39712351-434c-49cd-ecea-747ffce27866"
      },
      "outputs": [
        {
          "output_type": "stream",
          "name": "stdout",
          "text": [
            "tell me about ur self surya\n",
            "my self surya of CSE IOT\n"
          ]
        }
      ],
      "source": [
        "#functions\n",
        "\n",
        "def surya():\n",
        "  a=input(\"tell me about ur self \")\n",
        "  print('my self {} of CSE IOT'.format(a))\n",
        "surya()"
      ]
    },
    {
      "cell_type": "code",
      "source": [
        "sum=0\n",
        "for i in range(1,26):\n",
        "  sum=sum+i\n",
        "print(sum)\n",
        "count=0\n",
        "for j in range(50,77):\n",
        "  count=count+j\n",
        "print(count)\n",
        "add=0\n",
        "for k in range(90,102):\n",
        "  add=add+k\n",
        "print(add)"
      ],
      "metadata": {
        "colab": {
          "base_uri": "https://localhost:8080/"
        },
        "id": "-el9sc0Jmi6p",
        "outputId": "c154a180-504c-48a5-eb27-b0c1352cd6e8"
      },
      "execution_count": 13,
      "outputs": [
        {
          "output_type": "stream",
          "name": "stdout",
          "text": [
            "325\n",
            "1701\n",
            "1146\n"
          ]
        }
      ]
    },
    {
      "cell_type": "code",
      "source": [
        "def sum(x,y):\n",
        "  s=0\n",
        "  for i in range(x,y+1):\n",
        "    s=s+i\n",
        "  print(\"sum of integers from\" ,x, \"to \",y, \"is\", s)\n",
        "sum(1,25)\n",
        "sum(50,76)\n",
        "sum(90,101)\n"
      ],
      "metadata": {
        "colab": {
          "base_uri": "https://localhost:8080/"
        },
        "id": "4J0vTIefo3OB",
        "outputId": "510bac37-599e-432f-e325-7c728495e307"
      },
      "execution_count": 15,
      "outputs": [
        {
          "output_type": "stream",
          "name": "stdout",
          "text": [
            "sum of integers from 1 to  25 is 325\n",
            "sum of integers from 50 to  76 is 1701\n",
            "sum of integers from 90 to  101 is 1146\n"
          ]
        }
      ]
    },
    {
      "cell_type": "code",
      "source": [
        "def max(a,b):\n",
        "  print(\"num1=\",a)\n",
        "  print(\"num2=\",b)\n",
        "  if a>b:\n",
        "    print(\"a is greates {}\".format(a))\n",
        "  elif b>a:\n",
        "    print(\"b is greater {}\".format(b))\n",
        "  else:\n",
        "    print(\"a is equal to b \")\n",
        "max(43,54)"
      ],
      "metadata": {
        "colab": {
          "base_uri": "https://localhost:8080/"
        },
        "id": "hU4dP83Sp_zW",
        "outputId": "64b9a8b2-12bd-4eba-e865-0e0d72de1466"
      },
      "execution_count": 17,
      "outputs": [
        {
          "output_type": "stream",
          "name": "stdout",
          "text": [
            "num1= 43\n",
            "num2= 54\n",
            "b is greater 54\n"
          ]
        }
      ]
    },
    {
      "cell_type": "code",
      "source": [
        "def fact():\n",
        "  a=int(input(\"enter a number \"))\n",
        "  for i in range(1,a):\n",
        "    a=a*i\n",
        "  print(\"the factorial is\",a)\n",
        "  \n",
        "fact()\n"
      ],
      "metadata": {
        "colab": {
          "base_uri": "https://localhost:8080/"
        },
        "id": "zu44Lm7_qRuw",
        "outputId": "47d17330-5a50-459a-f6f0-d2af73e50bcf"
      },
      "execution_count": 25,
      "outputs": [
        {
          "output_type": "stream",
          "name": "stdout",
          "text": [
            "enter a number 6\n",
            "the factorial is 720\n"
          ]
        }
      ]
    },
    {
      "cell_type": "code",
      "source": [
        "def display(name,age):\n",
        "  print(\"name=\", name,\"age=\",age)\n",
        "display(20,\"surya\")\n",
        "display(\"mohan\",19)"
      ],
      "metadata": {
        "colab": {
          "base_uri": "https://localhost:8080/"
        },
        "id": "6wa1I1L-vREA",
        "outputId": "d02f409e-1616-4240-d4f5-ace95958e893"
      },
      "execution_count": 27,
      "outputs": [
        {
          "output_type": "stream",
          "name": "stdout",
          "text": [
            "name= 20 age= surya\n",
            "name= mohan age= 19\n"
          ]
        }
      ]
    },
    {
      "cell_type": "code",
      "source": [
        "def meet(name,say=\"speed 1 tb memory 1 gb\"):\n",
        "  print(\"hello world I am\",name,say)\n",
        "meet(\"surya\")"
      ],
      "metadata": {
        "colab": {
          "base_uri": "https://localhost:8080/"
        },
        "id": "ZcWGd7pIwcaV",
        "outputId": "764ccf56-8c0d-4cab-ff3b-6698f01def03"
      },
      "execution_count": 29,
      "outputs": [
        {
          "output_type": "stream",
          "name": "stdout",
          "text": [
            "hello world I am surya speed 1 tb memory 1 gb\n"
          ]
        }
      ]
    },
    {
      "cell_type": "code",
      "source": [
        "import math\n",
        "def area(r):\n",
        "  print(\"area of circle is\",math.pi*r*r)\n",
        "area(4)"
      ],
      "metadata": {
        "colab": {
          "base_uri": "https://localhost:8080/"
        },
        "id": "XOnH6TSRyRhj",
        "outputId": "a3dd6910-8130-436c-aa07-56638a279272"
      },
      "execution_count": 35,
      "outputs": [
        {
          "output_type": "stream",
          "name": "stdout",
          "text": [
            "area of circle is 50.26548245743669\n"
          ]
        }
      ]
    },
    {
      "cell_type": "code",
      "source": [
        "#local and global variables\n",
        "\n",
        "a=\"surya\"\n",
        "def name():\n",
        "  global a\n",
        "  a=\"mohan\"\n",
        "  print(\"i am {}\".format(a))\n",
        "name()\n",
        "print(\"i am {}\".format(a))"
      ],
      "metadata": {
        "colab": {
          "base_uri": "https://localhost:8080/"
        },
        "id": "crysCkGG0xJr",
        "outputId": "9813b749-0771-4fef-c0b7-099e0ba6e9bd"
      },
      "execution_count": 36,
      "outputs": [
        {
          "output_type": "stream",
          "name": "stdout",
          "text": [
            "i am mohan\n",
            "i am mohan\n"
          ]
        }
      ]
    },
    {
      "cell_type": "code",
      "source": [
        "def greater(a,b):\n",
        "  if a>b:\n",
        "    return a\n",
        "  elif a<b:\n",
        "    return b\n",
        "  else:\n",
        "    return \"both are equal\"\n",
        "  \n",
        "a=int(input(\"enter a \"))\n",
        "b=int(input(\"enter b \"))\n",
        "\n",
        "greater(a,b)"
      ],
      "metadata": {
        "colab": {
          "base_uri": "https://localhost:8080/"
        },
        "id": "_EbWwmas2G1Y",
        "outputId": "5087ec46-136e-4ad8-8efb-0ff35d900833"
      },
      "execution_count": 37,
      "outputs": [
        {
          "name": "stdout",
          "output_type": "stream",
          "text": [
            "enter a 4\n",
            "enter b 6\n"
          ]
        },
        {
          "output_type": "execute_result",
          "data": {
            "text/plain": [
              "6"
            ]
          },
          "metadata": {},
          "execution_count": 37
        }
      ]
    },
    {
      "cell_type": "code",
      "source": [
        "import math\n",
        "def distance(x1,x2,y1,y2):\n",
        "  a=x2-x1\n",
        "  b=y2-y1\n",
        "  X=a*a\n",
        "  Y=b*b\n",
        "  c=X+Y\n",
        "  v=math.sqrt(c)\n",
        "  return v\n",
        "x2=int(input(\"x2 is \"))\n",
        "x1=int(input(\"x1 is \"))\n",
        "y2=int(input(\"y2 is \"))\n",
        "y1=int(input(\"y1 is \"))\n",
        "print(\"distance is \",distance(x1,x2,y1,y2))"
      ],
      "metadata": {
        "colab": {
          "base_uri": "https://localhost:8080/"
        },
        "id": "7wYJ3Z2Y4C6n",
        "outputId": "48708a22-467b-4cbc-f891-1cf108bba280"
      },
      "execution_count": 45,
      "outputs": [
        {
          "output_type": "stream",
          "name": "stdout",
          "text": [
            "x2 is 4\n",
            "x1 is 2\n",
            "y2 is 4\n",
            "y1 is 2\n",
            "distance is  2.8284271247461903\n"
          ]
        }
      ]
    },
    {
      "cell_type": "code",
      "source": [
        "import math\n",
        "def dis(a,b,c):\n",
        "\n",
        "  d=pow(b,2)\n",
        "  e=d-4*a*c\n",
        "  if e>0:\n",
        "    return \"equation has 2 equal roots\"\n",
        "  elif d==0:\n",
        "    return \"the equation has one root\"\n",
        "  else:\n",
        "    return \"equation has 2 complex roots\"\n",
        "a=int(input())\n",
        "b=int(input())\n",
        "c=int(input())\n",
        "dis(a,b,c)\n"
      ],
      "metadata": {
        "colab": {
          "base_uri": "https://localhost:8080/",
          "height": 88
        },
        "id": "YZH1JNLiD4KI",
        "outputId": "590d0992-1052-4a5b-99c8-73310038cd94"
      },
      "execution_count": 55,
      "outputs": [
        {
          "name": "stdout",
          "output_type": "stream",
          "text": [
            "3\n",
            "245\n",
            "3\n"
          ]
        },
        {
          "output_type": "execute_result",
          "data": {
            "text/plain": [
              "'equation has 2 equal roots'"
            ],
            "application/vnd.google.colaboratory.intrinsic+json": {
              "type": "string"
            }
          },
          "metadata": {},
          "execution_count": 55
        }
      ]
    },
    {
      "cell_type": "code",
      "source": [
        "import math\n",
        "def dis():\n",
        "  a=int(input())\n",
        "  b=int(input())\n",
        "  c=int(input())\n",
        "  d=pow(b,2)\n",
        "  e=d-4*a*c\n",
        "  if e>0:\n",
        "    return \"equation has 2 equal roots\"\n",
        "  elif d==0:\n",
        "    return \"the equation has one root\"\n",
        "  else:\n",
        "    return \"equation has 2 complex roots\"\n",
        "\n",
        "print(dis())"
      ],
      "metadata": {
        "colab": {
          "base_uri": "https://localhost:8080/"
        },
        "id": "LhoMVPKAGkHh",
        "outputId": "16c5bfea-8104-4486-a321-f7560bbe4b1a"
      },
      "execution_count": 56,
      "outputs": [
        {
          "output_type": "stream",
          "name": "stdout",
          "text": [
            "2\n",
            "1\n",
            "2\n",
            "equation has 2 complex roots\n"
          ]
        }
      ]
    },
    {
      "cell_type": "code",
      "source": [
        "def cal():\n",
        "  a=int(input(\"\"))\n",
        "  b=int(input(\"\"))\n",
        "  return \"sum is =\",a+b, \"sub is= \",a-b\n",
        "print(cal())"
      ],
      "metadata": {
        "colab": {
          "base_uri": "https://localhost:8080/"
        },
        "id": "xq1Se5HiIFV2",
        "outputId": "76bf7f87-ae13-4579-8bd0-8d3a20c3df61"
      },
      "execution_count": 62,
      "outputs": [
        {
          "output_type": "stream",
          "name": "stdout",
          "text": [
            "3\n",
            "7\n",
            "('sum is =', 10, 'sub is= ', -4)\n"
          ]
        }
      ]
    },
    {
      "cell_type": "code",
      "source": [
        "#recurssive  is  calling the function by itself\n",
        "\n",
        "\n",
        "def fact():\n",
        "  n=int(input(\"\"))\n",
        "  if n==0:\n",
        "    return 1                               #when parameters are given cannot assign variable at the start\n",
        "  return n*fact(n-1)\n",
        "\n",
        "fact()"
      ],
      "metadata": {
        "colab": {
          "base_uri": "https://localhost:8080/",
          "height": 339
        },
        "id": "I6DoPNP1JLDY",
        "outputId": "b69056cc-a2d4-42a6-e6d8-81600a3da5cf"
      },
      "execution_count": 66,
      "outputs": [
        {
          "name": "stdout",
          "output_type": "stream",
          "text": [
            "4\n"
          ]
        },
        {
          "output_type": "error",
          "ename": "TypeError",
          "evalue": "ignored",
          "traceback": [
            "\u001b[0;31m---------------------------------------------------------------------------\u001b[0m",
            "\u001b[0;31mTypeError\u001b[0m                                 Traceback (most recent call last)",
            "\u001b[0;32m<ipython-input-66-59f57f5710c7>\u001b[0m in \u001b[0;36m<module>\u001b[0;34m\u001b[0m\n\u001b[1;32m      8\u001b[0m   \u001b[0;32mreturn\u001b[0m \u001b[0mn\u001b[0m\u001b[0;34m*\u001b[0m\u001b[0mfact\u001b[0m\u001b[0;34m(\u001b[0m\u001b[0mn\u001b[0m\u001b[0;34m-\u001b[0m\u001b[0;36m1\u001b[0m\u001b[0;34m)\u001b[0m\u001b[0;34m\u001b[0m\u001b[0;34m\u001b[0m\u001b[0m\n\u001b[1;32m      9\u001b[0m \u001b[0;34m\u001b[0m\u001b[0m\n\u001b[0;32m---> 10\u001b[0;31m \u001b[0mfact\u001b[0m\u001b[0;34m(\u001b[0m\u001b[0;34m)\u001b[0m\u001b[0;34m\u001b[0m\u001b[0;34m\u001b[0m\u001b[0m\n\u001b[0m",
            "\u001b[0;32m<ipython-input-66-59f57f5710c7>\u001b[0m in \u001b[0;36mfact\u001b[0;34m()\u001b[0m\n\u001b[1;32m      6\u001b[0m   \u001b[0;32mif\u001b[0m \u001b[0mn\u001b[0m\u001b[0;34m==\u001b[0m\u001b[0;36m0\u001b[0m\u001b[0;34m:\u001b[0m\u001b[0;34m\u001b[0m\u001b[0;34m\u001b[0m\u001b[0m\n\u001b[1;32m      7\u001b[0m     \u001b[0;32mreturn\u001b[0m \u001b[0;36m0\u001b[0m\u001b[0;34m\u001b[0m\u001b[0;34m\u001b[0m\u001b[0m\n\u001b[0;32m----> 8\u001b[0;31m   \u001b[0;32mreturn\u001b[0m \u001b[0mn\u001b[0m\u001b[0;34m*\u001b[0m\u001b[0mfact\u001b[0m\u001b[0;34m(\u001b[0m\u001b[0mn\u001b[0m\u001b[0;34m-\u001b[0m\u001b[0;36m1\u001b[0m\u001b[0;34m)\u001b[0m\u001b[0;34m\u001b[0m\u001b[0;34m\u001b[0m\u001b[0m\n\u001b[0m\u001b[1;32m      9\u001b[0m \u001b[0;34m\u001b[0m\u001b[0m\n\u001b[1;32m     10\u001b[0m \u001b[0mfact\u001b[0m\u001b[0;34m(\u001b[0m\u001b[0;34m)\u001b[0m\u001b[0;34m\u001b[0m\u001b[0;34m\u001b[0m\u001b[0m\n",
            "\u001b[0;31mTypeError\u001b[0m: fact() takes 0 positional arguments but 1 was given"
          ]
        }
      ]
    },
    {
      "cell_type": "code",
      "source": [
        "def fact(n):\n",
        "  \n",
        "  if n==0:\n",
        "    return 1\n",
        "  return n*fact(n-1)\n",
        "n=int(input(\"\"))\n",
        "fact(n)"
      ],
      "metadata": {
        "colab": {
          "base_uri": "https://localhost:8080/"
        },
        "id": "P0PdnYSiLMw7",
        "outputId": "1e03c7c7-eebe-4a10-fdb0-a10e1ea5ab4e"
      },
      "execution_count": 67,
      "outputs": [
        {
          "name": "stdout",
          "output_type": "stream",
          "text": [
            "5\n"
          ]
        },
        {
          "output_type": "execute_result",
          "data": {
            "text/plain": [
              "120"
            ]
          },
          "metadata": {},
          "execution_count": 67
        }
      ]
    },
    {
      "cell_type": "code",
      "source": [
        "def fib(n):\n",
        "  if n==0:\n",
        "    return 1\n",
        "  if n==1:\n",
        "    return 1\n",
        "\n",
        "  return fib(n-1)+fib(n-2)\n",
        "n=int(input(\"\"))\n",
        "print(fib(n))"
      ],
      "metadata": {
        "colab": {
          "base_uri": "https://localhost:8080/"
        },
        "id": "aD7lV_hKLdd6",
        "outputId": "b14849f5-8883-419a-8537-d31209f986a8"
      },
      "execution_count": 71,
      "outputs": [
        {
          "output_type": "stream",
          "name": "stdout",
          "text": [
            "8\n",
            "34\n"
          ]
        }
      ]
    },
    {
      "cell_type": "code",
      "source": [
        "def reverse():\n",
        "  a=input(\"enter a string\")\n",
        "  b=input(\"enter a string\")\n",
        "  if a[::-1]==b:\n",
        "    return True\n",
        "  return False\n",
        "reverse()"
      ],
      "metadata": {
        "colab": {
          "base_uri": "https://localhost:8080/",
          "height": 70
        },
        "id": "SRXhWP8eOUiV",
        "outputId": "2479fd31-e45e-4a82-c61a-180ede579ee3"
      },
      "execution_count": 79,
      "outputs": [
        {
          "name": "stdout",
          "output_type": "stream",
          "text": [
            "enter a stringsurya\n",
            "enter a stringayrus\n"
          ]
        },
        {
          "output_type": "execute_result",
          "data": {
            "text/plain": [
              "'True'"
            ],
            "application/vnd.google.colaboratory.intrinsic+json": {
              "type": "string"
            }
          },
          "metadata": {},
          "execution_count": 79
        }
      ]
    },
    {
      "cell_type": "code",
      "source": [
        "a=\"surya\"\n",
        "b=a[::-1]\n",
        "print(b)"
      ],
      "metadata": {
        "colab": {
          "base_uri": "https://localhost:8080/"
        },
        "id": "DTVtUQzQO5Hz",
        "outputId": "5f66544b-0518-45a9-ae4e-cddbfc6ec47a"
      },
      "execution_count": 75,
      "outputs": [
        {
          "output_type": "stream",
          "name": "stdout",
          "text": [
            "ayrus\n"
          ]
        }
      ]
    },
    {
      "cell_type": "code",
      "source": [
        "def order():\n",
        "  a=input(\"enter a string\")\n",
        "  b=input(\"enter a string\")\n",
        "  c=a.upper()\n",
        "  d=b.upper()\n",
        "  print (c+d+d+c)\n",
        "  return (c+d+d+c)\n",
        "order()"
      ],
      "metadata": {
        "colab": {
          "base_uri": "https://localhost:8080/",
          "height": 88
        },
        "id": "_obSUmFSQFHw",
        "outputId": "2383de91-0056-4dba-cff1-525b6db3028e"
      },
      "execution_count": 89,
      "outputs": [
        {
          "output_type": "stream",
          "name": "stdout",
          "text": [
            "enter a stringsurya\n",
            "enter a stringchany\n",
            "SURYACHANYCHANYSURYA\n"
          ]
        },
        {
          "output_type": "execute_result",
          "data": {
            "text/plain": [
              "'SURYACHANYCHANYSURYA'"
            ],
            "application/vnd.google.colaboratory.intrinsic+json": {
              "type": "string"
            }
          },
          "metadata": {},
          "execution_count": 89
        }
      ]
    },
    {
      "cell_type": "code",
      "source": [
        "a=[10,20,31.3,40,39.2]\n",
        "b[a]=(1.8*[a])+32\n",
        "print(b)"
      ],
      "metadata": {
        "colab": {
          "base_uri": "https://localhost:8080/",
          "height": 200
        },
        "id": "SrI3g-jmUuSE",
        "outputId": "74000dfe-30be-43d3-9671-60fec705c678"
      },
      "execution_count": 95,
      "outputs": [
        {
          "output_type": "error",
          "ename": "TypeError",
          "evalue": "ignored",
          "traceback": [
            "\u001b[0;31m---------------------------------------------------------------------------\u001b[0m",
            "\u001b[0;31mTypeError\u001b[0m                                 Traceback (most recent call last)",
            "\u001b[0;32m<ipython-input-95-27c3ebe3d5f8>\u001b[0m in \u001b[0;36m<module>\u001b[0;34m\u001b[0m\n\u001b[1;32m      1\u001b[0m \u001b[0ma\u001b[0m\u001b[0;34m=\u001b[0m\u001b[0;34m[\u001b[0m\u001b[0;36m10\u001b[0m\u001b[0;34m,\u001b[0m\u001b[0;36m20\u001b[0m\u001b[0;34m,\u001b[0m\u001b[0;36m31.3\u001b[0m\u001b[0;34m,\u001b[0m\u001b[0;36m40\u001b[0m\u001b[0;34m,\u001b[0m\u001b[0;36m39.2\u001b[0m\u001b[0;34m]\u001b[0m\u001b[0;34m\u001b[0m\u001b[0;34m\u001b[0m\u001b[0m\n\u001b[0;32m----> 2\u001b[0;31m \u001b[0mb\u001b[0m\u001b[0;34m[\u001b[0m\u001b[0ma\u001b[0m\u001b[0;34m]\u001b[0m\u001b[0;34m=\u001b[0m\u001b[0;34m(\u001b[0m\u001b[0;36m1.8\u001b[0m\u001b[0;34m*\u001b[0m\u001b[0;34m[\u001b[0m\u001b[0ma\u001b[0m\u001b[0;34m]\u001b[0m\u001b[0;34m)\u001b[0m\u001b[0;34m+\u001b[0m\u001b[0;36m32\u001b[0m\u001b[0;34m\u001b[0m\u001b[0;34m\u001b[0m\u001b[0m\n\u001b[0m\u001b[1;32m      3\u001b[0m \u001b[0mprint\u001b[0m\u001b[0;34m(\u001b[0m\u001b[0mb\u001b[0m\u001b[0;34m)\u001b[0m\u001b[0;34m\u001b[0m\u001b[0;34m\u001b[0m\u001b[0m\n",
            "\u001b[0;31mTypeError\u001b[0m: can't multiply sequence by non-int of type 'float'"
          ]
        }
      ]
    },
    {
      "cell_type": "code",
      "source": [
        "a=float(input(\"enter celcius\"))\n",
        "b=(a*1.8)+32\n",
        "print(b)"
      ],
      "metadata": {
        "colab": {
          "base_uri": "https://localhost:8080/"
        },
        "id": "RjxAUa-frD-s",
        "outputId": "a5234670-5d77-420a-8522-b17e5cbb6c09"
      },
      "execution_count": 97,
      "outputs": [
        {
          "output_type": "stream",
          "name": "stdout",
          "text": [
            "enter celcius10\n",
            "50.0\n"
          ]
        }
      ]
    },
    {
      "cell_type": "code",
      "source": [
        "c=[]\n",
        "a=int(input(\"\"))\n",
        "for i in range(a):\n",
        "  b=float(int(input(\"\")))\n",
        "  c.append(b)\n",
        "print(c)\n",
        "f=[((float(9)/5)*x+32) for x in c]\n",
        "print(f)"
      ],
      "metadata": {
        "colab": {
          "base_uri": "https://localhost:8080/"
        },
        "id": "QFXAd3BlvvtF",
        "outputId": "b7abc64e-6028-4cdc-89db-7255651b81a4"
      },
      "execution_count": 98,
      "outputs": [
        {
          "output_type": "stream",
          "name": "stdout",
          "text": [
            "2\n",
            "34\n",
            "43\n",
            "[34.0, 43.0]\n",
            "[93.2, 109.4]\n"
          ]
        }
      ]
    },
    {
      "cell_type": "code",
      "source": [
        "l=[1,2.32,\"surya\",3,4.5]\n",
        "\n",
        "l2=[e for e in l if type(e)==int]\n",
        "print(l2)"
      ],
      "metadata": {
        "colab": {
          "base_uri": "https://localhost:8080/"
        },
        "id": "W1IcqFTlyZcQ",
        "outputId": "6a4d8e66-a630-4b71-8d77-99c3e1c840f8"
      },
      "execution_count": 105,
      "outputs": [
        {
          "output_type": "stream",
          "name": "stdout",
          "text": [
            "[1, 3]\n"
          ]
        }
      ]
    },
    {
      "cell_type": "code",
      "source": [
        "list=[1,2,2,3,3,4]\n",
        "c=0\n",
        "for i in list:\n",
        "  "
      ],
      "metadata": {
        "id": "QFdhdPNG2e_7"
      },
      "execution_count": null,
      "outputs": []
    }
  ]
}
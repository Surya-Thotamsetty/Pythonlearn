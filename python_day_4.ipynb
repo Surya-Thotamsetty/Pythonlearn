{
  "nbformat": 4,
  "nbformat_minor": 0,
  "metadata": {
    "colab": {
      "provenance": [],
      "authorship_tag": "ABX9TyOHrC076BBEq5yPfmZJjYsa",
      "include_colab_link": true
    },
    "kernelspec": {
      "name": "python3",
      "display_name": "Python 3"
    },
    "language_info": {
      "name": "python"
    }
  },
  "cells": [
    {
      "cell_type": "markdown",
      "metadata": {
        "id": "view-in-github",
        "colab_type": "text"
      },
      "source": [
        "<a href=\"https://colab.research.google.com/github/Surya-Thotamsetty/Pythonlearn/blob/main/python_day_4.ipynb\" target=\"_parent\"><img src=\"https://colab.research.google.com/assets/colab-badge.svg\" alt=\"Open In Colab\"/></a>"
      ]
    },
    {
      "cell_type": "code",
      "execution_count": 2,
      "metadata": {
        "colab": {
          "base_uri": "https://localhost:8080/"
        },
        "id": "bZABTBcG78la",
        "outputId": "a200f898-d0a2-46e1-8cd5-05a42fa3ce88"
      },
      "outputs": [
        {
          "output_type": "stream",
          "name": "stdout",
          "text": [
            "False\n"
          ]
        }
      ],
      "source": [
        "          #sets\n",
        "\n",
        "s1={1,'surya',43}\n",
        "s2={1,'mohan',453,43}\n",
        "print(s2.issubset(s1))"
      ]
    },
    {
      "cell_type": "code",
      "source": [
        "s1={'mohan',2,'surya'}\n",
        "print(s1)\n",
        "s1.add('praju')\n",
        "print(s1)\n",
        "s1.remove('surya')\n",
        "print(s1)\n",
        "s1.clear()\n",
        "print(s1)"
      ],
      "metadata": {
        "colab": {
          "base_uri": "https://localhost:8080/"
        },
        "id": "h4RoGyvIEdoG",
        "outputId": "6510fe0b-32c5-49ab-a1fe-8442b2a4536b"
      },
      "execution_count": 13,
      "outputs": [
        {
          "output_type": "stream",
          "name": "stdout",
          "text": [
            "{2, 'mohan', 'surya'}\n",
            "{'praju', 2, 'mohan', 'surya'}\n",
            "{'praju', 2, 'mohan'}\n",
            "set()\n"
          ]
        }
      ]
    },
    {
      "cell_type": "code",
      "source": [
        "s1='gitam university'\n",
        "s2='gitam'\n",
        "s3=s1.split()\n",
        "print(s3)\n",
        "print(s2 in s1)\n",
        "\n"
      ],
      "metadata": {
        "colab": {
          "base_uri": "https://localhost:8080/"
        },
        "id": "icjU64VGFn0i",
        "outputId": "07622de2-52de-4f10-8ea3-29d9135680d6"
      },
      "execution_count": 28,
      "outputs": [
        {
          "output_type": "stream",
          "name": "stdout",
          "text": [
            "['gitam university']\n",
            "True\n"
          ]
        }
      ]
    },
    {
      "cell_type": "code",
      "source": [
        "a={1,'surya',2,'mohan',3,'praju'}\n",
        "b={1,2,3}\n",
        "a.issuperset(b)"
      ],
      "metadata": {
        "colab": {
          "base_uri": "https://localhost:8080/"
        },
        "id": "np1m8aH1IKEk",
        "outputId": "fe321326-4e20-45a3-f660-844237e77d19"
      },
      "execution_count": 30,
      "outputs": [
        {
          "output_type": "execute_result",
          "data": {
            "text/plain": [
              "True"
            ]
          },
          "metadata": {},
          "execution_count": 30
        }
      ]
    },
    {
      "cell_type": "code",
      "source": [
        "a=\"surya\"\n",
        "print(a)\n",
        "b=set(a)\n",
        "print(b)\n",
        "c=list(a)\n",
        "print(c)\n",
        "d=tuple(a)\n",
        "print(d)"
      ],
      "metadata": {
        "colab": {
          "base_uri": "https://localhost:8080/"
        },
        "id": "hmRW8IUZJbrp",
        "outputId": "1548c766-c8a1-4667-c7e0-e683f0e7e61f"
      },
      "execution_count": 31,
      "outputs": [
        {
          "output_type": "stream",
          "name": "stdout",
          "text": [
            "surya\n",
            "{'s', 'y', 'a', 'r', 'u'}\n",
            "['s', 'u', 'r', 'y', 'a']\n",
            "('s', 'u', 'r', 'y', 'a')\n"
          ]
        }
      ]
    },
    {
      "cell_type": "code",
      "source": [
        "a={1,'surya',2,'mohan',3,'praju'}\n",
        "b={1,2,3}\n",
        "c=a in b\n",
        "print(c)"
      ],
      "metadata": {
        "colab": {
          "base_uri": "https://localhost:8080/"
        },
        "id": "jOpCaJ5CJ2uk",
        "outputId": "3b82098a-0576-4f8a-dffd-f205e6cfd640"
      },
      "execution_count": 33,
      "outputs": [
        {
          "output_type": "stream",
          "name": "stdout",
          "text": [
            "False\n"
          ]
        }
      ]
    },
    {
      "cell_type": "code",
      "source": [
        "s1={1,'surya','chanty',2747}\n",
        "s2={2,'surya','surya',2747}\n",
        "print(s1.union(s2))\n",
        "print(s1.intersection(s2))\n",
        "print(s1.difference(s2))\n",
        "print(s1^s2)\n",
        "print(s1-s2)"
      ],
      "metadata": {
        "colab": {
          "base_uri": "https://localhost:8080/"
        },
        "id": "E1gJ8veFK-eF",
        "outputId": "c16f1862-e1b8-4316-8548-01e24424c24c"
      },
      "execution_count": 38,
      "outputs": [
        {
          "output_type": "stream",
          "name": "stdout",
          "text": [
            "{1, 'surya', 'chanty', 2, 2747}\n",
            "{'surya', 2747}\n",
            "{1, 'chanty'}\n",
            "{1, 2, 'chanty'}\n",
            "{1, 'chanty'}\n"
          ]
        }
      ]
    },
    {
      "cell_type": "code",
      "source": [
        "s1={1,'surya','chanty',2747}\n",
        "s2={2,'surya','surya',2747}\n",
        "s1.symmetric_difference(s2)\n"
      ],
      "metadata": {
        "colab": {
          "base_uri": "https://localhost:8080/"
        },
        "id": "jz-yxAF4Mw5f",
        "outputId": "b43c7c54-758a-480e-e03b-0415de5b30c0"
      },
      "execution_count": 39,
      "outputs": [
        {
          "output_type": "execute_result",
          "data": {
            "text/plain": [
              "{1, 2, 'chanty'}"
            ]
          },
          "metadata": {},
          "execution_count": 39
        }
      ]
    },
    {
      "cell_type": "code",
      "source": [
        "             #dictionaries\n",
        "\n",
        "a={\n",
        "    \"surya\":\"8025\",\n",
        "    \"mohan\":\"8034\"\n",
        "}\n",
        "print(a[\"surya\"])\n"
      ],
      "metadata": {
        "colab": {
          "base_uri": "https://localhost:8080/"
        },
        "id": "0HC-pnPYNTJY",
        "outputId": "e35e7d00-461a-428d-e21b-0233369a986e"
      },
      "execution_count": 44,
      "outputs": [
        {
          "output_type": "stream",
          "name": "stdout",
          "text": [
            "8025\n"
          ]
        }
      ]
    },
    {
      "cell_type": "code",
      "source": [
        "a={\n",
        "    \"surya\":\"8025\",\n",
        "    \"mohan\":True,\n",
        "   \"praju\":876\n",
        "}\n",
        "print(a)\n"
      ],
      "metadata": {
        "colab": {
          "base_uri": "https://localhost:8080/"
        },
        "id": "Xw2qrMjWO9zp",
        "outputId": "c56166ec-1764-4b7f-d944-fc3f3c7adb21"
      },
      "execution_count": 46,
      "outputs": [
        {
          "output_type": "stream",
          "name": "stdout",
          "text": [
            "{'surya': '8025', 'mohan': True, 'praju': 876}\n"
          ]
        }
      ]
    },
    {
      "cell_type": "code",
      "source": [
        "a={}\n",
        "a['mohan']='8034'\n",
        "a['praju']='7032'\n",
        "print(a)"
      ],
      "metadata": {
        "colab": {
          "base_uri": "https://localhost:8080/"
        },
        "id": "CB66YLi8PPOO",
        "outputId": "0e201b68-a17a-4ae0-b2be-47ee842a0be8"
      },
      "execution_count": 47,
      "outputs": [
        {
          "output_type": "stream",
          "name": "stdout",
          "text": [
            "{'mohan': '8034', 'praju': '7032'}\n"
          ]
        }
      ]
    },
    {
      "cell_type": "code",
      "source": [
        "a=dict(surya='name',mohan=46)\n",
        "print(a)"
      ],
      "metadata": {
        "colab": {
          "base_uri": "https://localhost:8080/"
        },
        "id": "gxTegJsPPdDk",
        "outputId": "7cf4a5ab-575f-414d-9927-c88644c61986"
      },
      "execution_count": 49,
      "outputs": [
        {
          "output_type": "stream",
          "name": "stdout",
          "text": [
            "{'surya': 'name', 'mohan': 46}\n"
          ]
        }
      ]
    },
    {
      "cell_type": "code",
      "source": [
        "a={\"surya\":\"8025\",\"mohan\":True,\"praju\":876}\n",
        "a[\"bholenath\"]=False\n",
        "print(a)"
      ],
      "metadata": {
        "colab": {
          "base_uri": "https://localhost:8080/"
        },
        "id": "N2EGDhtyQW5-",
        "outputId": "8a7ff7c9-0e31-4744-ec42-eba83d2b808f"
      },
      "execution_count": 51,
      "outputs": [
        {
          "output_type": "stream",
          "name": "stdout",
          "text": [
            "{'surya': '8025', 'mohan': True, 'praju': 876, 'bholenath': False}\n"
          ]
        }
      ]
    },
    {
      "cell_type": "code",
      "source": [
        "a={\"surya\":\"8025\",\"mohan\":True,\"praju\":876}\n",
        "a[\"bholenath\"]=False\n",
        "a.update({\"surya\":'hot'})\n",
        "print(a)"
      ],
      "metadata": {
        "colab": {
          "base_uri": "https://localhost:8080/"
        },
        "id": "6FQ8UkA2Q8H0",
        "outputId": "9c832a2a-8861-4033-cd65-8b053cd34020"
      },
      "execution_count": 57,
      "outputs": [
        {
          "output_type": "stream",
          "name": "stdout",
          "text": [
            "{'surya': 'hot', 'mohan': True, 'praju': 876, 'bholenath': False}\n"
          ]
        }
      ]
    },
    {
      "cell_type": "code",
      "source": [
        "a={}\n",
        "a['mohan']='cool'\n",
        "a['praju']=75\n",
        "print(a)\n",
        "b=\"%(mohan)s is mohan and %(praju)d is prajus weight\"%a\n",
        "print(b)"
      ],
      "metadata": {
        "colab": {
          "base_uri": "https://localhost:8080/"
        },
        "id": "xKgL4Mk1ch63",
        "outputId": "e2e563d9-ef99-4dd9-eeb4-ccc628647338"
      },
      "execution_count": 63,
      "outputs": [
        {
          "output_type": "stream",
          "name": "stdout",
          "text": [
            "{'mohan': 'cool', 'praju': 75}\n",
            "cool is mohan and 75 is prajus weight\n"
          ]
        }
      ]
    },
    {
      "cell_type": "code",
      "source": [
        "a={\n",
        "    'mohan':76,\n",
        "   'praju':54,\n",
        "   'chanty':45\n",
        "}\n",
        "del a['chanty']\n",
        "print(a)\n",
        "b=\"the weight of mohan is %(mohan)d, praju is %(praju)d \"%a\n",
        "print(b)\n",
        "a.keys()\n",
        "a.values()\n",
        "\n"
      ],
      "metadata": {
        "colab": {
          "base_uri": "https://localhost:8080/"
        },
        "id": "JWr3XdkLdjnF",
        "outputId": "22119e70-6b78-47d7-b3db-b508d7ba42f3"
      },
      "execution_count": 76,
      "outputs": [
        {
          "output_type": "stream",
          "name": "stdout",
          "text": [
            "{'mohan': 76, 'praju': 54}\n",
            "the weight of mohan is 76, praju is 54 \n"
          ]
        },
        {
          "output_type": "execute_result",
          "data": {
            "text/plain": [
              "dict_values([76, 54])"
            ]
          },
          "metadata": {},
          "execution_count": 76
        }
      ]
    },
    {
      "cell_type": "code",
      "source": [
        "a={\n",
        "    'mohan':76,\n",
        "   'praju':54,\n",
        "   'chanty':45\n",
        "}\n",
        "del a['chanty']\n",
        "print(a)\n",
        "b=\"the weight of mohan is %(mohan)d, praju is %(praju)d \"%a\n",
        "print(b)\n",
        "a.get('praju')\n",
        "\n",
        "# keys    values     items    clear   get(key)    pop(key)    clear"
      ],
      "metadata": {
        "colab": {
          "base_uri": "https://localhost:8080/"
        },
        "id": "P4YLVZPrga5g",
        "outputId": "5bfcb49f-c6a6-4bf7-cc5e-af0fc6c2b79a"
      },
      "execution_count": 86,
      "outputs": [
        {
          "output_type": "stream",
          "name": "stdout",
          "text": [
            "{'mohan': 76, 'praju': 54}\n",
            "the weight of mohan is 76, praju is 54 \n"
          ]
        },
        {
          "output_type": "execute_result",
          "data": {
            "text/plain": [
              "54"
            ]
          },
          "metadata": {},
          "execution_count": 86
        }
      ]
    },
    {
      "cell_type": "code",
      "source": [
        "a={\n",
        "    'mohan':76,\n",
        "   'praju':54,\n",
        "   'chanty':45\n",
        "}\n",
        "b={\n",
        "    'mohan':'hema',\n",
        "   'praju':'yashu',\n",
        "   'chanty':'45'\n",
        "}\n",
        "print(a)\n",
        "print(b)\n",
        "print(a==b)\n",
        "print(a!=b)"
      ],
      "metadata": {
        "colab": {
          "base_uri": "https://localhost:8080/"
        },
        "id": "HMqZYmoCfIrF",
        "outputId": "98882f56-a578-4b0d-d6e5-b7a63f81aa25"
      },
      "execution_count": 74,
      "outputs": [
        {
          "output_type": "stream",
          "name": "stdout",
          "text": [
            "{'mohan': 76, 'praju': 54, 'chanty': 45}\n",
            "{'mohan': 'hema', 'praju': 'yashu', 'chanty': '45'}\n",
            "False\n",
            "True\n"
          ]
        }
      ]
    },
    {
      "cell_type": "code",
      "source": [
        "grades={'surya':'a','mohan':'a+','praju':'a++'}\n",
        "for key in grades:\n",
        "  print(key,':',str(grades[key]))"
      ],
      "metadata": {
        "colab": {
          "base_uri": "https://localhost:8080/"
        },
        "id": "jkadI061iBwO",
        "outputId": "2383d21b-4e95-4a89-ce08-fa784419161f"
      },
      "execution_count": 87,
      "outputs": [
        {
          "output_type": "stream",
          "name": "stdout",
          "text": [
            "surya : a\n",
            "mohan : a+\n",
            "praju : a++\n"
          ]
        }
      ]
    },
    {
      "cell_type": "code",
      "source": [
        "a={\n",
        "    'mohan':76,\n",
        "   'praju':54,\n",
        "   'chanty':45\n",
        "}\n",
        "b={\n",
        "    'mohan':'hema',\n",
        "   'praju':'yashu',\n",
        "   'chanty':'45'\n",
        "}\n",
        "for key in a:\n",
        "  print(key,':',a[key])\n",
        "print()\n",
        "for key in b:\n",
        "  print(key,':',b[key])"
      ],
      "metadata": {
        "colab": {
          "base_uri": "https://localhost:8080/"
        },
        "id": "asAai4u-kxoo",
        "outputId": "2aedf681-2732-43bc-db43-1f11c072bbb0"
      },
      "execution_count": 92,
      "outputs": [
        {
          "output_type": "stream",
          "name": "stdout",
          "text": [
            "mohan : 76\n",
            "praju : 54\n",
            "chanty : 45\n",
            "\n",
            "mohan : hema\n",
            "praju : yashu\n",
            "chanty : 45\n"
          ]
        }
      ]
    },
    {
      "cell_type": "code",
      "source": [
        "gstd={'tarun':{'president':'now','photographer':'then'},\n",
        "      'karthik':{'vp':'now','lp':'then'}}\n",
        "print(gstd['tarun']['photographer'])\n",
        "print(gstd['karthik']['vp'])"
      ],
      "metadata": {
        "colab": {
          "base_uri": "https://localhost:8080/"
        },
        "id": "uj_X_xobl_7_",
        "outputId": "3ed1ac0e-9b9f-4a39-a07d-0eb310c98d0e"
      },
      "execution_count": 97,
      "outputs": [
        {
          "output_type": "stream",
          "name": "stdout",
          "text": [
            "then\n",
            "now\n"
          ]
        }
      ]
    },
    {
      "cell_type": "code",
      "source": [
        "a=input(\"enter a string \")\n",
        "b=int(input(\"enter the position \"))\n",
        "count=0\n",
        "for i in a:\n",
        "  count=count+1\n",
        "  if count==b:\n",
        "    print(i)\n"
      ],
      "metadata": {
        "colab": {
          "base_uri": "https://localhost:8080/"
        },
        "id": "TeBKhWNQndsd",
        "outputId": "a2294844-8375-4e2a-8378-4cb06b1aeca9"
      },
      "execution_count": 102,
      "outputs": [
        {
          "output_type": "stream",
          "name": "stdout",
          "text": [
            "enter a string surya\n",
            "enter the position 3\n",
            "r\n"
          ]
        }
      ]
    },
    {
      "cell_type": "code",
      "source": [
        "def surya (a,b):\n",
        "  return(a*b)\n",
        "a=3\n",
        "b=5\n",
        "result=surya(a,b)\n",
        "print(result)\n",
        "\n"
      ],
      "metadata": {
        "colab": {
          "base_uri": "https://localhost:8080/"
        },
        "id": "HUHDOBHpqXt3",
        "outputId": "6b7dda08-6625-42c3-b8dd-9a1aa6cf3619"
      },
      "execution_count": 106,
      "outputs": [
        {
          "output_type": "stream",
          "name": "stdout",
          "text": [
            "15\n"
          ]
        }
      ]
    },
    {
      "cell_type": "code",
      "source": [
        "#delete a letter from a word\n",
        "\n",
        "def remove_letter(word,letter):\n",
        "  print(\"word=\",word)\n",
        "  print(\"letter=\",letter)\n",
        "  \n",
        "  newstr=word.replace(letter,\"\")\n",
        "  return newstr\n",
        "a=remove_letter(\"surya\",\"y\")\n",
        "print(a)"
      ],
      "metadata": {
        "colab": {
          "base_uri": "https://localhost:8080/"
        },
        "id": "XXOV79MMrS4W",
        "outputId": "6e58cf0f-0a28-462e-9dc9-26af5886e958"
      },
      "execution_count": 113,
      "outputs": [
        {
          "output_type": "stream",
          "name": "stdout",
          "text": [
            "word= surya\n",
            "letter= y\n",
            "sura\n"
          ]
        }
      ]
    },
    {
      "cell_type": "code",
      "source": [
        "def surya(name,num):\n",
        "  print(\"name=\",name)\n",
        "  print(\"num=\",num)\n",
        "  newnum=num.replace(num,'')\n",
        "  return newnum\n",
        "a=surya(\"surya\",'nau')\n",
        "print(a)"
      ],
      "metadata": {
        "colab": {
          "base_uri": "https://localhost:8080/"
        },
        "id": "UD9ysW3-tedy",
        "outputId": "02f90eaf-e492-4f33-cf4b-f269c7ff0cae"
      },
      "execution_count": 116,
      "outputs": [
        {
          "output_type": "stream",
          "name": "stdout",
          "text": [
            "name= surya\n",
            "num= nau\n",
            "\n"
          ]
        }
      ]
    },
    {
      "cell_type": "code",
      "source": [
        "\"\"\"a=input(enter a string )\n",
        "\n",
        "b=print(a.count('a'))\n",
        "c=print(a.count('e'))\n",
        "d=print(a.count('i'))\n",
        "e=print(a.count('o'))\n",
        "f=print(a.count('u'))\"\"\"\n",
        "\n",
        "a=input(\"enter a sring \")\n",
        "count=0\n",
        "for i in a:\n",
        "  if i in (\"a\",\"e\",\"i\",\"o\",\"u\") :\n",
        "    if (i==\"a\" or i==\"e\" or i==\"i\" or i==\"o\" or i==\"u\"):\n",
        "      count=count+1\n",
        "    print(i,':', count ,end='')\n"
      ],
      "metadata": {
        "colab": {
          "base_uri": "https://localhost:8080/"
        },
        "id": "oZSXsLpmuRLu",
        "outputId": "3d0ae005-5708-42a8-9278-8d618c4a4446"
      },
      "execution_count": 145,
      "outputs": [
        {
          "output_type": "stream",
          "name": "stdout",
          "text": [
            "enter a sring uuu\n",
            "u : 1u : 2u : 3"
          ]
        }
      ]
    },
    {
      "cell_type": "code",
      "source": [
        "a=input(\"enter a string\")\n",
        "for i in a:\n",
        "  if i in ('a','e','i','o','u'):\n",
        "    \n",
        "    print(\"vowels\")\n"
      ],
      "metadata": {
        "colab": {
          "base_uri": "https://localhost:8080/"
        },
        "id": "n7NNvoitFwJk",
        "outputId": "3d30b7bd-35f7-48fd-ff6e-02554cf9c0ca"
      },
      "execution_count": 136,
      "outputs": [
        {
          "name": "stdout",
          "output_type": "stream",
          "text": [
            "enter a stringsurya\n"
          ]
        }
      ]
    },
    {
      "cell_type": "code",
      "source": [
        "s=input(\"enter a string  \")\n",
        "c=0\n",
        "for i in s:\n",
        "  if i in(\"a\",\"e\",\"i\",\"o\",\"u\"):\n",
        "    if (i==\"a\" or i==\"e\" or i==\"i\" or i==\"o\" or i==\"u\"):\n",
        "      c=c+1\n",
        "    print(i,\":\",c,end=\" \")"
      ],
      "metadata": {
        "colab": {
          "base_uri": "https://localhost:8080/"
        },
        "id": "mqVkUG8-H27f",
        "outputId": "2387747a-5b2d-4668-df2d-c188ea74baee"
      },
      "execution_count": 137,
      "outputs": [
        {
          "output_type": "stream",
          "name": "stdout",
          "text": [
            "enter a string  surya\n",
            "u : 1 a : 2 "
          ]
        }
      ]
    },
    {
      "cell_type": "code",
      "source": [
        "def string(word):\n",
        "  new=\"\"\n",
        "  print(\"string\",word)\n",
        "  for i in word:\n",
        "    if (i=='a'or i=='e'or i=='o'or i=='i'or i=='u'):\n",
        "      new=new+i.upper()\n",
        "    else:\n",
        "      new=new+i\n",
        "  return new\n",
        "x=string(\"surya thotamsetty\")\n",
        "print(x)"
      ],
      "metadata": {
        "colab": {
          "base_uri": "https://localhost:8080/"
        },
        "id": "qdZr6q4eKWR5",
        "outputId": "a4b31990-f2f6-47b2-a5d2-9f687d4ad631"
      },
      "execution_count": 147,
      "outputs": [
        {
          "output_type": "stream",
          "name": "stdout",
          "text": [
            "string surya thotamsetty\n",
            "sUryA thOtAmsEtty\n"
          ]
        }
      ]
    },
    {
      "cell_type": "code",
      "source": [
        "def string(word):\n",
        "  c=0\n",
        "  print(\"the string is\",word)\n",
        "  for i in word:\n",
        "    if i in(\"a\",\"e\",\"i\",\"o\",\"u\"):\n",
        "      if (i=='a'or i=='e'or i=='o'or i=='i'or i=='u'):\n",
        "        c=c+1\n",
        "      return i,\":\",c\n",
        "x=string(\"surya\")\n",
        "print(x)"
      ],
      "metadata": {
        "colab": {
          "base_uri": "https://localhost:8080/"
        },
        "id": "LAWdxRfyMCw7",
        "outputId": "a6431f1d-5e85-4396-f1b2-175ce5857300"
      },
      "execution_count": 159,
      "outputs": [
        {
          "output_type": "stream",
          "name": "stdout",
          "text": [
            "the string is surya\n",
            "('u', ':', 1)\n"
          ]
        }
      ]
    },
    {
      "cell_type": "code",
      "source": [
        "def st(word):\n",
        "  c=0\n",
        "  print(\"the strig is\",word)\n",
        "  for i in word:\n",
        "    if i in (\"a\",\"e\",\"i\",\"o\",\"u\"):\n",
        "      if (i=='a'and i=='e'and i=='o'and i=='i'and i=='u'):\n",
        "        c=c+1\n",
        "        newst=word.replace(i,'!i')\n",
        "        return newst\n",
        "x=st(\"surya thotamsetty\")\n",
        "print(x)"
      ],
      "metadata": {
        "colab": {
          "base_uri": "https://localhost:8080/"
        },
        "id": "6DUC9ZVeN2jA",
        "outputId": "c03337b1-ef79-48d8-8cb9-eb82259751f3"
      },
      "execution_count": 173,
      "outputs": [
        {
          "output_type": "stream",
          "name": "stdout",
          "text": [
            "the strig is surya thotamsetty\n",
            "None\n"
          ]
        }
      ]
    },
    {
      "cell_type": "code",
      "source": [
        "x= int(input())\n",
        "sum=0\n",
        "while x:\n",
        "  dig=x%10\n",
        "  x=x//10\n",
        "  sum=sum+dig\n",
        "print(sum)"
      ],
      "metadata": {
        "colab": {
          "base_uri": "https://localhost:8080/"
        },
        "id": "HLjJG3hpS9qB",
        "outputId": "1ce7500d-4b50-4969-cacb-3464ca44c95a"
      },
      "execution_count": 180,
      "outputs": [
        {
          "output_type": "stream",
          "name": "stdout",
          "text": [
            "345\n",
            "12\n"
          ]
        }
      ]
    },
    {
      "cell_type": "code",
      "source": [
        "a=int(input())\n",
        "sum=0\n",
        "product=0\n",
        "\n",
        "dig=x%10\n",
        "b=x//10\n",
        "sum=dig+b\n",
        "if sum==a:\n",
        "  print(\"number is divisible by its sum {}\".format(a))"
      ],
      "metadata": {
        "colab": {
          "base_uri": "https://localhost:8080/"
        },
        "id": "chdF5FveV14z",
        "outputId": "b21eceea-074d-4d60-d5f2-f3651a405f91"
      },
      "execution_count": 182,
      "outputs": [
        {
          "name": "stdout",
          "output_type": "stream",
          "text": [
            "18\n"
          ]
        }
      ]
    }
  ]
}
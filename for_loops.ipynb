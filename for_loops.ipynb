{
  "nbformat": 4,
  "nbformat_minor": 0,
  "metadata": {
    "colab": {
      "provenance": [],
      "authorship_tag": "ABX9TyNsQciWX12ZA7GEjINc7fje",
      "include_colab_link": true
    },
    "kernelspec": {
      "name": "python3",
      "display_name": "Python 3"
    },
    "language_info": {
      "name": "python"
    }
  },
  "cells": [
    {
      "cell_type": "markdown",
      "metadata": {
        "id": "view-in-github",
        "colab_type": "text"
      },
      "source": [
        "<a href=\"https://colab.research.google.com/github/Surya-Thotamsetty/Pythonlearn/blob/main/for_loops.ipynb\" target=\"_parent\"><img src=\"https://colab.research.google.com/assets/colab-badge.svg\" alt=\"Open In Colab\"/></a>"
      ]
    },
    {
      "cell_type": "code",
      "execution_count": 10,
      "metadata": {
        "colab": {
          "base_uri": "https://localhost:8080/"
        },
        "id": "aOR0VBiZo9yL",
        "outputId": "1376c728-cd3a-4630-8c12-5b4b3517b290"
      },
      "outputs": [
        {
          "output_type": "stream",
          "name": "stdout",
          "text": [
            "min is 2\n",
            "max is 543\n"
          ]
        }
      ],
      "source": [
        "#minmax\n",
        "\n",
        "def minmax(arr):\n",
        "  arr.sort()\n",
        "  a={\"min\":arr[0], \"max\":arr[-1]}\n",
        "  return a\n",
        "minmax(arr)\n",
        "arr=[2,94,543]\n",
        "\n",
        "print(\"min is\",a[\"min\"])print(\"max is\",a[\"max\"])"
      ]
    },
    {
      "cell_type": "code",
      "source": [
        "a = 20  \n",
        "b = 30  \n",
        "c = a + b  \n",
        "def add():    \n",
        "\n",
        "    print(\"The sum is:\", c)  \n",
        "add()  \n",
        "print(\"The sum is:\", c)  "
      ],
      "metadata": {
        "colab": {
          "base_uri": "https://localhost:8080/"
        },
        "id": "e_zWpigv-Wjn",
        "outputId": "22a9bd83-5bdf-40c6-e5af-ea5d19da5b40"
      },
      "execution_count": 13,
      "outputs": [
        {
          "output_type": "stream",
          "name": "stdout",
          "text": [
            "The sum is: 50\n",
            "The sum is: 50\n"
          ]
        }
      ]
    },
    {
      "cell_type": "code",
      "source": [
        "a=[1,\"surya\",3.45]\n",
        "print(a[1:2]*3)"
      ],
      "metadata": {
        "colab": {
          "base_uri": "https://localhost:8080/"
        },
        "id": "z7ugxWBzCOzj",
        "outputId": "5389781e-e0b8-4c14-eca6-1c3a476ac514"
      },
      "execution_count": 5,
      "outputs": [
        {
          "output_type": "stream",
          "name": "stdout",
          "text": [
            "['surya', 'surya', 'surya']\n"
          ]
        }
      ]
    },
    {
      "cell_type": "code",
      "source": [
        "a=(1,\"surya\",44.56,67)\n",
        "print(a[2])\n",
        "print(a[0:2])\n",
        "a(4)=\"hlo\"          #cant add values to tuples\n",
        "print(a)"
      ],
      "metadata": {
        "colab": {
          "base_uri": "https://localhost:8080/",
          "height": 130
        },
        "id": "yD_NOMKRCVWz",
        "outputId": "84681f3c-6b61-4ffa-d771-51f762e4a0a7"
      },
      "execution_count": 7,
      "outputs": [
        {
          "output_type": "error",
          "ename": "SyntaxError",
          "evalue": "ignored",
          "traceback": [
            "\u001b[0;36m  File \u001b[0;32m\"<ipython-input-7-38e67384d858>\"\u001b[0;36m, line \u001b[0;32m4\u001b[0m\n\u001b[0;31m    a(4)=\"hlo\"\u001b[0m\n\u001b[0m    ^\u001b[0m\n\u001b[0;31mSyntaxError\u001b[0m\u001b[0;31m:\u001b[0m cannot assign to function call here. Maybe you meant '==' instead of '='?\n"
          ]
        }
      ]
    },
    {
      "cell_type": "code",
      "source": [
        "d = {1:'Jimmy', 2:'Alex', 3:'john', 4:'mike'}     \n",
        "print (d)   \n",
        "print(\"1st name is \"+d[1])   \n",
        "print(\"2nd name is \"+ d[4])      \n",
        "print (d.keys())    \n",
        "print (d.values())    "
      ],
      "metadata": {
        "colab": {
          "base_uri": "https://localhost:8080/"
        },
        "id": "bVcojI1JFtrC",
        "outputId": "7e222b4d-bb82-4043-d04e-3140282fd729"
      },
      "execution_count": 10,
      "outputs": [
        {
          "output_type": "stream",
          "name": "stdout",
          "text": [
            "{1: 'Jimmy', 2: 'Alex', 3: 'john', 4: 'mike'}\n",
            "1st name is Jimmy\n",
            "2nd name is mike\n",
            "dict_keys([1, 2, 3, 4])\n",
            "dict_values(['Jimmy', 'Alex', 'john', 'mike'])\n"
          ]
        }
      ]
    },
    {
      "cell_type": "code",
      "source": [
        "a=\"surya\"\n",
        "for i in a:\n",
        "  print(i)"
      ],
      "metadata": {
        "colab": {
          "base_uri": "https://localhost:8080/"
        },
        "id": "VjD_RWO8iu5j",
        "outputId": "c074f34c-b145-40d6-e940-3ad92b3f327b"
      },
      "execution_count": 2,
      "outputs": [
        {
          "output_type": "stream",
          "name": "stdout",
          "text": [
            "s\n",
            "u\n",
            "r\n",
            "y\n",
            "a\n"
          ]
        }
      ]
    },
    {
      "cell_type": "code",
      "source": [],
      "metadata": {
        "id": "LdM0vnFpjABy"
      },
      "execution_count": null,
      "outputs": []
    },
    {
      "cell_type": "code",
      "source": [
        "a=\"surya\"\n",
        "for i in a:\n",
        "  print(i, end='/ ')"
      ],
      "metadata": {
        "colab": {
          "base_uri": "https://localhost:8080/"
        },
        "id": "-s-U5VMHi3oN",
        "outputId": "dc38035d-6c7d-45ee-cbe8-b6f8d783f24c"
      },
      "execution_count": 4,
      "outputs": [
        {
          "output_type": "stream",
          "name": "stdout",
          "text": [
            "s/ u/ r/ y/ a/ "
          ]
        }
      ]
    },
    {
      "cell_type": "code",
      "source": [
        "a=[12,34,54,67,53,5]\n",
        "sum=0\n",
        "for i in a:\n",
        "  sum=sum + i\n",
        "  print(\"sum =\",sum)\n",
        "  print(\"avg =\",sum/len(a))    # the print statements are insife for loop soo it iterates all the numbers one by one"
      ],
      "metadata": {
        "colab": {
          "base_uri": "https://localhost:8080/"
        },
        "id": "HLHWA-I-jms8",
        "outputId": "03827b38-2a43-4172-f4a0-fd14f019e440"
      },
      "execution_count": 6,
      "outputs": [
        {
          "output_type": "stream",
          "name": "stdout",
          "text": [
            "sum = 12\n",
            "avg = 2.0\n",
            "sum = 46\n",
            "avg = 7.666666666666667\n",
            "sum = 100\n",
            "avg = 16.666666666666668\n",
            "sum = 167\n",
            "avg = 27.833333333333332\n",
            "sum = 220\n",
            "avg = 36.666666666666664\n",
            "sum = 225\n",
            "avg = 37.5\n"
          ]
        }
      ]
    },
    {
      "cell_type": "code",
      "source": [
        "a=[12,34,54,67,53,5]\n",
        "sum=0\n",
        "for i in a:\n",
        "  sum=sum + i\n",
        "print(\"sum =\",sum)\n",
        "print(\"avg =\",sum/len(a))"
      ],
      "metadata": {
        "colab": {
          "base_uri": "https://localhost:8080/"
        },
        "id": "goeCwnDbkSJs",
        "outputId": "e2dfe611-10a7-40c1-c6f9-be3efe1de8fc"
      },
      "execution_count": 7,
      "outputs": [
        {
          "output_type": "stream",
          "name": "stdout",
          "text": [
            "sum = 225\n",
            "avg = 37.5\n"
          ]
        }
      ]
    },
    {
      "cell_type": "code",
      "source": [
        "a=[12,34,54,64,245,423]\n",
        "a.sort()\n",
        "print(a[-1])"
      ],
      "metadata": {
        "colab": {
          "base_uri": "https://localhost:8080/"
        },
        "id": "Q_wvWYYakXJF",
        "outputId": "b929e1cf-0433-4e48-a63c-083a52910273"
      },
      "execution_count": 13,
      "outputs": [
        {
          "output_type": "stream",
          "name": "stdout",
          "text": [
            "423\n"
          ]
        }
      ]
    },
    {
      "cell_type": "code",
      "source": [
        "a=(23,45,4663,424564,4)\n",
        "sum=0\n",
        "for i in a:\n",
        "  sum=sum+i\n",
        "print(\"sum= \",sum)\n",
        "print(\"avg= \",sum/len(a))"
      ],
      "metadata": {
        "colab": {
          "base_uri": "https://localhost:8080/"
        },
        "id": "Z7NscjdTlz-y",
        "outputId": "9aefbb6f-eb4a-45bd-d4b6-ebe58214d041"
      },
      "execution_count": 14,
      "outputs": [
        {
          "output_type": "stream",
          "name": "stdout",
          "text": [
            "sum=  429299\n",
            "avg=  85859.8\n"
          ]
        }
      ]
    },
    {
      "cell_type": "code",
      "source": [
        "for i in range(1,10):\n",
        "  print(i,end=\"\")"
      ],
      "metadata": {
        "colab": {
          "base_uri": "https://localhost:8080/"
        },
        "id": "zMXRduk_mXk0",
        "outputId": "d102fad4-25fb-45b5-a216-4dfd8071e5c5"
      },
      "execution_count": 16,
      "outputs": [
        {
          "output_type": "stream",
          "name": "stdout",
          "text": [
            "123456789"
          ]
        }
      ]
    },
    {
      "cell_type": "code",
      "source": [
        "for i in range(0,10,2):\n",
        "  print(i)                  #prints i value with step 2"
      ],
      "metadata": {
        "colab": {
          "base_uri": "https://localhost:8080/"
        },
        "id": "NCSO6088nJ8K",
        "outputId": "f7ddd8f2-bbda-460d-ca3c-3f44d014f70a"
      },
      "execution_count": 18,
      "outputs": [
        {
          "output_type": "stream",
          "name": "stdout",
          "text": [
            "0\n",
            "2\n",
            "4\n",
            "6\n",
            "8\n"
          ]
        }
      ]
    },
    {
      "cell_type": "code",
      "source": [
        "a=int(input(\"enter a number \"))\n",
        "for i in range(0,10):\n",
        "  i=i+1\n",
        "  b=a*i\n",
        "  print(a,\"*\",i,\"=\",b)"
      ],
      "metadata": {
        "colab": {
          "base_uri": "https://localhost:8080/"
        },
        "id": "TvG5r35ZnbpP",
        "outputId": "3578e077-2b61-4525-ceff-7789ac63383a"
      },
      "execution_count": 22,
      "outputs": [
        {
          "output_type": "stream",
          "name": "stdout",
          "text": [
            "enter a number 2\n",
            "2 * 1 = 2\n",
            "2 * 2 = 4\n",
            "2 * 3 = 6\n",
            "2 * 4 = 8\n",
            "2 * 5 = 10\n",
            "2 * 6 = 12\n",
            "2 * 7 = 14\n",
            "2 * 8 = 16\n",
            "2 * 9 = 18\n",
            "2 * 10 = 20\n"
          ]
        }
      ]
    },
    {
      "cell_type": "code",
      "source": [
        "a=[\"surya\",\"praju\"]\n",
        "for i in range(len(a)):\n",
        "  print(\"hey\",a[i])"
      ],
      "metadata": {
        "colab": {
          "base_uri": "https://localhost:8080/"
        },
        "id": "3kKABkuTsfy6",
        "outputId": "edcebb89-7a8d-41bf-eec0-c3ccccd6a562"
      },
      "execution_count": 27,
      "outputs": [
        {
          "output_type": "stream",
          "name": "stdout",
          "text": [
            "hey surya\n",
            "hey praju\n"
          ]
        }
      ]
    },
    {
      "cell_type": "code",
      "source": [
        "a=[\"amazon\",\"swiggy\",\"zomato\"]\n",
        "for i in a:\n",
        "  print(i)"
      ],
      "metadata": {
        "colab": {
          "base_uri": "https://localhost:8080/"
        },
        "id": "nKZulQTNw8I9",
        "outputId": "7207903a-a1bc-49ec-946d-e48f6a825e06"
      },
      "execution_count": 28,
      "outputs": [
        {
          "output_type": "stream",
          "name": "stdout",
          "text": [
            "amazon\n",
            "swiggy\n",
            "zomato\n"
          ]
        }
      ]
    },
    {
      "cell_type": "code",
      "source": [
        "a=[\"amazon\",\"swiggy\",\"zomato\"]\n",
        "for i in a:\n",
        "  print(i)\n",
        "  for k in i:\n",
        "    print(k)\n"
      ],
      "metadata": {
        "colab": {
          "base_uri": "https://localhost:8080/"
        },
        "id": "P8L-K59uuJxm",
        "outputId": "3a5c9855-bff5-40a1-ca69-f9bdfc01b064"
      },
      "execution_count": 31,
      "outputs": [
        {
          "output_type": "stream",
          "name": "stdout",
          "text": [
            "amazon\n",
            "a\n",
            "m\n",
            "a\n",
            "z\n",
            "o\n",
            "n\n",
            "swiggy\n",
            "s\n",
            "w\n",
            "i\n",
            "g\n",
            "g\n",
            "y\n",
            "zomato\n",
            "z\n",
            "o\n",
            "m\n",
            "a\n",
            "t\n",
            "o\n",
            "o\n"
          ]
        }
      ]
    },
    {
      "cell_type": "code",
      "source": [
        "#for loop with else\n",
        "\n",
        "for i in range(0,10,4):\n",
        "  print(i)\n",
        "else:\n",
        "  print(\"closed\")"
      ],
      "metadata": {
        "colab": {
          "base_uri": "https://localhost:8080/"
        },
        "id": "uq7qCNiaxRnB",
        "outputId": "58e1e47f-06ce-4ac8-d381-12370e9857b6"
      },
      "execution_count": 32,
      "outputs": [
        {
          "output_type": "stream",
          "name": "stdout",
          "text": [
            "0\n",
            "4\n",
            "8\n",
            "closed\n"
          ]
        }
      ]
    },
    {
      "cell_type": "code",
      "source": [
        "for i in range(0,10):\n",
        "  if (i==7):\n",
        "    break\n",
        "  print(i)"
      ],
      "metadata": {
        "colab": {
          "base_uri": "https://localhost:8080/"
        },
        "id": "JzE0kfHoxqbT",
        "outputId": "5d61de6f-ae97-44cf-b409-6c25a58630f8"
      },
      "execution_count": 34,
      "outputs": [
        {
          "output_type": "stream",
          "name": "stdout",
          "text": [
            "0\n",
            "1\n",
            "2\n",
            "3\n",
            "4\n",
            "5\n",
            "6\n"
          ]
        }
      ]
    },
    {
      "cell_type": "code",
      "source": [
        "\n",
        "for i in range(0,10):\n",
        "  if i==4:\n",
        "    continue\n",
        "  print(i)"
      ],
      "metadata": {
        "colab": {
          "base_uri": "https://localhost:8080/"
        },
        "id": "WkKwiy-s1vy9",
        "outputId": "b9c6a6ae-4d30-44c8-9d8e-12d0dcc1b939"
      },
      "execution_count": 37,
      "outputs": [
        {
          "output_type": "stream",
          "name": "stdout",
          "text": [
            "0\n",
            "1\n",
            "2\n",
            "3\n",
            "5\n",
            "6\n",
            "7\n",
            "8\n",
            "9\n"
          ]
        }
      ]
    },
    {
      "cell_type": "code",
      "source": [
        "name=input(\"name \")\n",
        "goals={'surya':12,'tarun':3,'praju':11}\n",
        "for i in goals:\n",
        "  if i==name:\n",
        "    print(goals[i])\n",
        "    break\n",
        "else:\n",
        "    print(\"no player\")"
      ],
      "metadata": {
        "colab": {
          "base_uri": "https://localhost:8080/"
        },
        "id": "SCdlroNG37KX",
        "outputId": "9c7dd121-057f-4203-f78a-5d266345fc3d"
      },
      "execution_count": 40,
      "outputs": [
        {
          "output_type": "stream",
          "name": "stdout",
          "text": [
            "name mahesh\n",
            "no player\n",
            "no player\n",
            "no player\n"
          ]
        }
      ]
    },
    {
      "cell_type": "markdown",
      "source": [
        "\n",
        "\n",
        "```\n",
        "# This is formatted as code\n",
        "```\n",
        "\n",
        "a=[2,5,7,4,6]\n",
        "cube=[]\n",
        "for i in a:\n",
        "  cube.append(i**3)\n",
        "print(cube)"
      ],
      "metadata": {
        "id": "7M0gCzcV4xoZ"
      }
    },
    {
      "cell_type": "code",
      "source": [],
      "metadata": {
        "id": "AE6NNcog5aQ8"
      },
      "execution_count": null,
      "outputs": []
    }
  ]
}
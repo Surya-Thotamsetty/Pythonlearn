{
  "nbformat": 4,
  "nbformat_minor": 0,
  "metadata": {
    "colab": {
      "provenance": [],
      "authorship_tag": "ABX9TyO8z4cpHP6kK8XVNF4JodeK",
      "include_colab_link": true
    },
    "kernelspec": {
      "name": "python3",
      "display_name": "Python 3"
    },
    "language_info": {
      "name": "python"
    }
  },
  "cells": [
    {
      "cell_type": "markdown",
      "metadata": {
        "id": "view-in-github",
        "colab_type": "text"
      },
      "source": [
        "<a href=\"https://colab.research.google.com/github/Surya-Thotamsetty/Pythonlearn/blob/main/python_Day1.ipynb\" target=\"_parent\"><img src=\"https://colab.research.google.com/assets/colab-badge.svg\" alt=\"Open In Colab\"/></a>"
      ]
    },
    {
      "cell_type": "code",
      "execution_count": 2,
      "metadata": {
        "colab": {
          "base_uri": "https://localhost:8080/"
        },
        "id": "9Ngigf_smkg3",
        "outputId": "3fe182e5-2ea5-4d75-ab72-fb8426ce5169"
      },
      "outputs": [
        {
          "output_type": "stream",
          "name": "stdout",
          "text": [
            "the python keywords are ['False', 'None', 'True', 'and', 'as', 'assert', 'async', 'await', 'break', 'class', 'continue', 'def', 'del', 'elif', 'else', 'except', 'finally', 'for', 'from', 'global', 'if', 'import', 'in', 'is', 'lambda', 'nonlocal', 'not', 'or', 'pass', 'raise', 'return', 'try', 'while', 'with', 'yield']\n"
          ]
        }
      ],
      "source": [
        "      #python Keywords\n",
        "import keyword\n",
        "print(\"the python keywords are\",keyword.kwlist)\n",
        "\n"
      ]
    },
    {
      "cell_type": "code",
      "source": [
        "        #variables\n",
        "a=12.3\n",
        "print(a)\n",
        "print(type(a)) #to see the datatype of the variable\n",
        "print(id(a))   #to see the location of the variable\n",
        "\n",
        "\n",
        "\n",
        "b=True\n",
        "print(b)\n",
        "print(type(b)) #to see the datatype of the variable\n",
        "print(id(b)) #to see the id of the variable\n"
      ],
      "metadata": {
        "colab": {
          "base_uri": "https://localhost:8080/"
        },
        "id": "Khx-qprCpu2T",
        "outputId": "05b3ffe7-76df-48f0-b568-f8c762503d75"
      },
      "execution_count": 4,
      "outputs": [
        {
          "output_type": "stream",
          "name": "stdout",
          "text": [
            "12.3\n",
            "<class 'float'>\n",
            "140008231658928\n",
            "True\n",
            "<class 'bool'>\n",
            "11399552\n"
          ]
        }
      ]
    },
    {
      "cell_type": "code",
      "source": [
        "     #redeclare and reassign variables\n",
        "\n",
        "a=10\n",
        "print(a)\n",
        "a=20                     \n",
        "print(a)\n",
        "b=a\n",
        "print(b)"
      ],
      "metadata": {
        "colab": {
          "base_uri": "https://localhost:8080/"
        },
        "id": "zry85S8Zq7De",
        "outputId": "13c73161-69dc-4e36-d1f5-be75aa9d07a3"
      },
      "execution_count": 6,
      "outputs": [
        {
          "output_type": "stream",
          "name": "stdout",
          "text": [
            "10\n",
            "20\n",
            "20\n"
          ]
        }
      ]
    },
    {
      "cell_type": "code",
      "source": [
        "        #multiple assignment\n",
        "  \n",
        "a,b,c=\"surya's age is\",20,\"years\"\n",
        "print(a,b,c)"
      ],
      "metadata": {
        "colab": {
          "base_uri": "https://localhost:8080/"
        },
        "id": "qcL6nWfarbm7",
        "outputId": "b5123c88-8521-4cb0-aaf4-50ffa0d50f11"
      },
      "execution_count": 8,
      "outputs": [
        {
          "output_type": "stream",
          "name": "stdout",
          "text": [
            "surya's age is 20 years\n"
          ]
        }
      ]
    },
    {
      "cell_type": "code",
      "source": [
        "      #complex datatypes\n",
        "\n",
        "a=3+4j\n",
        "print(a)\n",
        "print(type(a)) #to see the datatype of the variable\n"
      ],
      "metadata": {
        "colab": {
          "base_uri": "https://localhost:8080/"
        },
        "id": "MsnNVnsasLyH",
        "outputId": "8a01e98c-03ed-4e8a-dc3f-a58da5d105db"
      },
      "execution_count": 9,
      "outputs": [
        {
          "output_type": "stream",
          "name": "stdout",
          "text": [
            "(3+4j)\n",
            "<class 'complex'>\n"
          ]
        }
      ]
    },
    {
      "cell_type": "code",
      "source": [
        "        #type casting\n",
        "\n",
        "\"conversion from one datatype to another is called as Type Casting\"\n",
        "\n",
        "#implicit type conversion\n",
        "\n",
        "a=10\n",
        "b=12.34\n",
        "c=a+b\n",
        "print(c)\n",
        "print(type(c)) #to see the datatype of the variable\n",
        "\n",
        "\n",
        "#Explicit type conversion\n",
        "\n",
        "a=input(\"whats ur name \")\n",
        "print(a)                                  #by default input datatype is taken as str\n",
        "\n",
        "print(type(a)) #to see the datatype of the variable\n",
        "\n",
        "\n",
        "b=int(input(\"whats ur name \"))\n",
        "print(b)                                  #so we use int(), str(), double(), float(), etc to change its datatype\n",
        "print(type(b)) #to see the datatype of the variable"
      ],
      "metadata": {
        "colab": {
          "base_uri": "https://localhost:8080/"
        },
        "id": "6dfoeo6kshWP",
        "outputId": "efcdf9f7-d324-4495-dfd7-e6e437a1939a"
      },
      "execution_count": 12,
      "outputs": [
        {
          "output_type": "stream",
          "name": "stdout",
          "text": [
            "22.34\n",
            "<class 'float'>\n",
            "whats ur name surya\n",
            "surya\n",
            "<class 'str'>\n",
            "whats ur name 23\n",
            "23\n",
            "<class 'int'>\n"
          ]
        }
      ]
    },
    {
      "cell_type": "code",
      "source": [
        "    #input and output functions\n",
        "\n",
        "\"to print multiple print statements in a single line we can use end\" \" statement  \"\n",
        "\n",
        "print(\"Welcome to\", end = ' ')\n",
        "print(\"my world\")\n",
        "\n",
        "print(\"hey there\",end=\"\\t\")\n",
        "print(\"this is surya\")\n",
        "\n",
        "a=input(\"whats 3+2 =\")\n",
        "b=print((\"iktuk\"))"
      ],
      "metadata": {
        "colab": {
          "base_uri": "https://localhost:8080/"
        },
        "id": "yF1g7eonuuaB",
        "outputId": "29f136bd-de96-4468-c5c9-ec1996e5ac86"
      },
      "execution_count": 40,
      "outputs": [
        {
          "output_type": "stream",
          "name": "stdout",
          "text": [
            "Welcome to my world\n",
            "hey there\tthis is surya\n",
            "whats 3+2 =5\n",
            "iktuk\n"
          ]
        }
      ]
    },
    {
      "cell_type": "code",
      "source": [
        "      #eval expression\n",
        "\n",
        "exp=input(\"enter the expression\")\n",
        "x=int(input(\"entre the calue of x\"))\n",
        "eval(exp)"
      ],
      "metadata": {
        "colab": {
          "base_uri": "https://localhost:8080/"
        },
        "id": "mw0DOVr0yM4O",
        "outputId": "2fdbe932-0335-40eb-8980-130d9311f596"
      },
      "execution_count": 45,
      "outputs": [
        {
          "name": "stdout",
          "output_type": "stream",
          "text": [
            "enter the expressionx*4/x\n",
            "entre the calue of x4\n"
          ]
        },
        {
          "output_type": "execute_result",
          "data": {
            "text/plain": [
              "4.0"
            ]
          },
          "metadata": {},
          "execution_count": 45
        }
      ]
    },
    {
      "cell_type": "code",
      "source": [
        "print(\"i am using python\", end=\"\\n\")\n",
        "print(\"its my first assignment\")"
      ],
      "metadata": {
        "colab": {
          "base_uri": "https://localhost:8080/"
        },
        "id": "75QDrAL4yoHn",
        "outputId": "a1bd50f0-4cd1-4705-e0d0-bbceee367343"
      },
      "execution_count": 24,
      "outputs": [
        {
          "output_type": "stream",
          "name": "stdout",
          "text": [
            "i am using python\n",
            "its my first assignment\n"
          ]
        }
      ]
    },
    {
      "cell_type": "code",
      "source": [
        "a,b,c=\"bengalore\",\"hyderabad\",\"mysore\"\n",
        "print(a,b,c)"
      ],
      "metadata": {
        "colab": {
          "base_uri": "https://localhost:8080/"
        },
        "id": "JoJei_gGzATV",
        "outputId": "0e6b8856-99e0-4273-dad1-e3767a73baad"
      },
      "execution_count": 26,
      "outputs": [
        {
          "output_type": "stream",
          "name": "stdout",
          "text": [
            "bengalore hyderabad mysore\n"
          ]
        }
      ]
    },
    {
      "cell_type": "code",
      "source": [
        "   # to read the radius of a circle and display its area\n",
        "  \n",
        "r=float(input(\"enter the radius of the circle \"))\n",
        "area=3.14*r*r\n",
        "print(area)"
      ],
      "metadata": {
        "colab": {
          "base_uri": "https://localhost:8080/"
        },
        "id": "b4cxZ5-szNOT",
        "outputId": "a3bf79e6-d658-4a46-8955-42cadaabcc6b"
      },
      "execution_count": 28,
      "outputs": [
        {
          "output_type": "stream",
          "name": "stdout",
          "text": [
            "enter the radius of the circle 3\n",
            "28.259999999999998\n"
          ]
        }
      ]
    },
    {
      "cell_type": "code",
      "source": [
        "import math\n",
        "a=34\n",
        "b=print(bin(a))\n",
        "c=print(hex(a))\n",
        "d=print(oct(a))\n",
        "e=print(math.sqrt(a))\n"
      ],
      "metadata": {
        "colab": {
          "base_uri": "https://localhost:8080/"
        },
        "id": "CRi17Mvw0MGy",
        "outputId": "e884981f-cffb-4c34-ca33-ce395b41a40d"
      },
      "execution_count": 41,
      "outputs": [
        {
          "output_type": "stream",
          "name": "stdout",
          "text": [
            "0b100010\n",
            "0x22\n",
            "0o42\n",
            "5.830951894845301\n"
          ]
        }
      ]
    },
    {
      "cell_type": "code",
      "source": [
        "a=input(\"enter a number\")\n",
        "print(\"entered number is\",a)\n",
        "c=print(type(b),type(a))"
      ],
      "metadata": {
        "colab": {
          "base_uri": "https://localhost:8080/"
        },
        "id": "U9qBBbqv3C3x",
        "outputId": "6a2bfdfb-b3c5-4d18-a773-0ac23997062b"
      },
      "execution_count": 68,
      "outputs": [
        {
          "output_type": "stream",
          "name": "stdout",
          "text": [
            "enter a number5\n",
            "entered number is 5\n",
            "<class 'int'> <class 'str'>\n"
          ]
        }
      ]
    },
    {
      "cell_type": "code",
      "source": [
        "print(\"   ohhh!!!\",end=\"\\n\")\n",
        "print(\"  what a python language is!!!\",end=\"\\n\")\n",
        "print(\"       its easy get started!\")\n"
      ],
      "metadata": {
        "colab": {
          "base_uri": "https://localhost:8080/"
        },
        "id": "Y6He9IDv93Ei",
        "outputId": "9ec0a8bf-d9b3-4fea-c9ca-89f9118fe76f"
      },
      "execution_count": 51,
      "outputs": [
        {
          "output_type": "stream",
          "name": "stdout",
          "text": [
            "   ohhh!!!\n",
            "  what a python language is!!!\n",
            "       its easy get started!\n"
          ]
        }
      ]
    },
    {
      "cell_type": "code",
      "source": [
        "a=print(\"a\",end='')\n",
        "b=print(\"b\",end='')\n",
        "c=print(\"c\",end='')\n",
        "d=print(\"d\",end='')\n",
        "e=print(\"e\",end='')\n",
        "f=print(\"f\",end='')\n"
      ],
      "metadata": {
        "colab": {
          "base_uri": "https://localhost:8080/"
        },
        "id": "tybdgXJsA_Lh",
        "outputId": "8348bae9-a8cf-44c8-d8f9-3d633036b356"
      },
      "execution_count": 54,
      "outputs": [
        {
          "output_type": "stream",
          "name": "stdout",
          "text": [
            "abcdef"
          ]
        }
      ]
    },
    {
      "cell_type": "code",
      "source": [
        "a=int((input(\"enter a  number\")))\n",
        "b=int((input(\"enter a  number\")))\n",
        "c=a\n",
        "a=b\n",
        "b=c\n",
        "print(\"value of a after swapping is\",a)\n",
        "print(\"value of b after swapping is\",b)\n"
      ],
      "metadata": {
        "colab": {
          "base_uri": "https://localhost:8080/"
        },
        "id": "u7rEa2gjBXK8",
        "outputId": "0c07ac5a-f60c-4df6-ec00-ae35f0f28763"
      },
      "execution_count": 67,
      "outputs": [
        {
          "output_type": "stream",
          "name": "stdout",
          "text": [
            "enter a  number4\n",
            "enter a  number5\n",
            "value of a after swapping is 5\n",
            "value of b after swapping is 4\n"
          ]
        }
      ]
    },
    {
      "cell_type": "markdown",
      "source": [
        " #expression, operator and operands\n",
        " "
      ],
      "metadata": {
        "id": "vn4DUtkbN9rC"
      }
    },
    {
      "cell_type": "code",
      "source": [
        "                #expression, operator and operands\n",
        "                #a+b here a is \n",
        "                \n",
        "#arithmetic operations\n",
        "\n",
        "a=-6\n",
        "b=8\n",
        "c=print(a+b)\n",
        "d=print(a-b)\n",
        "e=print(a*b)\n",
        "f=print(a/b)\n",
        "g=print(a**b)\n",
        "h=print(a%b)             #gives reminder\n",
        "i=print(a//b)"
      ],
      "metadata": {
        "colab": {
          "base_uri": "https://localhost:8080/"
        },
        "id": "R7IB8R1iIOco",
        "outputId": "61440887-6270-4000-e3d9-2d5c7ce0e81a"
      },
      "execution_count": 72,
      "outputs": [
        {
          "output_type": "stream",
          "name": "stdout",
          "text": [
            "2\n",
            "-14\n",
            "-48\n",
            "-0.75\n",
            "1679616\n",
            "2\n",
            "-1\n"
          ]
        }
      ]
    },
    {
      "cell_type": "code",
      "source": [
        "             #assignment operation\n",
        "\n",
        "a=5\n",
        "b=4\n",
        "a+=b\n",
        "print(a)\n",
        "a-=b\n",
        "print(a)\n",
        "a*=b\n",
        "print(a)\n",
        "a/=b\n",
        "print(a)\n",
        "a**=b\n",
        "print(a)\n",
        "a//=b\n",
        "print(a)\n",
        "a%=b\n",
        "print(a)"
      ],
      "metadata": {
        "colab": {
          "base_uri": "https://localhost:8080/"
        },
        "id": "8bekjouLMYP7",
        "outputId": "be10503a-6333-442f-a922-1ef238a182f1"
      },
      "execution_count": 80,
      "outputs": [
        {
          "output_type": "stream",
          "name": "stdout",
          "text": [
            "9\n",
            "5\n",
            "20\n",
            "5.0\n",
            "625.0\n",
            "156.0\n",
            "0.0\n"
          ]
        }
      ]
    },
    {
      "cell_type": "code",
      "source": [
        "              #comparision operators\n",
        "\n",
        "a=5\n",
        "b=4\n",
        "c=print(a>b)\n",
        "d=print(a<b)\n",
        "e=print(a==b)\n",
        "f=print(a>=b)\n",
        "g=print(a<=b)\n"
      ],
      "metadata": {
        "colab": {
          "base_uri": "https://localhost:8080/"
        },
        "id": "5aipDSVwNotj",
        "outputId": "c417fff4-8dbf-4d81-8227-392a6f660f9d"
      },
      "execution_count": 83,
      "outputs": [
        {
          "output_type": "stream",
          "name": "stdout",
          "text": [
            "True\n",
            "False\n",
            "False\n",
            "True\n",
            "False\n"
          ]
        }
      ]
    },
    {
      "cell_type": "code",
      "source": [
        "            #logical operators\n",
        "\n",
        "a=\"surya\"\n",
        "b=3\n",
        "c=print(b and a)\n",
        "d=print(b or a)"
      ],
      "metadata": {
        "colab": {
          "base_uri": "https://localhost:8080/"
        },
        "id": "Law2MK4lPHdF",
        "outputId": "58403b94-8647-407d-c610-170f06f03c10"
      },
      "execution_count": 86,
      "outputs": [
        {
          "output_type": "stream",
          "name": "stdout",
          "text": [
            "surya\n",
            "3\n"
          ]
        }
      ]
    },
    {
      "cell_type": "code",
      "source": [
        "          #bitwise operators\n",
        "          #and, or, xor, rshift, lshift\n",
        "\n",
        "a=9\n",
        "b=4\n",
        "c=print(a^b)\n",
        "d=print(a>>b)\n",
        "e=print(a<<b)\n"
      ],
      "metadata": {
        "colab": {
          "base_uri": "https://localhost:8080/"
        },
        "id": "WT2C0W2_R7IQ",
        "outputId": "593530c0-2bd7-44ad-d0a2-09ee307f5dfd"
      },
      "execution_count": 88,
      "outputs": [
        {
          "output_type": "stream",
          "name": "stdout",
          "text": [
            "13\n",
            "0\n",
            "144\n"
          ]
        }
      ]
    },
    {
      "cell_type": "code",
      "source": [
        "           #identity operator\n",
        "           #is, isnot\n",
        "x=5\n",
        "print(x is 5)\n"
      ],
      "metadata": {
        "colab": {
          "base_uri": "https://localhost:8080/"
        },
        "id": "dE0h4uebT_C_",
        "outputId": "da9f1c65-8f84-4be0-98c1-50d6eb8b504a"
      },
      "execution_count": 89,
      "outputs": [
        {
          "output_type": "stream",
          "name": "stdout",
          "text": [
            "True\n"
          ]
        },
        {
          "output_type": "stream",
          "name": "stderr",
          "text": [
            "<>:4: SyntaxWarning: \"is\" with a literal. Did you mean \"==\"?\n",
            "<>:4: SyntaxWarning: \"is\" with a literal. Did you mean \"==\"?\n",
            "<ipython-input-89-9b72da19e953>:4: SyntaxWarning: \"is\" with a literal. Did you mean \"==\"?\n",
            "  print(x is 5)\n"
          ]
        }
      ]
    },
    {
      "cell_type": "code",
      "source": [
        "            #membership operator\n",
        "            #in, Not in"
      ],
      "metadata": {
        "id": "1uJaEAqxUSdB"
      },
      "execution_count": null,
      "outputs": []
    },
    {
      "cell_type": "code",
      "source": [
        "              #formated output\n",
        "\n",
        "# the %(string formatting) or {} can be used for formatting\n",
        "\n",
        "age=21\n",
        "name=\"surya\"\n",
        "year=2022\n",
        "\n",
        "#method 1\n",
        "print(\"the age of\",name,\"is\",age,\"in the year\",year)\n",
        "\n",
        "#method 2\n",
        "print(\"the age of %s is %i in the year %i\"%(name,age,year))\n",
        "\n",
        "#method 3\n",
        "print(\"the age of {} is {} in the year {}\".format(name,age,year))\n",
        "\n",
        "#method 4\n",
        "print(\"the age of {0} is {1} in the year {2}\".format(name,age,year))"
      ],
      "metadata": {
        "colab": {
          "base_uri": "https://localhost:8080/"
        },
        "id": "FQ1up530m2j6",
        "outputId": "88fc99c8-8d0e-455d-c42f-848aa089d87e"
      },
      "execution_count": 94,
      "outputs": [
        {
          "output_type": "stream",
          "name": "stdout",
          "text": [
            "the age of surya is 21 in the year 2022\n",
            "the age of surya is 21 in the year 2022\n",
            "the age of surya is 21 in the year 2022\n",
            "the age of surya is 21 in the year 2022\n"
          ]
        }
      ]
    },
    {
      "cell_type": "code",
      "source": [],
      "metadata": {
        "id": "wStKdQ4ip99c"
      },
      "execution_count": null,
      "outputs": []
    },
    {
      "cell_type": "code",
      "source": [],
      "metadata": {
        "id": "owhMZ5cVp-A_"
      },
      "execution_count": null,
      "outputs": []
    }
  ]
}
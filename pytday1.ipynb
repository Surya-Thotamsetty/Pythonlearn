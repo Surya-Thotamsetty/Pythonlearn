{
  "nbformat": 4,
  "nbformat_minor": 0,
  "metadata": {
    "colab": {
      "name": "pytday1",
      "provenance": [],
      "authorship_tag": "ABX9TyOkc5Tvwq5pl6F2VVMoSLpv",
      "include_colab_link": true
    },
    "kernelspec": {
      "name": "python3",
      "display_name": "Python 3"
    },
    "language_info": {
      "name": "python"
    }
  },
  "cells": [
    {
      "cell_type": "markdown",
      "metadata": {
        "id": "view-in-github",
        "colab_type": "text"
      },
      "source": [
        "<a href=\"https://colab.research.google.com/github/Surya-Thotamsetty/Pythonlearn/blob/main/pytday1.ipynb\" target=\"_parent\"><img src=\"https://colab.research.google.com/assets/colab-badge.svg\" alt=\"Open In Colab\"/></a>"
      ]
    },
    {
      "cell_type": "code",
      "execution_count": null,
      "metadata": {
        "colab": {
          "base_uri": "https://localhost:8080/"
        },
        "id": "1P4WS6oe56P-",
        "outputId": "1af1604c-b89b-42cd-e342-b2c45fd98004"
      },
      "outputs": [
        {
          "output_type": "stream",
          "name": "stdout",
          "text": [
            "you know what's more amazing than a butter naan?\n",
            "  \n",
            "more butter naan's more butter naan's \n",
            "you know what's more amazing than a butter naan?\n",
            "more butter naan's\n"
          ]
        }
      ],
      "source": [
        "surya=print(\"you know what's more amazing than a butter naan?\\n  \")\n",
        "tarun=print(\"more butter naan's \"*2)\n",
        "\n",
        "surya=\"you know what's more amazing than a butter naan?\\n\"\n",
        "tarun=\"more butter naan's\"\n",
        "print(surya+tarun)"
      ]
    },
    {
      "cell_type": "code",
      "source": [
        "one_cheddy=int(250)\n",
        "one_pant=int(900)\n",
        "print(one_cheddy*3+one_pant*7)"
      ],
      "metadata": {
        "colab": {
          "base_uri": "https://localhost:8080/"
        },
        "id": "fPcvZYRZ9jez",
        "outputId": "9cc48b37-c49a-4900-bc9d-c847b97ec9ae"
      },
      "execution_count": null,
      "outputs": [
        {
          "output_type": "stream",
          "name": "stdout",
          "text": [
            "7050\n"
          ]
        }
      ]
    },
    {
      "cell_type": "code",
      "source": [
        "fname=\"surya\"\n",
        "lname=\"setty\"\n",
        "print(f\"{fname} 's full name is {fname} thotam {lname}\")"
      ],
      "metadata": {
        "colab": {
          "base_uri": "https://localhost:8080/"
        },
        "id": "schAemyh-MPI",
        "outputId": "c678a228-2853-4e5a-a655-cafd92216928"
      },
      "execution_count": null,
      "outputs": [
        {
          "output_type": "stream",
          "name": "stdout",
          "text": [
            "surya 's full name is surya thotam setty\n"
          ]
        }
      ]
    },
    {
      "cell_type": "code",
      "source": [
        "name=input()\n",
        "ffood=input()\n",
        "print(f\"{name} 's fav food is {ffood}\")"
      ],
      "metadata": {
        "colab": {
          "base_uri": "https://localhost:8080/"
        },
        "id": "VBTCFaAB_Y2R",
        "outputId": "8c83a7a9-71a3-4d8c-8db3-6c034f76b879"
      },
      "execution_count": null,
      "outputs": [
        {
          "output_type": "stream",
          "name": "stdout",
          "text": [
            "surya\n",
            "butter naan and baby corn curry\n",
            "surya 's fav food is butter naan and baby corn curry\n"
          ]
        }
      ]
    },
    {
      "cell_type": "code",
      "source": [
        "name=input(\"what's ur name \")\n",
        "bday=int(input(\"enter your birth year \"))\n",
        "cyear=int(input(\"enter the current year \"))\n",
        "age=cyear-bday\n",
        "print(age )\n",
        "\n",
        "name1=input(\"what's your frnd name\")\n",
        "byear=int(input(\"when were u born\"))\n",
        "cuyear=int(input(\"what year is this\"))\n",
        "age2=cuyear-byear\n",
        "print(age2)\n",
        "\n",
        "agediff=age2-age\n",
        "print(\"the age difference btw the two is\", agediff)"
      ],
      "metadata": {
        "colab": {
          "base_uri": "https://localhost:8080/"
        },
        "id": "XIHZFT2BAT3J",
        "outputId": "f568ecee-3abf-48d6-f192-cfd35a65bfa2"
      },
      "execution_count": null,
      "outputs": [
        {
          "output_type": "stream",
          "name": "stdout",
          "text": [
            "what's ur name surya\n",
            "enter your birth year 2022\n",
            "enter the current year 2032\n",
            "10\n",
            "what's your frnd nametarun\n",
            "when were u born2020\n",
            "what year is this2032\n",
            "12\n",
            "the age difference btw the two is 2\n"
          ]
        }
      ]
    },
    {
      "cell_type": "code",
      "source": [
        "#1km = 1000m\n",
        "x=int(input(\"enter no of km \"))\n",
        "m=x*1000\n",
        "print(x,\"km is \",m,\"meters\")"
      ],
      "metadata": {
        "colab": {
          "base_uri": "https://localhost:8080/"
        },
        "id": "_ajbJuKeE_V7",
        "outputId": "65a26cce-93f2-49ea-9cff-f2e02a13c3bb"
      },
      "execution_count": null,
      "outputs": [
        {
          "output_type": "stream",
          "name": "stdout",
          "text": [
            "enter no of km 3\n",
            "3 km is  3000 meters\n"
          ]
        }
      ]
    },
    {
      "cell_type": "code",
      "source": [
        "intro='''\n",
        "name = praju\n",
        "age= 20\n",
        "hobbies= to fascinate students'''\n",
        "print(intro)"
      ],
      "metadata": {
        "colab": {
          "base_uri": "https://localhost:8080/"
        },
        "id": "GE2V800pIZu5",
        "outputId": "83aa974c-2386-4120-fb7c-f75ef83315f8"
      },
      "execution_count": null,
      "outputs": [
        {
          "output_type": "stream",
          "name": "stdout",
          "text": [
            "\n",
            "name = praju\n",
            "age= 20\n",
            "hobbies= to fascinate students\n"
          ]
        }
      ]
    },
    {
      "cell_type": "code",
      "source": [
        "name=\"magar govinda surya\"\n",
        "print(name[:])\n",
        "print(name[:3])\n",
        "print(name[3:9])\n",
        "print(name[-1:])\n",
        "print(name[0:3])"
      ],
      "metadata": {
        "colab": {
          "base_uri": "https://localhost:8080/"
        },
        "id": "Q9Hf4-LJKRqi",
        "outputId": "ac51bee0-0122-43c6-a416-559ad3fec874"
      },
      "execution_count": null,
      "outputs": [
        {
          "output_type": "stream",
          "name": "stdout",
          "text": [
            "magar govinda surya\n",
            "mag\n",
            "ar gov\n",
            "a\n",
            "mag\n"
          ]
        }
      ]
    },
    {
      "cell_type": "code",
      "source": [
        "#formated text f\"{}\"\"\n",
        "a=int(input())\n",
        "b=a*2.204\n",
        "print(f\"{a} kg is {b} lbs\")"
      ],
      "metadata": {
        "colab": {
          "base_uri": "https://localhost:8080/"
        },
        "id": "EYAKjqLsL3mK",
        "outputId": "52b44bee-425e-4bb5-b2af-099a3f6f9881"
      },
      "execution_count": null,
      "outputs": [
        {
          "output_type": "stream",
          "name": "stdout",
          "text": [
            "72\n",
            "72 kg is 158.68800000000002 lbs\n"
          ]
        }
      ]
    },
    {
      "cell_type": "code",
      "source": [
        "#len function this gives the size of the string. And .upper converts lower to upper. also title() fun which makes every starting letter of a word capital.\n",
        "essay=('''Note : F-strings are faster than the two most commonly used string formatting mechanisms, which are % formatting and str.format(). \n",
        "  \n",
        "Let’s see few error examples, which might occur while using f-string :\n",
        "Code #3 : Demonstrating Syntax error. ''')\n",
        "print(len(essay))\n",
        "print(essay.upper())\n",
        "print(essay.title())"
      ],
      "metadata": {
        "colab": {
          "base_uri": "https://localhost:8080/"
        },
        "id": "TtUEQODk2l8p",
        "outputId": "1542f801-d9fe-4fac-84b4-06303ceb3b50"
      },
      "execution_count": null,
      "outputs": [
        {
          "output_type": "stream",
          "name": "stdout",
          "text": [
            "244\n",
            "NOTE : F-STRINGS ARE FASTER THAN THE TWO MOST COMMONLY USED STRING FORMATTING MECHANISMS, WHICH ARE % FORMATTING AND STR.FORMAT(). \n",
            "  \n",
            "LET’S SEE FEW ERROR EXAMPLES, WHICH MIGHT OCCUR WHILE USING F-STRING :\n",
            "CODE #3 : DEMONSTRATING SYNTAX ERROR. \n",
            "Note : F-Strings Are Faster Than The Two Most Commonly Used String Formatting Mechanisms, Which Are % Formatting And Str.Format(). \n",
            "  \n",
            "Let’S See Few Error Examples, Which Might Occur While Using F-String :\n",
            "Code #3 : Demonstrating Syntax Error. \n"
          ]
        }
      ]
    },
    {
      "cell_type": "code",
      "source": [
        "#find function and it is case sensitive if the given letter is not found it prints -1\n",
        "name=(\"kdhsigkgikgsegvberiyy\")\n",
        "print(name.find('a'))\n",
        "study=(\"i love studying\")\n",
        "print(study.find(\"love\"))"
      ],
      "metadata": {
        "colab": {
          "base_uri": "https://localhost:8080/"
        },
        "id": "8xGcaDU73rvE",
        "outputId": "7661c3f1-a054-4b0d-97e7-f3baf61875ad"
      },
      "execution_count": null,
      "outputs": [
        {
          "output_type": "stream",
          "name": "stdout",
          "text": [
            "-1\n",
            "2\n"
          ]
        }
      ]
    },
    {
      "cell_type": "code",
      "source": [
        "#replace function and it is case sensitive like find function and if the letter is changed in its sensitivity it doenst replace anything\n",
        "a=(\"gitam tho sadhidham \")\n",
        "b=(\"emundhani sadhincheki\")\n",
        "c=a+b\n",
        "print(c)\n",
        "print(c.replace(\"sadhincheki\",\"akkada\"))\n",
        "print(c.replace(\"Sadhincheki\",\"akkada\"))"
      ],
      "metadata": {
        "colab": {
          "base_uri": "https://localhost:8080/"
        },
        "id": "J_hiWvYs4HfX",
        "outputId": "c96335e2-4d90-4081-858e-878b775f1c8e"
      },
      "execution_count": null,
      "outputs": [
        {
          "output_type": "stream",
          "name": "stdout",
          "text": [
            "gitam tho sadhidham emundhani sadhincheki\n",
            "gitam tho sadhidham emundhani akkada\n",
            "gitam tho sadhidham emundhani sadhincheki\n"
          ]
        }
      ]
    },
    {
      "cell_type": "code",
      "source": [
        "#in function is used to find if a string is present in particular sentence. It is a boolean function and gives output as either true or false\n",
        "intro=input(\"\")\n",
        "print(\"a**hole\" in intro)"
      ],
      "metadata": {
        "colab": {
          "base_uri": "https://localhost:8080/"
        },
        "id": "YO3WMuO85QuI",
        "outputId": "8211b5b0-cba9-414f-866c-b8f95f5b3518"
      },
      "execution_count": null,
      "outputs": [
        {
          "output_type": "stream",
          "name": "stdout",
          "text": [
            "this is surya of cse iot and tarun is an asshole\n",
            "False\n"
          ]
        }
      ]
    },
    {
      "cell_type": "code",
      "source": [
        " #arithematic operations\n",
        "a=int(input(\"enter a number\"))\n",
        "b=int(input(\"enter another number \"))\n",
        "add=(a+b)\n",
        "print(\"the addition of a and b is \",add)\n",
        "sub=(a-b)\n",
        "print(\"the subtraction of a and b is \",sub)\n",
        "mul=(a*b)\n",
        "print(\"the multiplication of a and b is \",mul)\n",
        "\n",
        "div=(a/b)\n",
        "print(\"the division of a and b in float number is \",div)\n",
        "divi=(a//b)\n",
        "print(\"the division of a and b in integer is \",divi)\n",
        "divis=(a%b)\n",
        "print(\"the division of a and b to get the remainder is \",divis)\n",
        "sqe=(a**b)\n",
        "print(\"the power of a and b is \",sqe)  #exponentiation or power = **\n",
        "\n",
        "\n"
      ],
      "metadata": {
        "colab": {
          "base_uri": "https://localhost:8080/"
        },
        "id": "HSVx2lP17c_7",
        "outputId": "91f5f8c5-2b55-470f-ea8e-70f4aab30fa3"
      },
      "execution_count": null,
      "outputs": [
        {
          "output_type": "stream",
          "name": "stdout",
          "text": [
            "enter a number42\n",
            "enter another number 3\n",
            "the addition of a and b is  45\n",
            "the subtraction of a and b is  39\n",
            "the multiplication of a and b is  126\n",
            "the division of a and b in float number is  14.0\n",
            "the division of a and b in integer is  14\n",
            "the division of a and b to get the remainder is  0\n",
            "the power of a and b is  74088\n"
          ]
        }
      ]
    },
    {
      "cell_type": "code",
      "source": [
        "#augumented operators are like +=, -=, *=, /=, ........\n",
        "a=int(input())   #a=2\n",
        "b=int(input())   #b=3\n",
        "print(a+b)       #a+b=5\n",
        "a=a*b            #a=2*3=6\n",
        "print(a)         #now a = 6\n",
        "a*=b             #(a*=b)  =  (6*=3) = 18\n",
        "\n",
        "\n",
        "print(a)"
      ],
      "metadata": {
        "colab": {
          "base_uri": "https://localhost:8080/"
        },
        "id": "NyR2st1K-mzy",
        "outputId": "af44cc53-bb83-4864-f1ea-6d38b4f16ec0"
      },
      "execution_count": null,
      "outputs": [
        {
          "output_type": "stream",
          "name": "stdout",
          "text": [
            "2\n",
            "3\n",
            "5\n",
            "6\n",
            "18\n"
          ]
        }
      ]
    },
    {
      "cell_type": "code",
      "source": [
        "#Bodmas paranthesis, exponential, division, multiplication, addition, subtraction.\n",
        "a=(32-12)+23/2*2**3\n",
        "print (a)"
      ],
      "metadata": {
        "colab": {
          "base_uri": "https://localhost:8080/"
        },
        "id": "nfmr8DfXCMqa",
        "outputId": "8a9bff42-6b1f-4e79-f98e-17587657f910"
      },
      "execution_count": null,
      "outputs": [
        {
          "output_type": "stream",
          "name": "stdout",
          "text": [
            "112.0\n"
          ]
        }
      ]
    },
    {
      "cell_type": "code",
      "source": [
        "#round(which gives the round figure of floating numbers) and abs(absolute which always gives positive value)\n",
        "a=float(input())\n",
        "b=float(input())\n",
        "print(abs(a-b))\n",
        "print(a-b)\n",
        "print(round(a/b))\n",
        "print(a/b)\n"
      ],
      "metadata": {
        "colab": {
          "base_uri": "https://localhost:8080/"
        },
        "id": "FzrNQqfkDRmA",
        "outputId": "8aa3fb92-c79d-4431-edd4-16045d4fa7b4"
      },
      "execution_count": null,
      "outputs": [
        {
          "output_type": "stream",
          "name": "stdout",
          "text": [
            "33.23\n",
            "45.32\n",
            "12.090000000000003\n",
            "-12.090000000000003\n",
            "1\n",
            "0.7332303618711385\n"
          ]
        }
      ]
    },
    {
      "cell_type": "code",
      "source": [
        "#math operations using import math function . Few examples of math functions are ceil, floor, \n",
        "import math\n",
        "a=12\n",
        "b=13.32\n",
        "print(math.ceil(a+b))\n",
        "print(math.floor(a+b))\n",
        "print(math.fabs(3.34))"
      ],
      "metadata": {
        "colab": {
          "base_uri": "https://localhost:8080/"
        },
        "id": "PYkNCR6uELRJ",
        "outputId": "0ad9a1e4-f6ec-41ad-d533-cf2f1a4fa234"
      },
      "execution_count": null,
      "outputs": [
        {
          "output_type": "stream",
          "name": "stdout",
          "text": [
            "26\n",
            "25\n",
            "3.34\n"
          ]
        }
      ]
    },
    {
      "cell_type": "code",
      "source": [
        "price=int(input(\"price of house is \"))\n",
        "profit=True\n",
        "if profit:\n",
        "  dpayment=price*0.1\n",
        "else:\n",
        "  dpayment=price*0.2\n",
        "print(f'down payment is ${dpayment}')\n"
      ],
      "metadata": {
        "colab": {
          "base_uri": "https://localhost:8080/"
        },
        "id": "jaBLOSdHHFp-",
        "outputId": "e4a356fb-2020-4cdc-f327-1c117dd9fcc4"
      },
      "execution_count": null,
      "outputs": [
        {
          "output_type": "stream",
          "name": "stdout",
          "text": [
            "price of house is 1000000\n",
            "down payment is $100000.0\n"
          ]
        }
      ]
    },
    {
      "cell_type": "code",
      "source": [
        "#simple interest= (Amount*Year*Rate)/100\n",
        "amount=int(input(\"enter the amount\"))\n",
        "years=int(input(\"enter no of years\"))\n",
        "roi=float(input(\"enter the rate of interest\"))\n",
        "simple_interest=(amount*years*roi)/100\n",
        "print(simple_interest)"
      ],
      "metadata": {
        "colab": {
          "base_uri": "https://localhost:8080/"
        },
        "id": "egp1jsChEwzx",
        "outputId": "c9e8189d-1789-4009-88e6-8aea5338ac36"
      },
      "execution_count": null,
      "outputs": [
        {
          "output_type": "stream",
          "name": "stdout",
          "text": [
            "enter the amount3000\n",
            "enter no of years32\n",
            "enter the rate of interest1.6\n",
            "1536.0\n"
          ]
        }
      ]
    },
    {
      "cell_type": "code",
      "source": [
        "                                                                          # python day 2"
      ],
      "metadata": {
        "id": "Gf4YEr2RW9AR"
      },
      "execution_count": null,
      "outputs": []
    },
    {
      "cell_type": "code",
      "source": [],
      "metadata": {
        "id": "_cslmlibXCWS"
      },
      "execution_count": null,
      "outputs": []
    },
    {
      "cell_type": "code",
      "source": [
        "name=input(\"whats ur name \")\n",
        "size=int(input(\"ur size \"))\n",
        "cls=int(input(\"which class are u studying \"))\n",
        "a=f'my name is {name} and my size is {size} i am studying in {cls} class'\n",
        "print(a.upper())\n",
        "print(a.title())"
      ],
      "metadata": {
        "colab": {
          "base_uri": "https://localhost:8080/"
        },
        "id": "mk2xdYTGXCoy",
        "outputId": "784d7d48-20f4-48dd-ac43-cb88f002b6ed"
      },
      "execution_count": null,
      "outputs": [
        {
          "output_type": "stream",
          "name": "stdout",
          "text": [
            "whats ur name fesfeef\n",
            "ur size 34\n",
            "which class are u studying 21\n",
            "MY NAME IS FESFEEF AND MY SIZE IS 34 I AM STUDYING IN 21 CLASS\n",
            "My Name Is Fesfeef And My Size Is 34 I Am Studying In 21 Class\n"
          ]
        }
      ]
    },
    {
      "cell_type": "code",
      "source": [
        "#if statement\n",
        "name=input(\"whats ur name\")\n",
        "looks = input(\"does he look hot (yes/no)\")\n",
        "if looks == \"yes\":\n",
        "  print(f\"lets go on a date {name}\")\n",
        "elif looks == \"no\":\n",
        "  print(\"i dont even know who u are\")\n",
        "else:\n",
        "  print(\"sorry wrong ans\")"
      ],
      "metadata": {
        "colab": {
          "base_uri": "https://localhost:8080/"
        },
        "id": "jZlfijSRaO7g",
        "outputId": "a7e08e10-b2af-4916-9afe-c4f2be0a8184"
      },
      "execution_count": null,
      "outputs": [
        {
          "output_type": "stream",
          "name": "stdout",
          "text": [
            "whats ur namesurya\n",
            "does he look hot (yes/no)fjsdlf\n",
            "sorry wrong ans\n"
          ]
        }
      ]
    },
    {
      "cell_type": "code",
      "source": [
        "price=1000000\n",
        "has_good_credit=True\n",
        "\n",
        "if has_good_credit:\n",
        "  d_payment=0.1*price\n",
        "else:\n",
        "  d_payment=0.2*price\n",
        "print(d_payment)"
      ],
      "metadata": {
        "colab": {
          "base_uri": "https://localhost:8080/"
        },
        "id": "Sdsoa5Xkg6jA",
        "outputId": "211119e5-22d3-407b-f654-2397bbb10cf0"
      },
      "execution_count": null,
      "outputs": [
        {
          "output_type": "stream",
          "name": "stdout",
          "text": [
            "100000.0\n"
          ]
        }
      ]
    },
    {
      "cell_type": "code",
      "source": [
        "# logical operators AND, OR, NOT(boolean and it changes true to false and viceversa)\n",
        "\n",
        "has_dk= False\n",
        "is_gay= True\n",
        "\n",
        "if has_dk and not is_gay:\n",
        "  print(\"he is a gay\")\n",
        "else:\n",
        "  print(\"he is a man\") "
      ],
      "metadata": {
        "colab": {
          "base_uri": "https://localhost:8080/"
        },
        "id": "1wz411ozxtMe",
        "outputId": "72f32475-34df-4414-c7a1-2a8dfbd3b3bb"
      },
      "execution_count": null,
      "outputs": [
        {
          "output_type": "stream",
          "name": "stdout",
          "text": [
            "he is a man\n"
          ]
        }
      ]
    },
    {
      "cell_type": "code",
      "source": [
        "#comparision operators >, >=, <, <=, ==, !=\n",
        "\n",
        "profit=int(input(\"\"))\n",
        "expences=int(input(\"\"))\n",
        "if profit>expences:\n",
        "  print(\"you are happy\")\n",
        "elif profit==expences:\n",
        "  print(\"neither happy nor broke\")\n",
        "else:\n",
        "  print(\"you are broke\")"
      ],
      "metadata": {
        "colab": {
          "base_uri": "https://localhost:8080/"
        },
        "id": "r5Wo0kw009p6",
        "outputId": "816cd187-cc24-4293-ffcc-458da60240e6"
      },
      "execution_count": null,
      "outputs": [
        {
          "output_type": "stream",
          "name": "stdout",
          "text": [
            "30000\n",
            "23000\n",
            "you are happy\n"
          ]
        }
      ]
    },
    {
      "cell_type": "code",
      "source": [
        "name=input(\"ur name \")\n",
        "if len(name)<3:\n",
        "  print(\"name must be atleast 3 char \")\n",
        "elif len(name)>50:\n",
        "  print(\"name cant be more than 50 \")\n",
        "else:\n",
        "  print(\"ur names good \")"
      ],
      "metadata": {
        "colab": {
          "base_uri": "https://localhost:8080/"
        },
        "id": "lmVNzApj2szK",
        "outputId": "3e4b4755-b312-4585-c6cb-926d8b860bd2"
      },
      "execution_count": null,
      "outputs": [
        {
          "output_type": "stream",
          "name": "stdout",
          "text": [
            "ur namesurya\n",
            "ur names good\n"
          ]
        }
      ]
    },
    {
      "cell_type": "code",
      "source": [
        "                                                                                #Day 3"
      ],
      "metadata": {
        "id": "2gbVs9pV3ZOd"
      },
      "execution_count": null,
      "outputs": []
    },
    {
      "cell_type": "code",
      "source": [
        "name=input(\"whats ur name \")\n",
        "if len(name)<3:                                         \n",
        "  print(\"name must be atleast 3 chars\")\n",
        "elif len(name)>6:\n",
        "  print(\"name cant exceed 50 chars\")\n",
        "else:\n",
        "  print(\"name looks good\")"
      ],
      "metadata": {
        "colab": {
          "base_uri": "https://localhost:8080/"
        },
        "id": "wsf1SoJ0Rco5",
        "outputId": "c717859e-55ec-4e91-fbc2-a098b6b505e6"
      },
      "execution_count": null,
      "outputs": [
        {
          "output_type": "stream",
          "name": "stdout",
          "text": [
            "whats ur name se\n",
            "name must be atleast 3 chars\n"
          ]
        }
      ]
    },
    {
      "cell_type": "code",
      "source": [
        "i=10\n",
        "while i>5:\n",
        "  i=i-1\n",
        "  print(\"surya\")\n",
        "  "
      ],
      "metadata": {
        "colab": {
          "base_uri": "https://localhost:8080/"
        },
        "id": "cZmZuKMTS0iT",
        "outputId": "32596d86-9beb-4de0-d789-c29e4ae26ed2"
      },
      "execution_count": null,
      "outputs": [
        {
          "output_type": "stream",
          "name": "stdout",
          "text": [
            "surya\n",
            "surya\n",
            "surya\n",
            "surya\n",
            "surya\n"
          ]
        }
      ]
    },
    {
      "cell_type": "code",
      "source": [
        "a=int(input())\n",
        "while a<13:\n",
        "  a=a+1\n",
        "  print(\"surya\")"
      ],
      "metadata": {
        "colab": {
          "base_uri": "https://localhost:8080/"
        },
        "id": "9ZTp6mqpVRgj",
        "outputId": "e493f27f-a5bb-4412-807e-be620d67619a"
      },
      "execution_count": null,
      "outputs": [
        {
          "output_type": "stream",
          "name": "stdout",
          "text": [
            "11\n",
            "surya\n",
            "surya\n"
          ]
        }
      ]
    },
    {
      "cell_type": "code",
      "source": [
        "#guess game\n",
        "chances=3\n",
        "num=13\n",
        "while chances>0:\n",
        "  chances=chances-1\n",
        "  b=int(input(\"guess the number\"))\n",
        "  if b==num:\n",
        "    print(\"u r right\")\n",
        "    break;\n",
        "  else:\n",
        "    print(\"try again\")"
      ],
      "metadata": {
        "colab": {
          "base_uri": "https://localhost:8080/"
        },
        "id": "NV8Y9lIUXiez",
        "outputId": "481c2f83-82cd-4b19-da02-742cdab30201"
      },
      "execution_count": null,
      "outputs": [
        {
          "output_type": "stream",
          "name": "stdout",
          "text": [
            "guess the number13\n",
            "u r right\n"
          ]
        }
      ]
    },
    {
      "cell_type": "code",
      "source": [
        "#car help program\n",
        "x=input(\"how may i help \")\n",
        "if x==\"start\":\n",
        "  print(\"to start the car\")\n",
        "elif x==(\"stop\" or \"STOP\"):\n",
        "  print(\"to stop the car\")\n",
        "elif x==(\"exit\" or \"EXIT\"):\n",
        "  print(\"to exit\")\n",
        "else:\n",
        "  print(\"i dont understand\") "
      ],
      "metadata": {
        "colab": {
          "base_uri": "https://localhost:8080/"
        },
        "id": "ZdGPgvhAYyM2",
        "outputId": "87b0c7f3-a8db-430c-fce1-662691dc0b71"
      },
      "execution_count": null,
      "outputs": [
        {
          "output_type": "stream",
          "name": "stdout",
          "text": [
            "what do u want adsffd\n",
            "how may i help sfdas\n",
            "i dont understand\n"
          ]
        }
      ]
    },
    {
      "cell_type": "code",
      "source": [],
      "metadata": {
        "id": "jE75V_rnhlY0"
      },
      "execution_count": null,
      "outputs": []
    }
  ]
}
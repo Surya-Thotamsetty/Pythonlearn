{
  "nbformat": 4,
  "nbformat_minor": 0,
  "metadata": {
    "colab": {
      "provenance": [],
      "authorship_tag": "ABX9TyNPmqPcjXRt8VZrdF+INc4U",
      "include_colab_link": true
    },
    "kernelspec": {
      "name": "python3",
      "display_name": "Python 3"
    },
    "language_info": {
      "name": "python"
    }
  },
  "cells": [
    {
      "cell_type": "markdown",
      "metadata": {
        "id": "view-in-github",
        "colab_type": "text"
      },
      "source": [
        "<a href=\"https://colab.research.google.com/github/Surya-Thotamsetty/Pythonlearn/blob/main/python_day_3.ipynb\" target=\"_parent\"><img src=\"https://colab.research.google.com/assets/colab-badge.svg\" alt=\"Open In Colab\"/></a>"
      ]
    },
    {
      "cell_type": "code",
      "execution_count": 4,
      "metadata": {
        "colab": {
          "base_uri": "https://localhost:8080/"
        },
        "id": "z6dKxg_52G10",
        "outputId": "91f91ee5-44cf-49b6-cff3-0f93cbc340de"
      },
      "outputs": [
        {
          "output_type": "stream",
          "name": "stdout",
          "text": [
            "enter a number 6\n",
            "triangular num is  21\n"
          ]
        }
      ],
      "source": [
        "#program to generate triangular number. for 5 its triangular number will be (1+2+3+4+5)=15\n",
        "\n",
        "a=int(input(\"enter a number \"))\n",
        "triangularnum=0\n",
        "for i in range(a,0,-1):\n",
        "  triangularnum=triangularnum+i\n",
        "print(\"triangular num is \",triangularnum)"
      ]
    },
    {
      "cell_type": "code",
      "source": [
        "a=int(input(\"enter a number\"))\n",
        "sum=0\n",
        "for i in range(0,a):\n",
        "  sum=sum+i\n",
        "print(sum)"
      ],
      "metadata": {
        "colab": {
          "base_uri": "https://localhost:8080/"
        },
        "id": "jPEozKs57iWT",
        "outputId": "b4ec022d-bf06-4d6a-fdd9-3efc87cd256b"
      },
      "execution_count": 10,
      "outputs": [
        {
          "output_type": "stream",
          "name": "stdout",
          "text": [
            "enter a number6\n",
            "15\n"
          ]
        }
      ]
    },
    {
      "cell_type": "code",
      "source": [
        "for i in range(1,4,1):\n",
        "  for j in range(1,4,1):\n",
        "    print('i=',i,'j=',j,'i+j=',i+j)\n",
        "  print(\"end of the program\")"
      ],
      "metadata": {
        "colab": {
          "base_uri": "https://localhost:8080/"
        },
        "id": "GFkHJof58jWo",
        "outputId": "b760fe77-3f0c-49b4-bb29-1d0b1074035c"
      },
      "execution_count": 16,
      "outputs": [
        {
          "output_type": "stream",
          "name": "stdout",
          "text": [
            "i= 1 j= 1 i+j= 2\n",
            "i= 1 j= 2 i+j= 3\n",
            "i= 1 j= 3 i+j= 4\n",
            "end of the program\n",
            "i= 2 j= 1 i+j= 3\n",
            "i= 2 j= 2 i+j= 4\n",
            "i= 2 j= 3 i+j= 5\n",
            "end of the program\n",
            "i= 3 j= 1 i+j= 4\n",
            "i= 3 j= 2 i+j= 5\n",
            "i= 3 j= 3 i+j= 6\n",
            "end of the program\n"
          ]
        }
      ]
    },
    {
      "cell_type": "code",
      "source": [
        "       #ROWS=OUTER LOOP AND COLUMN = INNER LOOP\n",
        "\n",
        "\n",
        "for i in range(1,11):\n",
        "  for j in range(1,6):\n",
        "    print (format(i*j,'4d'),end='')\n",
        "  print()\n",
        "print(\"end of the program\")\n",
        "  "
      ],
      "metadata": {
        "colab": {
          "base_uri": "https://localhost:8080/"
        },
        "id": "60hys7Af8teD",
        "outputId": "86cd22d0-62e9-4b49-fdb0-edf96a59ffd5"
      },
      "execution_count": 30,
      "outputs": [
        {
          "output_type": "stream",
          "name": "stdout",
          "text": [
            "   1   2   3   4   5\n",
            "   2   4   6   8  10\n",
            "   3   6   9  12  15\n",
            "   4   8  12  16  20\n",
            "   5  10  15  20  25\n",
            "   6  12  18  24  30\n",
            "   7  14  21  28  35\n",
            "   8  16  24  32  40\n",
            "   9  18  27  36  45\n",
            "  10  20  30  40  50\n",
            "end of the program\n"
          ]
        }
      ]
    },
    {
      "cell_type": "code",
      "source": [
        "#write a program to display the pattern of stars\n",
        "for i in range(5,0,-1):\n",
        "  for j in range(i):\n",
        "    print('*',end=' ')\n",
        "    i=i+1\n",
        "  print()"
      ],
      "metadata": {
        "colab": {
          "base_uri": "https://localhost:8080/"
        },
        "id": "OEcLm6jEFVzU",
        "outputId": "3e56c52a-f8a3-4cda-b288-89d606c71491"
      },
      "execution_count": 51,
      "outputs": [
        {
          "output_type": "stream",
          "name": "stdout",
          "text": [
            "* * * * * \n",
            "* * * * \n",
            "* * * \n",
            "* * \n",
            "* \n"
          ]
        }
      ]
    },
    {
      "cell_type": "code",
      "source": [
        "for i in range(1,6):\n",
        "  for j in range(i):\n",
        "    print('*',end=' ')\n",
        "    i=i+1\n",
        "  print()"
      ],
      "metadata": {
        "colab": {
          "base_uri": "https://localhost:8080/"
        },
        "id": "GoCfULfCH-V2",
        "outputId": "52cfb3ce-886a-47e1-add0-7d2e9c31511c"
      },
      "execution_count": 52,
      "outputs": [
        {
          "output_type": "stream",
          "name": "stdout",
          "text": [
            "* \n",
            "* * \n",
            "* * * \n",
            "* * * * \n",
            "* * * * * \n"
          ]
        }
      ]
    },
    {
      "cell_type": "code",
      "source": [
        "for i in range(1,7):\n",
        "  for j in range(1,i):\n",
        "    print(j,end=' ')\n",
        "    i=i+1\n",
        "  print()"
      ],
      "metadata": {
        "colab": {
          "base_uri": "https://localhost:8080/"
        },
        "id": "50gvLsG1XWL2",
        "outputId": "8e9b1379-8104-4b23-c550-a8d5095c5175"
      },
      "execution_count": 73,
      "outputs": [
        {
          "output_type": "stream",
          "name": "stdout",
          "text": [
            "\n",
            "1 \n",
            "1 2 \n",
            "1 2 3 \n",
            "1 2 3 4 \n",
            "1 2 3 4 5 \n"
          ]
        }
      ]
    },
    {
      "cell_type": "code",
      "source": [
        "rows=5\n",
        "for i in range(0, rows):\n",
        "  for j in range(0, i + 1): \n",
        "    print(j+1, end=' ')   \n",
        "  print(\" \") \n",
        "#rows=5   \n",
        "for i in range(rows+1, 0,-1):\n",
        "  for j in range(0, i - 1): \n",
        "    print(j+1, end=' ')  \n",
        "  print(\" \")"
      ],
      "metadata": {
        "colab": {
          "base_uri": "https://localhost:8080/"
        },
        "id": "LwX8tf8-Xfpc",
        "outputId": "d63b3d21-6b02-46dd-8024-8f01ca31be7a"
      },
      "execution_count": 79,
      "outputs": [
        {
          "output_type": "stream",
          "name": "stdout",
          "text": [
            "1  \n",
            "1 2  \n",
            "1 2 3  \n",
            "1 2 3 4  \n",
            "1 2 3 4 5  \n",
            "1 2 3 4 5  \n",
            "1 2 3 4  \n",
            "1 2 3  \n",
            "1 2  \n",
            "1  \n",
            " \n"
          ]
        }
      ]
    },
    {
      "cell_type": "code",
      "source": [
        "a=5\n",
        "for i in range(0,a):\n",
        "  for j in range(0,i+1):\n",
        "    print(j+1,end=' ')\n",
        "  print(\" \")\n",
        "for i in range(a,0,-1):\n",
        "  for j in range(0,i-1):\n",
        "    print(j+1,end=' ')\n",
        "  print(\" \")"
      ],
      "metadata": {
        "colab": {
          "base_uri": "https://localhost:8080/"
        },
        "id": "WB9R4-WoZ3UT",
        "outputId": "cd3755f1-b29a-4bf8-bbd0-90b42496699b"
      },
      "execution_count": 93,
      "outputs": [
        {
          "output_type": "stream",
          "name": "stdout",
          "text": [
            "1  \n",
            "1 2  \n",
            "1 2 3  \n",
            "1 2 3 4  \n",
            "1 2 3 4 5  \n",
            "1 2 3 4  \n",
            "1 2 3  \n",
            "1 2  \n",
            "1  \n",
            " \n"
          ]
        }
      ]
    },
    {
      "cell_type": "code",
      "source": [
        "n = 5 \n",
        "m = (2 * n) - 2  \n",
        "for i in range(0, n):\n",
        "  for j in range(0, m):\n",
        "    print(end=\" \")\n",
        "  m = m - 1   \n",
        "  for j in range(0, i + 1):  \n",
        "    print(\"*\", end=' ')  \n",
        "  print(\" \")"
      ],
      "metadata": {
        "id": "rMRftoXHb-G6"
      },
      "execution_count": null,
      "outputs": []
    },
    {
      "cell_type": "code",
      "source": [
        "a=\"usa north america\"\n",
        "b=\"usa south america\"\n",
        "for letter in a:\n",
        "  if letter in b:\n",
        "    print(letter,end='')"
      ],
      "metadata": {
        "colab": {
          "base_uri": "https://localhost:8080/"
        },
        "id": "GM75Ymn9i3VM",
        "outputId": "9c9a3096-744c-4b74-e303-58d844d8fbfa"
      },
      "execution_count": 102,
      "outputs": [
        {
          "output_type": "stream",
          "name": "stdout",
          "text": [
            "usa orth america"
          ]
        }
      ]
    },
    {
      "cell_type": "code",
      "source": [
        "a=\"surya mohan praju\"\n",
        "a.split()"
      ],
      "metadata": {
        "colab": {
          "base_uri": "https://localhost:8080/"
        },
        "id": "LZg6i7h4lW1Z",
        "outputId": "919cf528-fd71-4404-b073-c72ff6299754"
      },
      "execution_count": 103,
      "outputs": [
        {
          "output_type": "execute_result",
          "data": {
            "text/plain": [
              "['surya', 'mohan', 'praju']"
            ]
          },
          "metadata": {},
          "execution_count": 103
        }
      ]
    },
    {
      "cell_type": "code",
      "source": [
        "a=[1,2,3,4,5]\n",
        "a=[i+10 for i in a]\n",
        "print(a)"
      ],
      "metadata": {
        "colab": {
          "base_uri": "https://localhost:8080/"
        },
        "id": "-wRF0Iin73ch",
        "outputId": "e306d9c4-5724-40d6-e2d4-7ef217dfa13f"
      },
      "execution_count": 1,
      "outputs": [
        {
          "output_type": "stream",
          "name": "stdout",
          "text": [
            "[11, 12, 13, 14, 15]\n"
          ]
        }
      ]
    }
  ]
}
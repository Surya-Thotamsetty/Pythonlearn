{
  "nbformat": 4,
  "nbformat_minor": 0,
  "metadata": {
    "colab": {
      "provenance": [],
      "authorship_tag": "ABX9TyMfSQBYtr01X3h18SnrLaYp",
      "include_colab_link": true
    },
    "kernelspec": {
      "name": "python3",
      "display_name": "Python 3"
    },
    "language_info": {
      "name": "python"
    }
  },
  "cells": [
    {
      "cell_type": "markdown",
      "metadata": {
        "id": "view-in-github",
        "colab_type": "text"
      },
      "source": [
        "<a href=\"https://colab.research.google.com/github/Surya-Thotamsetty/Pythonlearn/blob/main/PYTHON_DAY_2_LAB.ipynb\" target=\"_parent\"><img src=\"https://colab.research.google.com/assets/colab-badge.svg\" alt=\"Open In Colab\"/></a>"
      ]
    },
    {
      "cell_type": "code",
      "execution_count": null,
      "metadata": {
        "colab": {
          "base_uri": "https://localhost:8080/"
        },
        "id": "nhZASmqByB5l",
        "outputId": "5beabbed-38e7-41a7-9367-4e7a632792db"
      },
      "outputs": [
        {
          "output_type": "stream",
          "name": "stdout",
          "text": [
            "enter the radius of the circle5\n",
            "31.41592653589793\n",
            "78.53981633974483\n"
          ]
        }
      ],
      "source": [
        "from math import pi \n",
        "r=int(input(\"enter the radius of the circle\"))\n",
        "area=2*pi*r\n",
        "circumferance=pi*r*r\n",
        "print(area)\n",
        "print(circumferance)\n",
        "  "
      ]
    },
    {
      "cell_type": "code",
      "source": [
        "#write a program to calculate the salary of a medical representative considering the sales bonus and Incentives offered to his are based on the total sales. \n",
        "#if the sales exceed or equal to 1,00,000 follow the particulars of Colam 1, else follow Column\n",
        "\n",
        "sales=int(input(\"enter the sales \"))\n",
        "if sales>=100000:\n",
        "  print(\"your total salary is\",4000+(10*4000/100)+(110*4000/100)+500+(4*100000/100)+500)\n",
        "else:\n",
        "  print(\"your total salary is\",4000+(20*4000/100)+(110*4000/100)+500+(10*100000/100)+1000)\n"
      ],
      "metadata": {
        "colab": {
          "base_uri": "https://localhost:8080/"
        },
        "id": "hsaBkxT5y7id",
        "outputId": "b571292c-9224-4aba-91dd-033d86648a89"
      },
      "execution_count": null,
      "outputs": [
        {
          "output_type": "stream",
          "name": "stdout",
          "text": [
            "enter the sales 200000\n",
            "your total salary is 13800.0\n"
          ]
        }
      ]
    },
    {
      "cell_type": "code",
      "source": [
        "#write a program to find if a number is divisible by 5 and 10 or by 5 or 10\n",
        "\n",
        "num=int(input(\"enter a number\"))\n",
        "if num%5==0 and num%10==0:\n",
        "  print(\"the number is divisible by 5 and 10\")\n",
        "elif num%5==0 or num%10==0:\n",
        "  print(\"the number is divisible by 5 or 10\")\n",
        "else:\n",
        "  print(\"\")"
      ],
      "metadata": {
        "colab": {
          "base_uri": "https://localhost:8080/"
        },
        "id": "L0D2vgxC4FAF",
        "outputId": "922f79ba-e106-41e9-f6fe-66c14876b6ba"
      },
      "execution_count": null,
      "outputs": [
        {
          "output_type": "stream",
          "name": "stdout",
          "text": [
            "enter a number45\n",
            "the number is divisible by 5 or 10\n"
          ]
        }
      ]
    },
    {
      "cell_type": "code",
      "source": [
        "#write a program to count 10 consecutive numbers using while loop from 1\n",
        "a=1\n",
        "while a<=10:\n",
        "  print(a)\n",
        "  a=a+1\n",
        "\n"
      ],
      "metadata": {
        "colab": {
          "base_uri": "https://localhost:8080/"
        },
        "id": "75CxYUNc54-w",
        "outputId": "79ff8e7b-e3ad-4a4f-aba3-834817a204ef"
      },
      "execution_count": null,
      "outputs": [
        {
          "output_type": "stream",
          "name": "stdout",
          "text": [
            "1\n",
            "2\n",
            "3\n",
            "4\n",
            "5\n",
            "6\n",
            "7\n",
            "8\n",
            "9\n",
            "10\n"
          ]
        }
      ]
    },
    {
      "cell_type": "code",
      "source": [
        "num=int(input(\"enter a number\"))\n",
        "\n",
        "r1=(num%10)\n",
        "n1=(num//10)\n",
        "r2=(n1%10)\n",
        "n2=(n1//10)\n",
        "r3=(n2%10)\n",
        "n3=(n2//10)\n",
        "r4=(n3%10)\n",
        "n4=(n3//10)\n",
        "print(r1+r2+r3+r4)\n",
        "\n"
      ],
      "metadata": {
        "colab": {
          "base_uri": "https://localhost:8080/"
        },
        "id": "ukSk-kiGDRc-",
        "outputId": "7ecca867-b85a-4c54-ff53-2931cd618f2b"
      },
      "execution_count": null,
      "outputs": [
        {
          "output_type": "stream",
          "name": "stdout",
          "text": [
            "enter a number1234\n",
            "10\n"
          ]
        }
      ]
    },
    {
      "cell_type": "code",
      "source": [
        "x=int(input())\n",
        "sum=0\n",
        "while x:\n",
        "  dig=x%10\n",
        "  x=x//10\n",
        "  sum=sum+dig\n",
        "print(sum)"
      ],
      "metadata": {
        "colab": {
          "base_uri": "https://localhost:8080/"
        },
        "id": "Z3O6VZdeDYWD",
        "outputId": "6c5802dd-b087-4f1d-b8f2-4ae3e39f1694"
      },
      "execution_count": null,
      "outputs": [
        {
          "output_type": "stream",
          "name": "stdout",
          "text": [
            "1234\n",
            "10\n"
          ]
        }
      ]
    },
    {
      "cell_type": "code",
      "source": [
        "#print sum of numbers from 1 to 20 divisible by 5 using while\n",
        "\n",
        "sum=0\n",
        "count=1\n",
        "while count<=20:\n",
        "  if count%5==0:\n",
        "    sum=sum+count\n",
        "  count=count+1\n",
        "print(sum)"
      ],
      "metadata": {
        "colab": {
          "base_uri": "https://localhost:8080/"
        },
        "id": "pRY98yOqF4VZ",
        "outputId": "c551d6e0-77eb-48db-8282-ba54b3661a15"
      },
      "execution_count": null,
      "outputs": [
        {
          "output_type": "stream",
          "name": "stdout",
          "text": [
            "50\n"
          ]
        }
      ]
    },
    {
      "cell_type": "code",
      "source": [
        "a=int(input(\"enter a number\"))\n",
        "for i in range(a+1):\n",
        "  print(i**2)\n",
        "\n"
      ],
      "metadata": {
        "colab": {
          "base_uri": "https://localhost:8080/"
        },
        "id": "bHk1DWJ5JImp",
        "outputId": "2923f2ea-8364-4308-93be-eb831a84b4d4"
      },
      "execution_count": null,
      "outputs": [
        {
          "output_type": "stream",
          "name": "stdout",
          "text": [
            "enter a number5\n",
            "0\n",
            "1\n",
            "4\n",
            "9\n",
            "16\n",
            "25\n"
          ]
        }
      ]
    },
    {
      "cell_type": "code",
      "source": [
        "a=int(input(\"enter a number\"))\n",
        "b=int(input(\"enter a number\"))\n",
        "c=int(input(\"enter a number\"))\n",
        "d=int(input(\"enter a number\"))\n",
        "if a>=b and a>=c and a>=d:\n",
        "  print(\"a is greatest\")\n",
        "elif b>=a and b>=c and b>=d:\n",
        "  print(\"b is greatest\")\n",
        "elif c>=a and c>=b and c>=d:\n",
        "  print(\"c is greatest\")\n",
        "elif d>=a and d>=b and d>=c:\n",
        "  print(\"d is greatest\")"
      ],
      "metadata": {
        "colab": {
          "base_uri": "https://localhost:8080/"
        },
        "id": "J3EByJbq2NSh",
        "outputId": "38de4f01-96c8-4354-85e1-53a6cc0e85fc"
      },
      "execution_count": null,
      "outputs": [
        {
          "output_type": "stream",
          "name": "stdout",
          "text": [
            "enter a number3\n",
            "enter a number4\n",
            "enter a number5\n",
            "enter a number6\n",
            "d is greatest\n"
          ]
        }
      ]
    },
    {
      "cell_type": "code",
      "source": [
        "a=int(input(\"enter a number\"))\n",
        "b=int(input(\"enter a number\"))\n",
        "c=int(input(\"enter a number\"))\n",
        "d=int(input(\"enter a number\"))\n",
        "sum=a+b+c+d\n",
        "print(\"sum is\", sum)\n",
        "for i in range(sum):\n",
        "  if i==a or i==b or i==c or i==d:\n",
        "    large=i\n",
        "print(\"large is\", large)"
      ],
      "metadata": {
        "colab": {
          "base_uri": "https://localhost:8080/"
        },
        "id": "qM9tVjdw2TzI",
        "outputId": "f46b0fa6-667a-4b16-ff9c-966e72a7a0e4"
      },
      "execution_count": null,
      "outputs": [
        {
          "output_type": "stream",
          "name": "stdout",
          "text": [
            "enter a number4\n",
            "enter a number5\n",
            "enter a number6\n",
            "enter a number7\n",
            "sum is 22\n",
            "large is 7\n"
          ]
        }
      ]
    }
  ]
}
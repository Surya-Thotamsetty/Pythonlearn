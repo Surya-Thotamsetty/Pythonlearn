{
  "nbformat": 4,
  "nbformat_minor": 0,
  "metadata": {
    "colab": {
      "provenance": [],
      "authorship_tag": "ABX9TyMryHVFsbHceAGfVz9U1hi3",
      "include_colab_link": true
    },
    "kernelspec": {
      "name": "python3",
      "display_name": "Python 3"
    },
    "language_info": {
      "name": "python"
    }
  },
  "cells": [
    {
      "cell_type": "markdown",
      "metadata": {
        "id": "view-in-github",
        "colab_type": "text"
      },
      "source": [
        "<a href=\"https://colab.research.google.com/github/Surya-Thotamsetty/Pythonlearn/blob/main/python_day2_.ipynb\" target=\"_parent\"><img src=\"https://colab.research.google.com/assets/colab-badge.svg\" alt=\"Open In Colab\"/></a>"
      ]
    },
    {
      "cell_type": "code",
      "execution_count": 4,
      "metadata": {
        "colab": {
          "base_uri": "https://localhost:8080/"
        },
        "id": "iX-t0jtirb9t",
        "outputId": "a692825f-f65b-451f-ee6b-d8411462a131"
      },
      "outputs": [
        {
          "output_type": "stream",
          "name": "stdout",
          "text": [
            "enter a mmovie name sye\n",
            "i love that movie\n",
            "BTW why are we talking about movies\n"
          ]
        }
      ],
      "source": [
        "               #if and else condition\n",
        "\n",
        "movie=input(\"enter a mmovie name \")\n",
        "if movie==\"bambolenath\":\n",
        "  print(\"i dont think such movie exists\")\n",
        "else:\n",
        "  print(\"i love that movie\")\n",
        "print(\"BTW why are we talking about movies\")"
      ]
    },
    {
      "cell_type": "code",
      "source": [
        "budget=int(input(\"enter a number\"))\n",
        "if budget>=60000:\n",
        "  print(\"i will go to dubai\")\n",
        "else:\n",
        "  print(\"i will go home\")\n",
        "print(\"manam goa pothunnam\")"
      ],
      "metadata": {
        "colab": {
          "base_uri": "https://localhost:8080/"
        },
        "id": "nKaA8tJpsiNH",
        "outputId": "2b2b08cd-b22b-4fd3-ff96-fa4854a1366b"
      },
      "execution_count": 5,
      "outputs": [
        {
          "output_type": "stream",
          "name": "stdout",
          "text": [
            "enter a number5000\n",
            "i will go home\n",
            "manam goa pothunnam\n"
          ]
        }
      ]
    },
    {
      "cell_type": "code",
      "source": [
        "num=int(input())\n",
        "if num:\n",
        "  print(\"false\")\n",
        "print(\"this will execute\")"
      ],
      "metadata": {
        "colab": {
          "base_uri": "https://localhost:8080/"
        },
        "id": "Sv9nFueetyWm",
        "outputId": "d8eb5d60-5529-4e68-e572-57271dfe76dd"
      },
      "execution_count": 8,
      "outputs": [
        {
          "output_type": "stream",
          "name": "stdout",
          "text": [
            "9\n",
            "false\n",
            "this will execute\n"
          ]
        }
      ]
    },
    {
      "cell_type": "code",
      "source": [
        "a=int(input(\"enter a number\"))\n",
        "if a==0:\n",
        "  print(\"zero\")\n",
        "elif a==1:\n",
        "  print(\"one\")\n",
        "elif a==2:\n",
        "  print(\"two\")\n",
        "elif a==3:\n",
        "  print(\"three\")\n",
        "elif a==4:\n",
        "  print(\"four\")\n",
        "elif a==5:\n",
        "  print(\"five\")\n",
        "elif a==6:\n",
        "  print(\"six\")\n",
        "elif a==7:\n",
        "  print(\"seven\")\n",
        "elif a==8:\n",
        "  print(\"eight\")\n",
        "elif a==9:\n",
        "  print(\"nine\")\n",
        "elif a==10:\n",
        "  print(\"ten\")\n",
        "else:\n",
        "  print(\"the number is not given\")"
      ],
      "metadata": {
        "colab": {
          "base_uri": "https://localhost:8080/"
        },
        "id": "HtGNPJY3uaro",
        "outputId": "d9bb1252-2442-4a2f-fee4-624e808a2cb1"
      },
      "execution_count": 10,
      "outputs": [
        {
          "output_type": "stream",
          "name": "stdout",
          "text": [
            "enter a number13\n",
            "the number is not given\n"
          ]
        }
      ]
    },
    {
      "cell_type": "code",
      "source": [
        "         #Positive or negative\n",
        "num=int(input(\"enter a number\"))\n",
        "if num%7==0:\n",
        "  print(\"it is divisible by 7\")\n",
        "else:\n",
        "  print(\"it is not divisible by 7\")"
      ],
      "metadata": {
        "colab": {
          "base_uri": "https://localhost:8080/"
        },
        "id": "PSa6TVJEv5NQ",
        "outputId": "13360a0f-c91a-49da-8a01-f6150fd7843d"
      },
      "execution_count": 12,
      "outputs": [
        {
          "output_type": "stream",
          "name": "stdout",
          "text": [
            "enter a number6\n",
            "it is not divisible by 7\n"
          ]
        }
      ]
    },
    {
      "cell_type": "code",
      "source": [
        "num=int(input(\"enter a number\"))\n",
        "for i in range(1,21):\n",
        "  print(num,'x',i,'=',num*i)\n"
      ],
      "metadata": {
        "colab": {
          "base_uri": "https://localhost:8080/"
        },
        "id": "jyWLjkd6wrrc",
        "outputId": "0d5ca108-e8e2-455e-c1f5-2bf5d6c2788e"
      },
      "execution_count": 80,
      "outputs": [
        {
          "output_type": "stream",
          "name": "stdout",
          "text": [
            "enter a number7\n",
            "7 x 1 = 7\n",
            "7 x 2 = 14\n",
            "7 x 3 = 21\n",
            "7 x 4 = 28\n",
            "7 x 5 = 35\n",
            "7 x 6 = 42\n",
            "7 x 7 = 49\n",
            "7 x 8 = 56\n",
            "7 x 9 = 63\n",
            "7 x 10 = 70\n",
            "7 x 11 = 77\n",
            "7 x 12 = 84\n",
            "7 x 13 = 91\n",
            "7 x 14 = 98\n",
            "7 x 15 = 105\n",
            "7 x 16 = 112\n",
            "7 x 17 = 119\n",
            "7 x 18 = 126\n",
            "7 x 19 = 133\n",
            "7 x 20 = 140\n"
          ]
        }
      ]
    },
    {
      "cell_type": "code",
      "source": [
        "num1=int(input(\"enter a number\"))\n",
        "num2=int(input(\"enter a number\"))\n",
        "num3=int(input(\"enter a number\"))\n",
        "if num1>num2>num3:\n",
        "  print(\"{} is greater than {} is greater than {}\".format(num1,num2,num3))\n",
        "elif num2>num3>num1:\n",
        "  print(\"{} is greater than {} is greater than{}\".format(num2,num3,num1))\n",
        "elif num3>num1>num2:\n",
        "  print(\"{} is greater than {} is greater than{}\".format(num3,num1,num2))\n",
        "else:\n",
        "  print(\"the order is not specified\")"
      ],
      "metadata": {
        "colab": {
          "base_uri": "https://localhost:8080/"
        },
        "id": "fTCVCf7bx49j",
        "outputId": "f3c808c5-705c-47a9-d861-8572abea493f"
      },
      "execution_count": 22,
      "outputs": [
        {
          "output_type": "stream",
          "name": "stdout",
          "text": [
            "enter a number54\n",
            "enter a number66\n",
            "enter a number23\n",
            "the order is not specified\n"
          ]
        }
      ]
    },
    {
      "cell_type": "code",
      "source": [
        "num1=int(input(\"enter a number\"))\n",
        "num2=int(input(\"enter a number\"))\n",
        "num3=int(input(\"enter a number\"))\n",
        "if num1>num2 and num1>num3:\n",
        "  print(\"{} is greater\".format(num1))\n",
        "elif num2>num3 and num2>num1:\n",
        "  print(\"{} is greater\".format(num2))\n",
        "else:\n",
        "  print(\"{} is greater\".format(num3))"
      ],
      "metadata": {
        "colab": {
          "base_uri": "https://localhost:8080/"
        },
        "id": "uw037O_D0_xQ",
        "outputId": "07ee5159-0585-4a77-ba84-bd838aac73ad"
      },
      "execution_count": 24,
      "outputs": [
        {
          "output_type": "stream",
          "name": "stdout",
          "text": [
            "enter a number45\n",
            "enter a number32\n",
            "enter a number65\n",
            "65 is greater\n"
          ]
        }
      ]
    },
    {
      "cell_type": "code",
      "source": [
        "grade=int(input(\"enter the marks\"))\n",
        "if grade>=80 and grade<=100:\n",
        "  print(\"o grade\")\n",
        "elif grade>=60 and grade<=79:\n",
        "  print(\"a grade\")\n",
        "elif grade>=40 and grade<=59:\n",
        "  print(\"b grade\")\n",
        "elif grade>=35 and grade<=39:\n",
        "  print(\"p \")\n",
        "elif grade<35:\n",
        "  print(\"f\")\n",
        "else:\n",
        "  print(\"no such marks\")"
      ],
      "metadata": {
        "colab": {
          "base_uri": "https://localhost:8080/"
        },
        "id": "_RIHYR3X1WAn",
        "outputId": "310e8f11-1f65-4c52-9f0c-af2e1e21a687"
      },
      "execution_count": 31,
      "outputs": [
        {
          "output_type": "stream",
          "name": "stdout",
          "text": [
            "enter the marks6\n",
            "f\n"
          ]
        }
      ]
    },
    {
      "cell_type": "code",
      "source": [
        "a=input(\"enter smtg \")\n",
        "\n",
        "print(\"{} is the best song till date\".format(a)) if a==\"dandalions\" else print(\"its an ok song\") if a==\"night chaanges\" else print(\" it's  a great song\")"
      ],
      "metadata": {
        "colab": {
          "base_uri": "https://localhost:8080/"
        },
        "id": "PMnxp9nQ3tIL",
        "outputId": "832168ea-2b43-4506-9b0d-4bbf510392ae"
      },
      "execution_count": 34,
      "outputs": [
        {
          "output_type": "stream",
          "name": "stdout",
          "text": [
            "enter a smtg night changes\n",
            " it's  a great song\n"
          ]
        }
      ]
    },
    {
      "cell_type": "code",
      "source": [
        "              #if else statements in a sigle line         this does not support elif\n",
        "\n",
        "a=int(input(\"enter a number\"))\n",
        "b=int(input(\"enter a number\"))\n",
        "c=int(input(\"enter a number\"))\n",
        "d=int(input(\"enter a number\"))\n",
        "print(\"a is greater\") if a>b and a>c and a>d else print(\"b is greater\") if b>c and b>a and b>d else(print (\"c is greater\")) if c>a and c>b and c>d else print(\"d {} is greater\".format(d))"
      ],
      "metadata": {
        "colab": {
          "base_uri": "https://localhost:8080/"
        },
        "id": "24eR4Z5t5nLZ",
        "outputId": "e0248d38-c924-4fb1-fda0-f45e45ab8c16"
      },
      "execution_count": 41,
      "outputs": [
        {
          "output_type": "stream",
          "name": "stdout",
          "text": [
            "enter a number65\n",
            "enter a number43\n",
            "enter a number54\n",
            "enter a number4567\n",
            "d 4567 is greater\n"
          ]
        }
      ]
    },
    {
      "cell_type": "code",
      "source": [
        "             #loops\n",
        "#while loops\n",
        "a=0\n",
        "while a<5:\n",
        "  \n",
        "  print(\"woahh🔥\")\n",
        "  a=a+1\n",
        "\n"
      ],
      "metadata": {
        "colab": {
          "base_uri": "https://localhost:8080/"
        },
        "id": "bipabowa9DzW",
        "outputId": "2672c160-98c6-475d-9fa9-fae6b3ef4350"
      },
      "execution_count": 58,
      "outputs": [
        {
          "output_type": "stream",
          "name": "stdout",
          "text": [
            "woahh🔥\n",
            "woahh🔥\n",
            "woahh🔥\n",
            "woahh🔥\n",
            "woahh🔥\n"
          ]
        }
      ]
    },
    {
      "cell_type": "code",
      "source": [
        "            #for loops can be used with else            list[]     tuple()\n",
        "n=6\n",
        "for i in range(n):\n",
        "  print(\"surya\")\n",
        "for i in range(0,n):\n",
        "  #print(i)\n",
        "  i=i+8\n",
        "  print(i)\n",
        "for i in range(0,n,2):\n",
        "  print(i)"
      ],
      "metadata": {
        "colab": {
          "base_uri": "https://localhost:8080/"
        },
        "id": "VnrsodNMLUsT",
        "outputId": "b0066e5a-d060-4ad1-ea83-ed849e532b84"
      },
      "execution_count": 53,
      "outputs": [
        {
          "output_type": "stream",
          "name": "stdout",
          "text": [
            "surya\n",
            "surya\n",
            "surya\n",
            "surya\n",
            "surya\n",
            "surya\n",
            "8\n",
            "9\n",
            "10\n",
            "11\n",
            "12\n",
            "13\n",
            "0\n",
            "2\n",
            "4\n"
          ]
        }
      ]
    },
    {
      "cell_type": "code",
      "source": [
        "a=\"surya\"\n",
        "for i in a:\n",
        "  print(i)\n",
        "else:\n",
        "  print(\"surya\")"
      ],
      "metadata": {
        "colab": {
          "base_uri": "https://localhost:8080/"
        },
        "id": "Xt4We_MgMu85",
        "outputId": "d473c17a-1d17-4c7a-bab1-29e50747c7ca"
      },
      "execution_count": 57,
      "outputs": [
        {
          "output_type": "stream",
          "name": "stdout",
          "text": [
            "s\n",
            "u\n",
            "r\n",
            "y\n",
            "a\n",
            "surya\n"
          ]
        }
      ]
    },
    {
      "cell_type": "code",
      "source": [
        "            #nested loops\n",
        "\n",
        "for i in range(1,6):\n",
        "  for j in range(i):\n",
        "    print(i,end='')\n",
        "  print()"
      ],
      "metadata": {
        "colab": {
          "base_uri": "https://localhost:8080/"
        },
        "id": "Ni-nlbVkO1nj",
        "outputId": "50cbc3da-694b-4604-cb7f-56b77de4d73d"
      },
      "execution_count": 59,
      "outputs": [
        {
          "output_type": "stream",
          "name": "stdout",
          "text": [
            "1\n",
            "22\n",
            "333\n",
            "4444\n",
            "55555\n"
          ]
        }
      ]
    },
    {
      "cell_type": "code",
      "source": [
        "          #break\n",
        "\n",
        "count=0\n",
        "while count<=10:\n",
        "  print(count)\n",
        "  count+=1\n",
        "  if count==4:\n",
        "    break"
      ],
      "metadata": {
        "colab": {
          "base_uri": "https://localhost:8080/"
        },
        "id": "RaLuzBlFTP5B",
        "outputId": "78469f1e-4af3-48d5-d572-fb996811f688"
      },
      "execution_count": 60,
      "outputs": [
        {
          "output_type": "stream",
          "name": "stdout",
          "text": [
            "0\n",
            "1\n",
            "2\n",
            "3\n"
          ]
        }
      ]
    },
    {
      "cell_type": "code",
      "source": [
        "           #continue\n",
        "\n",
        "count=0\n",
        "while count<=10:\n",
        "  count+=1\n",
        "  print(count)\n",
        "  if count==4:\n",
        "    continue"
      ],
      "metadata": {
        "colab": {
          "base_uri": "https://localhost:8080/"
        },
        "id": "fMgdyXJSTji8",
        "outputId": "5927f9f1-3b30-4c25-957a-651d680bc680"
      },
      "execution_count": 61,
      "outputs": [
        {
          "output_type": "stream",
          "name": "stdout",
          "text": [
            "1\n",
            "2\n",
            "3\n",
            "4\n",
            "5\n",
            "6\n",
            "7\n",
            "8\n",
            "9\n",
            "10\n",
            "11\n"
          ]
        }
      ]
    },
    {
      "cell_type": "code",
      "source": [
        "for i in range(1,6):\n",
        "  for j in range(i):\n",
        "    print('*',end='')\n",
        "    i=i+1\n",
        "  print()"
      ],
      "metadata": {
        "colab": {
          "base_uri": "https://localhost:8080/"
        },
        "id": "WjU4GAXGWuXQ",
        "outputId": "75ad4f9b-cb96-4c9c-b6bd-8fa878d78dfe"
      },
      "execution_count": 67,
      "outputs": [
        {
          "output_type": "stream",
          "name": "stdout",
          "text": [
            "*\n",
            "**\n",
            "***\n",
            "****\n",
            "*****\n"
          ]
        }
      ]
    },
    {
      "cell_type": "code",
      "source": [
        "time=(input(\"enter the time\"))\n",
        "if time==\"1 hour\":\n",
        "  print(\"20 rupees\")\n",
        "elif time==\"half hour\":\n",
        "  print(\"10 rupees\")\n",
        "else:\n",
        "  print(\"100 rupees\")"
      ],
      "metadata": {
        "colab": {
          "base_uri": "https://localhost:8080/"
        },
        "id": "9ayPkjTzYZM8",
        "outputId": "c9dd4dbe-c085-455d-94b4-f8ee35b2ae78"
      },
      "execution_count": 76,
      "outputs": [
        {
          "output_type": "stream",
          "name": "stdout",
          "text": [
            "enter the time56\n",
            "100 rupees\n"
          ]
        }
      ]
    },
    {
      "cell_type": "code",
      "source": [
        "a=float(input(\"Enter the hours : \"))\n",
        "if a==0.5:\n",
        "  print(\"10 rupees\")\n",
        "elif a==1:\n",
        "  print(\" 20 rupees\")\n",
        "else:\n",
        "  print(\" 100 rupees\")"
      ],
      "metadata": {
        "colab": {
          "base_uri": "https://localhost:8080/"
        },
        "id": "-s5ZgN0hbVug",
        "outputId": "e08878f6-d9ac-49c0-be70-ff275f9b0755"
      },
      "execution_count": 77,
      "outputs": [
        {
          "output_type": "stream",
          "name": "stdout",
          "text": [
            "Enter the number : 0.5\n",
            "10 rupees\n"
          ]
        }
      ]
    },
    {
      "cell_type": "code",
      "source": [],
      "metadata": {
        "id": "FWX-0JHXtcQb"
      },
      "execution_count": null,
      "outputs": []
    }
  ]
}
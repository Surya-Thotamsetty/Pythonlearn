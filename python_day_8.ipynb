{
  "nbformat": 4,
  "nbformat_minor": 0,
  "metadata": {
    "colab": {
      "provenance": [],
      "authorship_tag": "ABX9TyOPHu2hqEnCNVSPPD1K99lr",
      "include_colab_link": true
    },
    "kernelspec": {
      "name": "python3",
      "display_name": "Python 3"
    },
    "language_info": {
      "name": "python"
    }
  },
  "cells": [
    {
      "cell_type": "markdown",
      "metadata": {
        "id": "view-in-github",
        "colab_type": "text"
      },
      "source": [
        "<a href=\"https://colab.research.google.com/github/Surya-Thotamsetty/Pythonlearn/blob/main/python_day_8.ipynb\" target=\"_parent\"><img src=\"https://colab.research.google.com/assets/colab-badge.svg\" alt=\"Open In Colab\"/></a>"
      ]
    },
    {
      "cell_type": "code",
      "execution_count": null,
      "metadata": {
        "colab": {
          "base_uri": "https://localhost:8080/"
        },
        "id": "gTCUKA3p3412",
        "outputId": "56a88efe-3678-4988-f09c-c77af638bf7f"
      },
      "outputs": [
        {
          "output_type": "stream",
          "name": "stdout",
          "text": [
            "0\n",
            "0\n"
          ]
        }
      ],
      "source": [
        "class rec:\n",
        "  length=0;\n",
        "  breadth=0;\n",
        "r=rec()\n",
        "print(r.length)\n",
        "print(r.breadth)"
      ]
    },
    {
      "cell_type": "code",
      "source": [
        "class rec:\n",
        "  len=0;\n",
        "  bre=0;\n",
        "r=rec()\n",
        "print(\"len is= \",r.len)\n",
        "print(\"bre is= \",r.bre)\n",
        "print(\"area of rec is \",r.len*r.bre)\n",
        "r.len=20;\n",
        "r.bre=45;\n",
        "print(\"len is= \",r.len)\n",
        "print(\"bre is= \",r.bre)\n",
        "print(\"area of rec is \",r.len*r.bre)"
      ],
      "metadata": {
        "colab": {
          "base_uri": "https://localhost:8080/"
        },
        "id": "8WSuSNSK7wfm",
        "outputId": "68c77e67-695a-47ac-fee7-c4655360b9c2"
      },
      "execution_count": null,
      "outputs": [
        {
          "output_type": "stream",
          "name": "stdout",
          "text": [
            "len is=  0\n",
            "bre is=  0\n",
            "area of rec is  0\n",
            "len is=  20\n",
            "bre is=  45\n",
            "area of rec is  900\n"
          ]
        }
      ]
    },
    {
      "cell_type": "code",
      "source": [
        "class stu:\n",
        "  name='surya'\n",
        "  age=20\n",
        "a=stu()\n",
        "print(getattr(a,'name'))\n",
        "print(hasattr(a,'age'))\n",
        "print(hasattr(a,'place'))\n",
        "setattr(a,'phno',84353442456)\n",
        "print(getattr(a,'phno'))\n",
        "delattr(a,'phno')"
      ],
      "metadata": {
        "colab": {
          "base_uri": "https://localhost:8080/"
        },
        "id": "_HFFg-yw8eEI",
        "outputId": "168ba732-9760-4a20-8e16-916e3fb98c49"
      },
      "execution_count": null,
      "outputs": [
        {
          "output_type": "stream",
          "name": "stdout",
          "text": [
            "surya\n",
            "True\n",
            "False\n",
            "84353442456\n"
          ]
        }
      ]
    },
    {
      "cell_type": "code",
      "source": [
        "class MethodDemo:\n",
        "  def Displaymessage(self):\n",
        "    print(\"Welcome to python programming\")\n",
        "obj1=MethodDemo() # instance of a class \n",
        "obj1.Displaymessage()  # calling method"
      ],
      "metadata": {
        "colab": {
          "base_uri": "https://localhost:8080/"
        },
        "id": "G-2ZrHQlAMgg",
        "outputId": "99632e07-75c3-4aee-f9f1-e7da33ab1169"
      },
      "execution_count": null,
      "outputs": [
        {
          "output_type": "stream",
          "name": "stdout",
          "text": [
            "Welcome to python programming\n"
          ]
        }
      ]
    },
    {
      "cell_type": "code",
      "source": [
        "class Prac:\n",
        "  x=5\n",
        "  def disp(self,x):\n",
        "    x=30\n",
        "    print('the value of local variable x is',x)\n",
        "    print('The value of instance variable x is',x)\n",
        "ob=Prac()\n",
        "ob.disp(50)"
      ],
      "metadata": {
        "colab": {
          "base_uri": "https://localhost:8080/"
        },
        "id": "ModGBLehCDxf",
        "outputId": "9d068f5c-a996-4bbb-c398-575a9a735705"
      },
      "execution_count": null,
      "outputs": [
        {
          "output_type": "stream",
          "name": "stdout",
          "text": [
            "the value of local variable x is 30\n",
            "The value of instance variable x is 30\n"
          ]
        }
      ]
    },
    {
      "cell_type": "code",
      "source": [
        "import math\n",
        "class Circle:\n",
        "  def Calc_Area(self,radius):\n",
        "    print('radius=',radius)\n",
        "    return math.pi*radius**2\n",
        "obj1=Circle()\n",
        "print('Area of circle is',obj1.Calc_Area(5))\n"
      ],
      "metadata": {
        "colab": {
          "base_uri": "https://localhost:8080/"
        },
        "id": "OHDni-FdFgt5",
        "outputId": "5a683873-94a2-48b5-b790-72e8939b3486"
      },
      "execution_count": null,
      "outputs": [
        {
          "output_type": "stream",
          "name": "stdout",
          "text": [
            "radius= 5\n",
            "Area of circle is 78.53981633974483\n"
          ]
        }
      ]
    },
    {
      "cell_type": "code",
      "source": [
        "class MethodDemo:\n",
        "  def Displaymessage(self):\n",
        "    print(\"Welcome to python programming\")\n",
        "obj1=MethodDemo() # instance of a class \n",
        "obj1.Displaymessage()  # calling method"
      ],
      "metadata": {
        "colab": {
          "base_uri": "https://localhost:8080/"
        },
        "id": "hUetJPQNFiX7",
        "outputId": "0c510fe6-fe1f-4598-9f6e-774eef13cefb"
      },
      "execution_count": null,
      "outputs": [
        {
          "output_type": "stream",
          "name": "stdout",
          "text": [
            "Welcome to python programming\n"
          ]
        }
      ]
    },
    {
      "cell_type": "code",
      "source": [
        "class MethodDemo:\n",
        "  def Displaymessage(self):\n",
        "    print(\"Welcome to python programming\")\n",
        "obj1=MethodDemo() # instance of a class \n",
        "obj1.Displaymessage()  # calling method"
      ],
      "metadata": {
        "colab": {
          "base_uri": "https://localhost:8080/"
        },
        "id": "7-HODg1_FwSG",
        "outputId": "3d1d1a50-6ed4-4aad-d1fb-59cea72afb17"
      },
      "execution_count": null,
      "outputs": [
        {
          "output_type": "stream",
          "name": "stdout",
          "text": [
            "Welcome to python programming\n"
          ]
        }
      ]
    },
    {
      "cell_type": "code",
      "source": [
        "class Self_Demo:\n",
        "  def Method_A(self):\n",
        "    print('In Method A')\n",
        "    print('wow got a called from A!!')\n",
        "  def Method_B(self):\n",
        "    print('in method B calling method A')\n",
        "    self.Method_A()\n",
        "Q=Self_Demo()\n",
        "Q.Method_B()"
      ],
      "metadata": {
        "colab": {
          "base_uri": "https://localhost:8080/"
        },
        "id": "oJ5br37GHY5A",
        "outputId": "89dcf782-3ab1-4697-aafe-619a4a5be6ec"
      },
      "execution_count": null,
      "outputs": [
        {
          "output_type": "stream",
          "name": "stdout",
          "text": [
            "in method B calling method A\n",
            "In Method A\n",
            "wow got a called from A!!\n"
          ]
        }
      ]
    },
    {
      "cell_type": "code",
      "source": [
        "class DisplayDemo:\n",
        "  Name=' '; #Attribute\n",
        "  Age=\" \"; # Attribute\n",
        "  def read(self):\n",
        "    Name=input('Enter the name of the student:')\n",
        "    print('Name= ',Name)\n",
        "    Age=input('Enter age of the Student')\n",
        "    print('Age =',Age)\n",
        "D1 = DisplayDemo()\n",
        "D1.read()\n",
        "(dir(DisplayDemo))"
      ],
      "metadata": {
        "colab": {
          "base_uri": "https://localhost:8080/"
        },
        "id": "axQF-_KbKvoi",
        "outputId": "fc5add39-1107-474a-ff3c-bf26581a867c"
      },
      "execution_count": null,
      "outputs": [
        {
          "output_type": "stream",
          "name": "stdout",
          "text": [
            "Enter the name of the student:surya\n",
            "Name=  surya\n",
            "Enter age of the Student34\n",
            "Age = 34\n"
          ]
        },
        {
          "output_type": "execute_result",
          "data": {
            "text/plain": [
              "['Age',\n",
              " 'Name',\n",
              " '__class__',\n",
              " '__delattr__',\n",
              " '__dict__',\n",
              " '__dir__',\n",
              " '__doc__',\n",
              " '__eq__',\n",
              " '__format__',\n",
              " '__ge__',\n",
              " '__getattribute__',\n",
              " '__gt__',\n",
              " '__hash__',\n",
              " '__init__',\n",
              " '__init_subclass__',\n",
              " '__le__',\n",
              " '__lt__',\n",
              " '__module__',\n",
              " '__ne__',\n",
              " '__new__',\n",
              " '__reduce__',\n",
              " '__reduce_ex__',\n",
              " '__repr__',\n",
              " '__setattr__',\n",
              " '__sizeof__',\n",
              " '__str__',\n",
              " '__subclasshook__',\n",
              " '__weakref__',\n",
              " 'read']"
            ]
          },
          "metadata": {},
          "execution_count": 10
        }
      ]
    },
    {
      "cell_type": "code",
      "source": [
        "class Circle:\n",
        "  pi=0;\n",
        "  radius=0;\n",
        "  def _init_(self):\n",
        "    self.pi=3.14\n",
        "    self.radius=5\n",
        "  def calc_area(self):\n",
        "    print('Radius=',self.radius)\n",
        "    return self.pi*self.radius**2\n",
        "c1=Circle()\n",
        "print(\"The area of Circle is\",c1.calc_area())"
      ],
      "metadata": {
        "colab": {
          "base_uri": "https://localhost:8080/"
        },
        "id": "sLxoeUEOV_JM",
        "outputId": "57915a47-3734-40f0-e33e-7549dd14f9ee"
      },
      "execution_count": null,
      "outputs": [
        {
          "output_type": "stream",
          "name": "stdout",
          "text": [
            "Radius= 0\n",
            "The area of Circle is 0\n"
          ]
        }
      ]
    },
    {
      "cell_type": "code",
      "source": [
        "class box:\n",
        "  w=0;\n",
        "  h=0;\n",
        "  d=0;\n",
        "  v=0;\n",
        "  def __init__(self):\n",
        "    self.w=5\n",
        "    self.h=5\n",
        "    self.d=5\n",
        "  def cal_vol(self):\n",
        "    print(\"weidth= \",self.w)\n",
        "    print(\"height= \",self.h)\n",
        "    print(\"depth= \",self.d)\n",
        "    return self.w*self.h*self.d\n",
        "b=box()\n",
        "print(\"volume is = \",b.cal_vol())"
      ],
      "metadata": {
        "colab": {
          "base_uri": "https://localhost:8080/"
        },
        "id": "s5IY3-WHXawp",
        "outputId": "389bbb64-07d5-4da2-86eb-e4dbb156ee76"
      },
      "execution_count": null,
      "outputs": [
        {
          "output_type": "stream",
          "name": "stdout",
          "text": [
            "weidth=  5\n",
            "height=  5\n",
            "depth=  5\n",
            "volume is =  125\n"
          ]
        }
      ]
    },
    {
      "cell_type": "code",
      "source": [
        "class test:\n",
        "  a=0\n",
        "  b=0\n",
        "  def __init__(self,x,y):\n",
        "    self.a=x\n",
        "    self.b=y\n",
        "  def equals(self,obj):\n",
        "    if(obj.a==self.a and obj.b==self.b):\n",
        "      return True\n",
        "    else:\n",
        "      return False\n",
        "obj1=test(10,344)\n",
        "obj2=test(10,344)\n",
        "obj3=test(34,56)\n",
        "print(obj1.equals(obj2))\n",
        "print(obj1.equals(obj3))"
      ],
      "metadata": {
        "colab": {
          "base_uri": "https://localhost:8080/"
        },
        "id": "dvO24m8gaIyU",
        "outputId": "6ce4f654-d45e-481e-f782-3c4cae62fdb1"
      },
      "execution_count": null,
      "outputs": [
        {
          "output_type": "stream",
          "name": "stdout",
          "text": [
            "True\n",
            "False\n"
          ]
        }
      ]
    },
    {
      "cell_type": "code",
      "source": [
        "class Test:\n",
        "  a = 0\n",
        "  b = 0\n",
        "  def __init__(self, x, y):\n",
        "    self.a=x\n",
        "    self.b=y\n",
        "  def equals(self, obj):\n",
        "    if (obj.a == self.a and obj.b == self.b):\n",
        "      return True\n",
        "    else:\n",
        "      return False\n",
        "obj1=Test(10,20)\n",
        "obj2=Test(10,20)\n",
        "obj3=Test(12,90)\n",
        "print(' Obj1 == Obj2', obj1.equals (obj2))\n",
        "print(' Obj1 == Obj3 ',obj1.equals(obj3))"
      ],
      "metadata": {
        "colab": {
          "base_uri": "https://localhost:8080/"
        },
        "id": "zRjsfxT1bXVY",
        "outputId": "bf60bb4c-17c2-4dab-bb07-14f4a3ff2f9c"
      },
      "execution_count": null,
      "outputs": [
        {
          "output_type": "stream",
          "name": "stdout",
          "text": [
            " Obj1 == Obj2 True\n",
            " Obj1 == Obj3  False\n"
          ]
        }
      ]
    },
    {
      "cell_type": "code",
      "source": [
        "class rec:\n",
        "  l=0;\n",
        "  b=0;\n",
        "  def __init__(self,l,b):\n",
        "    self.len=l\n",
        "    self.bre=b\n",
        "  def calc_area(self,obj):\n",
        "    return obj.len*obj.bre\n",
        "obj=rec(10,30)\n",
        "print(obj.calc_area(obj))"
      ],
      "metadata": {
        "colab": {
          "base_uri": "https://localhost:8080/"
        },
        "id": "zyb_TDkEcdG7",
        "outputId": "05c26979-cd1d-479d-e753-a0b077625071"
      },
      "execution_count": null,
      "outputs": [
        {
          "output_type": "stream",
          "name": "stdout",
          "text": [
            "300\n"
          ]
        }
      ]
    },
    {
      "cell_type": "code",
      "source": [
        "# Write a prog to illustrae the use of del method\n",
        "class Destructor_Demo:\n",
        "  def _init_(self):\n",
        "    print('Welcome')\n",
        "  def _del_(self):\n",
        "    print('Destructor executed successfully')\n",
        "ob1=Destructor_Demo()\n",
        "ob2=ob1\n",
        "ob3=ob1\n",
        "print(\"id of ob1=\",id(ob1))\n",
        "print(\"id of ob2=\",id(ob2))\n",
        "print(\"id of ob3=\",id(ob3))\n",
        "del ob1\n",
        "del ob2"
      ],
      "metadata": {
        "colab": {
          "base_uri": "https://localhost:8080/"
        },
        "id": "qff6cIQDeLrf",
        "outputId": "e4afe360-544e-41b6-aa0b-0930942bd6a4"
      },
      "execution_count": null,
      "outputs": [
        {
          "output_type": "stream",
          "name": "stdout",
          "text": [
            "id of ob1= 139940248612528\n",
            "id of ob2= 139940248612528\n",
            "id of ob3= 139940248612528\n"
          ]
        }
      ]
    },
    {
      "cell_type": "code",
      "source": [
        "class A:\n",
        "  pass\n",
        "class B:\n",
        "  pass\n",
        "class C:\n",
        "  pass\n",
        "Ob1=A()\n",
        "Ob2=B()\n",
        "Ob3=C()\n",
        "print(isinstance(Ob1, A))\n",
        "print(isinstance(Ob1, B))\n",
        "print(isinstance(Ob2, B))\n",
        "print(isinstance(Ob2, C))\n",
        "print(isinstance(Ob3, B))\n",
        "print(isinstance(Ob3, C))"
      ],
      "metadata": {
        "colab": {
          "base_uri": "https://localhost:8080/"
        },
        "id": "nerzU5aVetZR",
        "outputId": "9a38c2a5-48c3-4269-e58b-089b9a8971ad"
      },
      "execution_count": null,
      "outputs": [
        {
          "output_type": "stream",
          "name": "stdout",
          "text": [
            "True\n",
            "False\n",
            "True\n",
            "False\n",
            "False\n",
            "True\n"
          ]
        }
      ]
    },
    {
      "cell_type": "code",
      "source": [
        "#Write a program on Method Overloading in python \n",
        "class Demo:\n",
        "  result=0\n",
        "  def add(self,instanceOf=None, *args):\n",
        "    if instanceOf == 'init':\n",
        "      self.result=0\n",
        "    if instanceOf == 'str':\n",
        "      self.result=\" \"\n",
        "    for i in args:\n",
        "      self.result = self.result+i\n",
        "    return self.result\n",
        "D1=Demo()\n",
        "print(D1.add('int',12,34,56))\n",
        "print(D1.add('str','Keer ','playing ','the ','game'))"
      ],
      "metadata": {
        "colab": {
          "base_uri": "https://localhost:8080/"
        },
        "id": "QbEbVeHGmSt8",
        "outputId": "65e364d3-0eae-4a73-8312-aa462cf8ae87"
      },
      "execution_count": null,
      "outputs": [
        {
          "output_type": "stream",
          "name": "stdout",
          "text": [
            "102\n",
            " Keer playing the game\n"
          ]
        }
      ]
    },
    {
      "cell_type": "code",
      "source": [
        "def is_leap(year):\n",
        "    leap = False\n",
        "    \n",
        "    if year%4!=0:\n",
        "        \n",
        "    \n",
        "        return leap\n",
        "    else:\n",
        "        return True\n",
        "\n",
        "year = int(input())\n",
        "print(is_leap(year))"
      ],
      "metadata": {
        "colab": {
          "base_uri": "https://localhost:8080/"
        },
        "id": "3eb8ODwumSxB",
        "outputId": "89a78ac4-ef03-4c3a-f1b4-eefe8a204b9a"
      },
      "execution_count": null,
      "outputs": [
        {
          "output_type": "stream",
          "name": "stdout",
          "text": [
            "3434\n",
            "False\n"
          ]
        }
      ]
    },
    {
      "cell_type": "code",
      "source": [
        "def is_leap(year):\n",
        "    leap = False\n",
        "    if year<=1900 and year>=10**5:\n",
        "        if year%4!=0:\n",
        "            \n",
        "        \n",
        "            return leap\n",
        "        else:\n",
        "            return True\n",
        "\n",
        "year = int(input())\n",
        "print(is_leap(year))\n"
      ],
      "metadata": {
        "colab": {
          "base_uri": "https://localhost:8080/"
        },
        "id": "1EgtOSJfnISH",
        "outputId": "a4d9c34e-4c4e-4023-9be3-d3f90b1eb541"
      },
      "execution_count": null,
      "outputs": [
        {
          "output_type": "stream",
          "name": "stdout",
          "text": [
            "2100\n",
            "None\n"
          ]
        }
      ]
    },
    {
      "cell_type": "code",
      "source": [
        "def is_leap(year):\n",
        "    leap = False\n",
        "    if year>=1900 and year<=10**5:\n",
        "        if year%400==0:\n",
        "            \n",
        "        \n",
        "            return True\n",
        "        elif year%4==0 and year%100!=0: \n",
        "            return True\n",
        "            \n",
        "        else:\n",
        "            return False\n",
        "    else:\n",
        "        return False        \n",
        "\n",
        "year = int(input())\n",
        "print(is_leap(year))"
      ],
      "metadata": {
        "colab": {
          "base_uri": "https://localhost:8080/"
        },
        "id": "8i1Lj6q3oZJ3",
        "outputId": "7a5d2902-2819-4f2f-d315-3d434b85ccfd"
      },
      "execution_count": null,
      "outputs": [
        {
          "output_type": "stream",
          "name": "stdout",
          "text": [
            "2000\n",
            "True\n"
          ]
        }
      ]
    },
    {
      "cell_type": "code",
      "source": [
        "a=int(input())\n",
        "\n",
        "for i in range(1,a+1):\n",
        "    if a>=1 and a<=150:\n",
        "        print(i,end='')\n",
        "    else:\n",
        "        print()\n",
        "    "
      ],
      "metadata": {
        "colab": {
          "base_uri": "https://localhost:8080/"
        },
        "id": "e52cAnq9roZh",
        "outputId": "c9532e8b-2df2-4294-f12a-5b6c5c244c44"
      },
      "execution_count": null,
      "outputs": [
        {
          "output_type": "stream",
          "name": "stdout",
          "text": [
            "5\n",
            "12345"
          ]
        }
      ]
    },
    {
      "cell_type": "code",
      "source": [],
      "metadata": {
        "id": "M-PSVkoGAMH5"
      },
      "execution_count": null,
      "outputs": []
    }
  ]
}
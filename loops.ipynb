{
  "nbformat": 4,
  "nbformat_minor": 0,
  "metadata": {
    "colab": {
      "provenance": [],
      "authorship_tag": "ABX9TyPNFgjadow2h0Rh3Io0AMZX",
      "include_colab_link": true
    },
    "kernelspec": {
      "name": "python3",
      "display_name": "Python 3"
    },
    "language_info": {
      "name": "python"
    }
  },
  "cells": [
    {
      "cell_type": "markdown",
      "metadata": {
        "id": "view-in-github",
        "colab_type": "text"
      },
      "source": [
        "<a href=\"https://colab.research.google.com/github/Surya-Thotamsetty/Pythonlearn/blob/main/loops.ipynb\" target=\"_parent\"><img src=\"https://colab.research.google.com/assets/colab-badge.svg\" alt=\"Open In Colab\"/></a>"
      ]
    },
    {
      "cell_type": "code",
      "execution_count": null,
      "metadata": {
        "colab": {
          "base_uri": "https://localhost:8080/"
        },
        "id": "ct09vERsLgFp",
        "outputId": "e9f481b1-11f6-47c2-8c23-97c9389fcf3b"
      },
      "outputs": [
        {
          "output_type": "stream",
          "name": "stdout",
          "text": [
            "*\n",
            "**\n",
            "***\n",
            "****\n",
            "*****\n"
          ]
        }
      ],
      "source": [
        "i=1\n",
        "while i<=5:\n",
        "  print(\"*\" * i)\n",
        "  i=i+1"
      ]
    },
    {
      "cell_type": "code",
      "source": [
        "#secret number game\n",
        "secret_number=int(input(\"enter the secret number \"))\n",
        "chances=3\n",
        "while chances>0:\n",
        "  chances=chances-1\n",
        "  guess_number=int(input(\"guess the secret number \"))\n",
        "  if secret_number==guess_number:\n",
        "    print(\"u r right\")\n",
        "    break;\n",
        "  else:\n",
        "    print(\"u r wrong\")"
      ],
      "metadata": {
        "colab": {
          "base_uri": "https://localhost:8080/"
        },
        "id": "tzDYIRS6PZBv",
        "outputId": "c659e597-598a-4c71-ccb7-c7e1edf4bb01"
      },
      "execution_count": null,
      "outputs": [
        {
          "output_type": "stream",
          "name": "stdout",
          "text": [
            "enter the secret number 54\n",
            "guess the secret number 5\n",
            "u r wrong\n",
            "guess the secret number 4\n",
            "u r wrong\n",
            "guess the secret number 54\n",
            "u r right\n"
          ]
        }
      ]
    },
    {
      "cell_type": "code",
      "source": [
        "#car program\n",
        "user=input(\"what do u want \")\n",
        "if user==(\"start\" or \"START\"):\n",
        "  print(\"start- to start the car\")\n",
        "elif user==(\"stop\" or \"STOP\"):\n",
        "  print(\"stop- to stop the car\")\n",
        "elif user==(\"quit\" or \"QUIT\"):\n",
        "  print(\"quit- to quit\")\n",
        "elif user==(\"help\"):\n",
        "  print('''\n",
        "  start-to start the car\n",
        "  stop- to stop the car\n",
        "  quit- to quit''')\n",
        "else:\n",
        "  print(\"i dont understand\")"
      ],
      "metadata": {
        "colab": {
          "base_uri": "https://localhost:8080/"
        },
        "id": "H2yGVjLvPfVq",
        "outputId": "71036556-38d6-4833-ba25-a4d223e4ebee"
      },
      "execution_count": null,
      "outputs": [
        {
          "output_type": "stream",
          "name": "stdout",
          "text": [
            "what do u wantstart\n",
            "start- to start the car\n"
          ]
        }
      ]
    },
    {
      "cell_type": "code",
      "source": [
        "#car program using while and not repeating commands\n",
        "command=\"\"\n",
        "started= False\n",
        "while True:\n",
        "  command=input(\"> \").lower()\n",
        "  if command==(\"start\"):\n",
        "    if started:\n",
        "      print(\"car already started\")\n",
        "    else:\n",
        "      started=True\n",
        "      print(\"to start \")\n",
        "  elif command==(\"stop\"):\n",
        "    if not started:\n",
        "      print(\"car already stopped\")\n",
        "    else:\n",
        "      started=False\n",
        "      print(\"to stop\")\n",
        "  elif command==(\"quit\"):\n",
        "    print(\"to quit\")\n",
        "    break;\n",
        "  elif command==(\"help\"):\n",
        "    print('''\n",
        "start- to start\n",
        "stop- to stop\n",
        "exit- to quit''')\n",
        "  else:\n",
        "    print(\"i dont understand\")"
      ],
      "metadata": {
        "colab": {
          "base_uri": "https://localhost:8080/"
        },
        "id": "FK5KO47gPiB2",
        "outputId": "70cb2a13-75ea-478a-e6e4-71e6afe9d917"
      },
      "execution_count": null,
      "outputs": [
        {
          "output_type": "stream",
          "name": "stdout",
          "text": [
            "> stop\n",
            "car already stopped\n",
            "> start\n",
            "to start \n",
            "> help\n",
            "\n",
            "start- to start\n",
            "stop- to stop\n",
            "exit- to quit\n",
            "> quit\n",
            "to quit\n"
          ]
        }
      ]
    },
    {
      "cell_type": "code",
      "source": [
        "                                        #for loops"
      ],
      "metadata": {
        "id": "_bJBVqV7Qhct"
      },
      "execution_count": null,
      "outputs": []
    },
    {
      "cell_type": "code",
      "source": [
        "x=int(input(\"enter the range\"))\n",
        "list=[]\n",
        "for i in range (0,x):\n",
        "  a=int(input(\"enter the numbers\"))\n",
        "  list.append(a)\n",
        "print(sum(list))\n",
        "print(list)"
      ],
      "metadata": {
        "id": "15XGt4o2QqG8",
        "colab": {
          "base_uri": "https://localhost:8080/"
        },
        "outputId": "f358dd2c-a3d5-43d6-8102-c7a8f21c0563"
      },
      "execution_count": 20,
      "outputs": [
        {
          "output_type": "stream",
          "name": "stdout",
          "text": [
            "enter the range2\n",
            "enter the numbers4\n",
            "enter the numbers7\n",
            "11\n",
            "[4, 7]\n"
          ]
        }
      ]
    },
    {
      "cell_type": "code",
      "source": [
        "x=int(input(\"enter the range\"))\n",
        "l=[]\n",
        "bill=0\n",
        "for i in range(0,x):\n",
        "  price=int(input(\"enter the price\"))\n",
        "  l.append(price)\n",
        "  bill=bill+price\n",
        "print(\"price of individual dresses is\" , l)\n",
        "print(\"total price is\", bill)"
      ],
      "metadata": {
        "colab": {
          "base_uri": "https://localhost:8080/"
        },
        "id": "MsNfojbPZpit",
        "outputId": "b17375f3-1461-49f3-d761-53fd80cb4087"
      },
      "execution_count": 23,
      "outputs": [
        {
          "output_type": "stream",
          "name": "stdout",
          "text": [
            "enter the range2\n",
            "enter the price3\n",
            "enter the price5\n",
            "price of individual dresses is [3, 5]\n",
            "total price is 8\n"
          ]
        }
      ]
    }
  ]
}
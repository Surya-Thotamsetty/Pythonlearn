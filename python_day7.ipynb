{
  "nbformat": 4,
  "nbformat_minor": 0,
  "metadata": {
    "colab": {
      "provenance": [],
      "authorship_tag": "ABX9TyMPZoERcNQJuzxM6XLDZvgh",
      "include_colab_link": true
    },
    "kernelspec": {
      "name": "python3",
      "display_name": "Python 3"
    },
    "language_info": {
      "name": "python"
    }
  },
  "cells": [
    {
      "cell_type": "markdown",
      "metadata": {
        "id": "view-in-github",
        "colab_type": "text"
      },
      "source": [
        "<a href=\"https://colab.research.google.com/github/Surya-Thotamsetty/Pythonlearn/blob/main/python_day7.ipynb\" target=\"_parent\"><img src=\"https://colab.research.google.com/assets/colab-badge.svg\" alt=\"Open In Colab\"/></a>"
      ]
    },
    {
      "cell_type": "code",
      "execution_count": null,
      "metadata": {
        "colab": {
          "base_uri": "https://localhost:8080/"
        },
        "id": "YtYday34u7f6",
        "outputId": "7cbaf531-ab8d-4e61-e57a-073d6f92e430"
      },
      "outputs": [
        {
          "output_type": "stream",
          "name": "stdout",
          "text": [
            "i love python\n"
          ]
        }
      ],
      "source": [
        "a=open(\"py sur.txt\",\"r\")\n",
        "print(a.read())\n"
      ]
    },
    {
      "cell_type": "code",
      "source": [
        "def main():\n",
        "  b=int(input())\n",
        "  a=open(\"surya.txt\",\"w\")\n",
        "  a.write(\"just kidding i just started learning python \\n\")\n",
        "  a.write(\"join the session by {} o clock...\".format(b))\n",
        "  a.close()\n",
        "main()"
      ],
      "metadata": {
        "colab": {
          "base_uri": "https://localhost:8080/"
        },
        "id": "T47Mr2ad4ieX",
        "outputId": "154dda25-cf17-46aa-c99c-0703bd34a95f"
      },
      "execution_count": null,
      "outputs": [
        {
          "name": "stdout",
          "output_type": "stream",
          "text": [
            "4\n"
          ]
        }
      ]
    },
    {
      "cell_type": "code",
      "source": [
        "def main():\n",
        "  a=open(\"chanty.txt\",\"w\")\n",
        "  for x in range(1,21):\n",
        "    x=str(x)\n",
        "    a.write(x)\n",
        "  a.close()\n",
        "main()"
      ],
      "metadata": {
        "id": "s6_ZSk3X7RL9"
      },
      "execution_count": null,
      "outputs": []
    },
    {
      "cell_type": "code",
      "source": [
        "from random import randint \n",
        "\n",
        "a=open(\"chanty1.txt\",\"w\")\n",
        "for x in range(51):\n",
        "  x=randint(500,1001)\n",
        "  x=str(x)\n",
        "  a.write(x+\" \")\n",
        "\n",
        "a.close()\n"
      ],
      "metadata": {
        "id": "7rKkyPbh8QdP"
      },
      "execution_count": null,
      "outputs": []
    },
    {
      "cell_type": "code",
      "source": [
        "a=open(\"surya.txt\",\"r\")\n",
        "for line in a:\n",
        "  print(line)"
      ],
      "metadata": {
        "colab": {
          "base_uri": "https://localhost:8080/"
        },
        "id": "Fin7rIVM-vE-",
        "outputId": "ea7fb02f-c93e-4305-eba9-dda3312d60ae"
      },
      "execution_count": null,
      "outputs": [
        {
          "output_type": "stream",
          "name": "stdout",
          "text": [
            "just kidding i just started learning python \n",
            "\n",
            "join the session by 4 o clock...\n"
          ]
        }
      ]
    },
    {
      "cell_type": "code",
      "source": [
        "a=open(\"surya.txt\",\"r\")\n",
        "b=a.read()\n",
        "print(b)\n",
        "print(type(b))"
      ],
      "metadata": {
        "colab": {
          "base_uri": "https://localhost:8080/"
        },
        "id": "DDLyEJVEAgNV",
        "outputId": "161b079a-966b-4ad4-a85a-b225986ccc0a"
      },
      "execution_count": null,
      "outputs": [
        {
          "output_type": "stream",
          "name": "stdout",
          "text": [
            "\n",
            "<class 'str'>\n"
          ]
        }
      ]
    },
    {
      "cell_type": "code",
      "source": [
        "a=open(\"numbers.txt\",\"r\")\n",
        "num=int(a.readline())\n",
        "print(num)\n",
        "sum=0\n",
        "print(\"the\",num,\"present is the file are:\")\n",
        "for i in range(num):\n",
        "  num1=int(a.readline())\n",
        "  print(num1)\n",
        "  sum=sum+num\n",
        "print(sum)"
      ],
      "metadata": {
        "colab": {
          "base_uri": "https://localhost:8080/"
        },
        "id": "tF6HIbElCL76",
        "outputId": "d9e77405-f20e-42fd-9802-498fabe6b875"
      },
      "execution_count": null,
      "outputs": [
        {
          "output_type": "stream",
          "name": "stdout",
          "text": [
            "3\n",
            "the 3 present is the file are:\n",
            "34\n",
            "56\n",
            "32\n",
            "9\n"
          ]
        }
      ]
    },
    {
      "cell_type": "code",
      "source": [
        "s=\"i love python python loves me\"\n",
        "print(s.split())\n",
        "for i in range(len(s)):\n",
        "  print(s[i])"
      ],
      "metadata": {
        "colab": {
          "base_uri": "https://localhost:8080/"
        },
        "id": "2PwBKTxTLPav",
        "outputId": "3a9018b9-a2ef-4c3b-a16a-9bd63e75ec24"
      },
      "execution_count": null,
      "outputs": [
        {
          "output_type": "stream",
          "name": "stdout",
          "text": [
            "['i', 'love', 'python', 'python', 'loves', 'me']\n",
            "i\n",
            " \n",
            "l\n",
            "o\n",
            "v\n",
            "e\n",
            " \n",
            "p\n",
            "y\n",
            "t\n",
            "h\n",
            "o\n",
            "n\n",
            " \n",
            "p\n",
            "y\n",
            "t\n",
            "h\n",
            "o\n",
            "n\n",
            " \n",
            "l\n",
            "o\n",
            "v\n",
            "e\n",
            "s\n",
            " \n",
            "m\n",
            "e\n"
          ]
        }
      ]
    },
    {
      "cell_type": "code",
      "source": [
        "a=open(\"marks.txt\",\"r\")\n",
        "n=int(a.readline())\n",
        "print(\"total stu: \",n)\n",
        "for i in range(n):\n",
        "  print(\"student \",i+1,end='')\n",
        "  allgrades=(a.readline().split())\n",
        "  print(allgrades)\n",
        "  sum=0\n",
        "  for j in range(len(allgrades)):\n",
        "    sum=sum+int(allgrades[j])\n",
        "    percent=float((sum/500)*100)\n",
        "  print(\"total =\",sum,\"\\n percentage = \",percent)\n",
        "  print(\"\\n\")"
      ],
      "metadata": {
        "colab": {
          "base_uri": "https://localhost:8080/"
        },
        "id": "njy-tDcRMbEa",
        "outputId": "c38ad374-802f-49f7-beb1-0b2e7f908fd6"
      },
      "execution_count": null,
      "outputs": [
        {
          "output_type": "stream",
          "name": "stdout",
          "text": [
            "total stu:  5\n",
            "student  1['67', '56', '43', '56', '34']\n",
            "total = 256 \n",
            " percentage =  51.2\n",
            "\n",
            "\n",
            "student  2['34', '24', '53', '32', '56']\n",
            "total = 199 \n",
            " percentage =  39.800000000000004\n",
            "\n",
            "\n",
            "student  3['45', '65', '43', '42', '65']\n",
            "total = 260 \n",
            " percentage =  52.0\n",
            "\n",
            "\n",
            "student  4['46', '43', '56', '43', '34']\n",
            "total = 222 \n",
            " percentage =  44.4\n",
            "\n",
            "\n",
            "student  5['45', '43', '65', '43', '45']\n",
            "total = 241 \n",
            " percentage =  48.199999999999996\n",
            "\n",
            "\n"
          ]
        }
      ]
    },
    {
      "cell_type": "code",
      "source": [
        "a=open(\"text.txt\",\"r\")\n",
        "b=a.readline()\n",
        "d=a.read()\n",
        "print(d)\n",
        "print(b)\n",
        "c=b.count(\"\")\n",
        "print(c)\n",
        "e=d.count(\"\")\n",
        "print(e)"
      ],
      "metadata": {
        "colab": {
          "base_uri": "https://localhost:8080/"
        },
        "id": "XMkItHnUQhEl",
        "outputId": "ed7d44b5-2b06-46d4-9b36-992d7c2ffdcd"
      },
      "execution_count": null,
      "outputs": [
        {
          "output_type": "stream",
          "name": "stdout",
          "text": [
            "\n",
            "How to use:\n",
            "\n",
            "1. choose your text or image that would be like to be copy to other device by putting your text in the following text box, or just copy your text or image.\n",
            "\n",
            "2. Send your text or image to Online Clipboard by the following button.\n",
            "\n",
            "3. At the other device, retrieve your text or image from Online Clipboard by entering your code.\n",
            "Online Clipboard is free online tool that help you to copy and paste between devices. It allows you to copy text or image.\n",
            "\n",
            "124\n",
            "341\n"
          ]
        }
      ]
    },
    {
      "cell_type": "code",
      "source": [
        "def Find_largest(fp1):\n",
        "  fp1=open('text.txt','r')\n",
        "  long=\" \" #Assume Longest Line=0\n",
        "  L=0\n",
        "  count=0\n",
        "  for line in fp1:\n",
        "    count=count+1\n",
        "    print('Line No:',count)\n",
        "    print(line)\n",
        "    print(\"Number of character=\",len(line))\n",
        "    print('-------------------------------')\n",
        "    if (len(line) > len(long)):\n",
        "      long=line\n",
        "      L=line\n",
        "    print(L,'is the largest Line with',len(long),'characters')\n",
        "fp=open('text.txt',\"r\")\n",
        "Find_largest(fp)"
      ],
      "metadata": {
        "colab": {
          "base_uri": "https://localhost:8080/"
        },
        "id": "b22GSpZhVHJ2",
        "outputId": "3021670b-c825-4036-eacd-19c6373f5104"
      },
      "execution_count": null,
      "outputs": [
        {
          "output_type": "stream",
          "name": "stdout",
          "text": [
            "Line No: 1\n",
            "Online Clipboard is free online tool that help you to copy and paste between devices. It allows you to copy text or image.\n",
            "\n",
            "Number of character= 123\n",
            "-------------------------------\n",
            "Online Clipboard is free online tool that help you to copy and paste between devices. It allows you to copy text or image.\n",
            " is the largest Line with 123 characters\n",
            "Line No: 2\n",
            "\n",
            "\n",
            "Number of character= 1\n",
            "-------------------------------\n",
            "Online Clipboard is free online tool that help you to copy and paste between devices. It allows you to copy text or image.\n",
            " is the largest Line with 123 characters\n",
            "Line No: 3\n",
            "How to use:\n",
            "\n",
            "Number of character= 12\n",
            "-------------------------------\n",
            "Online Clipboard is free online tool that help you to copy and paste between devices. It allows you to copy text or image.\n",
            " is the largest Line with 123 characters\n",
            "Line No: 4\n",
            "\n",
            "\n",
            "Number of character= 1\n",
            "-------------------------------\n",
            "Online Clipboard is free online tool that help you to copy and paste between devices. It allows you to copy text or image.\n",
            " is the largest Line with 123 characters\n",
            "Line No: 5\n",
            "1. choose your text or image that would be like to be copy to other device by putting your text in the following text box, or just copy your text or image.\n",
            "\n",
            "Number of character= 156\n",
            "-------------------------------\n",
            "1. choose your text or image that would be like to be copy to other device by putting your text in the following text box, or just copy your text or image.\n",
            " is the largest Line with 156 characters\n",
            "Line No: 6\n",
            "\n",
            "\n",
            "Number of character= 1\n",
            "-------------------------------\n",
            "1. choose your text or image that would be like to be copy to other device by putting your text in the following text box, or just copy your text or image.\n",
            " is the largest Line with 156 characters\n",
            "Line No: 7\n",
            "2. Send your text or image to Online Clipboard by the following button.\n",
            "\n",
            "Number of character= 72\n",
            "-------------------------------\n",
            "1. choose your text or image that would be like to be copy to other device by putting your text in the following text box, or just copy your text or image.\n",
            " is the largest Line with 156 characters\n",
            "Line No: 8\n",
            "\n",
            "\n",
            "Number of character= 1\n",
            "-------------------------------\n",
            "1. choose your text or image that would be like to be copy to other device by putting your text in the following text box, or just copy your text or image.\n",
            " is the largest Line with 156 characters\n",
            "Line No: 9\n",
            "3. At the other device, retrieve your text or image from Online Clipboard by entering your code.\n",
            "Number of character= 96\n",
            "-------------------------------\n",
            "1. choose your text or image that would be like to be copy to other device by putting your text in the following text box, or just copy your text or image.\n",
            " is the largest Line with 156 characters\n"
          ]
        }
      ]
    },
    {
      "cell_type": "code",
      "source": [
        "fp1=open(\"weekdays.txt\",\"w+\")\n",
        "fp1.write(\"Monday\\n\")\n",
        "fp1.write(\"tuesday\\n\")\n",
        "fp1.write(\"Wednesday\\n\")\n",
        "fp1.write(\"Thursday\\n\")\n",
        "fp1.write(\"Friday\\n\")\n",
        "fp1.seek(0)\n",
        "t=fp1.read()\n",
        "fp1.seek(0,2)\n",
        "fp1.write(\"Saturday\\n\")\n",
        "fp1.write(\"Sunday\\n\")\n",
        "fp1.seek(0)\n",
        "t=fp1.read()\n",
        "print(t)"
      ],
      "metadata": {
        "colab": {
          "base_uri": "https://localhost:8080/"
        },
        "id": "VahMx4PKV_wG",
        "outputId": "75122724-5623-408d-b38f-2ac4194dbf10"
      },
      "execution_count": null,
      "outputs": [
        {
          "output_type": "stream",
          "name": "stdout",
          "text": [
            "Monday\n",
            "tuesday\n",
            "Wednesday\n",
            "Thursday\n",
            "Friday\n",
            "Saturday\n",
            "Sunday\n",
            "\n"
          ]
        }
      ]
    },
    {
      "cell_type": "code",
      "source": [
        "def square(num):\n",
        "  return num*num\n",
        "a=map(square,[1,43,2,4])\n",
        "print(a)\n",
        "print(set(a))"
      ],
      "metadata": {
        "colab": {
          "base_uri": "https://localhost:8080/"
        },
        "id": "vICoBEPsz9WZ",
        "outputId": "1cd62a12-4fd8-4666-8a10-8f23f023b65d"
      },
      "execution_count": null,
      "outputs": [
        {
          "output_type": "stream",
          "name": "stdout",
          "text": [
            "<map object at 0x7f3460be9280>\n",
            "{16, 1, 4, 1849}\n"
          ]
        }
      ]
    },
    {
      "cell_type": "code",
      "source": [
        "def add(a,b):\n",
        "  return a+b\n",
        "l2=map(add,[1,2,3,4],[5,6,7,8])\n",
        "print(list(l2))"
      ],
      "metadata": {
        "colab": {
          "base_uri": "https://localhost:8080/"
        },
        "id": "TIAftct03tR8",
        "outputId": "ba6f4fa2-f817-460b-cfc3-c7ac5e6a8875"
      },
      "execution_count": null,
      "outputs": [
        {
          "output_type": "stream",
          "name": "stdout",
          "text": [
            "[6, 8, 10, 12]\n"
          ]
        }
      ]
    },
    {
      "cell_type": "code",
      "source": [
        "def square(num):\n",
        "  return num*num\n",
        "l1=map(square,[12,4,2,5])\n",
        "print(l1)\n",
        "print(set(l1))"
      ],
      "metadata": {
        "colab": {
          "base_uri": "https://localhost:8080/"
        },
        "id": "uEciJqDp4uj1",
        "outputId": "f9fdff19-9ea4-4614-fa58-ec54c0c4c143"
      },
      "execution_count": null,
      "outputs": [
        {
          "output_type": "stream",
          "name": "stdout",
          "text": [
            "<map object at 0x7f3460be9c10>\n",
            "{144, 16, 4, 25}\n"
          ]
        }
      ]
    },
    {
      "cell_type": "code",
      "source": [
        "def double(num):\n",
        "  if num%2==0:\n",
        "    return num+num\n",
        "  else:\n",
        "    return num\n",
        "print(list(map(double,[12,3,22,13,5,76])))"
      ],
      "metadata": {
        "colab": {
          "base_uri": "https://localhost:8080/"
        },
        "id": "MkgWKZyz41xb",
        "outputId": "27da88bf-e39a-4f65-aa82-d482bab46a8d"
      },
      "execution_count": null,
      "outputs": [
        {
          "output_type": "stream",
          "name": "stdout",
          "text": [
            "[24, 3, 44, 13, 5, 152]\n"
          ]
        }
      ]
    },
    {
      "cell_type": "code",
      "source": [
        "# Concatinate\n",
        "def concat(c1,c2):\n",
        "  return c1+c2\n",
        "\n",
        "print(list(map(concat,\"catty\",\"doggy\")))"
      ],
      "metadata": {
        "colab": {
          "base_uri": "https://localhost:8080/"
        },
        "id": "lSfuUiRL44YM",
        "outputId": "7c0c9e0e-d126-4d48-b6c6-338943b4ddc0"
      },
      "execution_count": null,
      "outputs": [
        {
          "output_type": "stream",
          "name": "stdout",
          "text": [
            "['cd', 'ao', 'tg', 'tg', 'yy']\n"
          ]
        }
      ]
    },
    {
      "cell_type": "code",
      "source": [
        "def concat(c1,c2):\n",
        "  return c1+c2\n",
        "print(list(map(concat,\"doggy\",\"catty\")))"
      ],
      "metadata": {
        "colab": {
          "base_uri": "https://localhost:8080/"
        },
        "id": "fDCIxjDB8Shn",
        "outputId": "fe0cc251-b06f-45c8-b95a-25d96a4cca74"
      },
      "execution_count": null,
      "outputs": [
        {
          "output_type": "stream",
          "name": "stdout",
          "text": [
            "['dc', 'oa', 'gt', 'gt', 'yy']\n"
          ]
        }
      ]
    },
    {
      "cell_type": "code",
      "source": [
        "#To find the sum of elements of a list\n",
        "from functools import reduce\n",
        "def sum(a,b):\n",
        "  return a+b\n",
        "\n",
        "res=reduce(sum,[1,2,3,4,5])\n",
        "print(res)"
      ],
      "metadata": {
        "colab": {
          "base_uri": "https://localhost:8080/"
        },
        "id": "GwVhrb628Ypi",
        "outputId": "45d4026b-4848-453c-92f6-99de85bf5381"
      },
      "execution_count": null,
      "outputs": [
        {
          "output_type": "stream",
          "name": "stdout",
          "text": [
            "15\n"
          ]
        }
      ]
    },
    {
      "cell_type": "code",
      "source": [
        "from functools import reduce\n",
        "def sum(a,b):\n",
        "  return a+b\n",
        "\n",
        "#using initailizer as 2\n",
        "res=reduce(sum,[1,2,3,4,5],2)\n",
        "print(res)"
      ],
      "metadata": {
        "colab": {
          "base_uri": "https://localhost:8080/"
        },
        "id": "FNJSa4Zf8atL",
        "outputId": "e911835d-d4ef-4236-e50b-c64728affddd"
      },
      "execution_count": null,
      "outputs": [
        {
          "output_type": "stream",
          "name": "stdout",
          "text": [
            "17\n"
          ]
        }
      ]
    },
    {
      "cell_type": "code",
      "source": [
        "from functools import reduce\n",
        "def check_num(a,b):\n",
        "  return a if a<b else b\n",
        "# using initializer as 1\n",
        "res=reduce(check_num,[15,2,3,4,5],1)\n",
        "print(res)"
      ],
      "metadata": {
        "colab": {
          "base_uri": "https://localhost:8080/"
        },
        "id": "3_G6DJq-9Ert",
        "outputId": "c5f81b79-0f5d-49c0-f6f8-445f1cdcf919"
      },
      "execution_count": null,
      "outputs": [
        {
          "output_type": "stream",
          "name": "stdout",
          "text": [
            "1\n"
          ]
        }
      ]
    },
    {
      "cell_type": "code",
      "source": [
        "def check_odd(num):\n",
        "  if num%2!=0:\n",
        "    return True\n",
        "  return False\n",
        "res=filter(check_odd,[12,3,45,7,6,6,54,23])\n",
        "print(list(res))"
      ],
      "metadata": {
        "colab": {
          "base_uri": "https://localhost:8080/"
        },
        "id": "bInelIgw_OIA",
        "outputId": "afd4b05b-7572-4a45-cbb3-899acae68162"
      },
      "execution_count": null,
      "outputs": [
        {
          "output_type": "stream",
          "name": "stdout",
          "text": [
            "[3, 45, 7, 23]\n"
          ]
        }
      ]
    },
    {
      "cell_type": "code",
      "source": [
        "def check_string(s1):\n",
        "  if len(s1)>5:\n",
        "    return s1\n",
        "print(list(filter(check_string,[\"Apple\",\"Cat\",\"Bat\",\"Doll\",\"Peacock\"])))"
      ],
      "metadata": {
        "id": "zM1Q_yWc_TJy",
        "outputId": "2961fb23-dfe8-499f-d6e3-1d37f1b21ed4",
        "colab": {
          "base_uri": "https://localhost:8080/"
        }
      },
      "execution_count": null,
      "outputs": [
        {
          "output_type": "stream",
          "name": "stdout",
          "text": [
            "['Peacock']\n"
          ]
        }
      ]
    },
    {
      "cell_type": "code",
      "source": [],
      "metadata": {
        "id": "F9OXyFPa_WQR"
      },
      "execution_count": null,
      "outputs": []
    }
  ]
}